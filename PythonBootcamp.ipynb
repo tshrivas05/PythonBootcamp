{
  "cells": [
    {
      "cell_type": "markdown",
      "id": "1419b6e1-a796-4cca-b433-335a3c0fa331",
      "metadata": {
        "tags": [],
        "id": "1419b6e1-a796-4cca-b433-335a3c0fa331"
      },
      "source": [
        "# Introduction to NumPy, Pandas, and Python Analytics\n",
        "Written By Trisha Shrivastava, Supplemented Material by Dr. John Bono\n",
        "\n",
        "\n",
        "**Welcome to BUFN400's Python Bootcamp! In this notebook, we will cover:**\n"
      ]
    },
    {
      "cell_type": "markdown",
      "source": [
        "## Data Processing and Analysis in Python"
      ],
      "metadata": {
        "id": "fMbD-TMd-KUR"
      },
      "id": "fMbD-TMd-KUR"
    },
    {
      "cell_type": "markdown",
      "source": [
        "### What are Pandas and NumPy?"
      ],
      "metadata": {
        "id": "_qrVAHs_B6ei"
      },
      "id": "_qrVAHs_B6ei"
    },
    {
      "cell_type": "markdown",
      "id": "e5f20b15-9ba1-46ef-8b7f-067e3ef9b3e7",
      "metadata": {
        "id": "e5f20b15-9ba1-46ef-8b7f-067e3ef9b3e7"
      },
      "source": [
        "#### A Brief Introduction to NumPy\n",
        "**NumPy (or Numerical Python)** is a library that specializes in making numerical computations faster (the speed comes from the library being built in C) which allows for easy shape manipulation, descriptive statistics, sorting, and filtering. The main highlight of this library is its ndarray (n-dimensional array)."
      ]
    },
    {
      "cell_type": "code",
      "source": [
        "# import numpy (commonly aliased as np)\n",
        "import numpy as np"
      ],
      "metadata": {
        "id": "iHBnnRib81dP"
      },
      "id": "iHBnnRib81dP",
      "execution_count": 18,
      "outputs": []
    },
    {
      "cell_type": "markdown",
      "id": "539e3d8f-fd24-407f-9c2d-b4e759288d8d",
      "metadata": {
        "id": "539e3d8f-fd24-407f-9c2d-b4e759288d8d"
      },
      "source": [
        "#### A Brief Introduction to Pandas\n",
        "**Pandas (or panel data)** is a library that specializes in data analysis and processing functionality for data in various forms (i.e. various data types). The highlights of this library are its series (a more advanced ndarray) and its dataframes (think excel spreadsheets in Python). "
      ]
    },
    {
      "cell_type": "code",
      "source": [
        "# import pandas (commonly aliased as pd)\n",
        "import pandas as pd"
      ],
      "metadata": {
        "id": "evzhUMco-Cdm"
      },
      "id": "evzhUMco-Cdm",
      "execution_count": 19,
      "outputs": []
    },
    {
      "cell_type": "markdown",
      "source": [
        "### Array Arithmetic"
      ],
      "metadata": {
        "id": "tNBT-wxQPdYe"
      },
      "id": "tNBT-wxQPdYe"
    },
    {
      "cell_type": "markdown",
      "source": [
        "Arrays, as previously mentioned, are known for their quick computational speed. There are two compelling arithmetic features of arrays **broadcasting** and **comparison** that can be done between arrays of compatible sizes and scalars."
      ],
      "metadata": {
        "id": "OAlCnBUYTd6r"
      },
      "id": "OAlCnBUYTd6r"
    },
    {
      "cell_type": "code",
      "source": [
        "# broadcasting example - scalar\n",
        "a1 = np.array([x for x in range(10)])\n",
        "a1 *= 2 #elementwise multiplication of 2\n",
        "print(a1)"
      ],
      "metadata": {
        "colab": {
          "base_uri": "https://localhost:8080/"
        },
        "id": "M38XQRMYU00k",
        "outputId": "11649a51-b27c-4ab7-d477-fa3dfb1cb8e8"
      },
      "id": "M38XQRMYU00k",
      "execution_count": 4,
      "outputs": [
        {
          "output_type": "stream",
          "name": "stdout",
          "text": [
            "[ 0  2  4  6  8 10 12 14 16 18]\n"
          ]
        }
      ]
    },
    {
      "cell_type": "code",
      "source": [
        "# broadcasting example - compatible arrays (1)\n",
        "a = np.array([1,2,3])\n",
        "b = np.array([4,5,6])\n",
        "\n",
        "print(a+b) #elementwise addition"
      ],
      "metadata": {
        "colab": {
          "base_uri": "https://localhost:8080/"
        },
        "id": "3EI0BsgzV5i9",
        "outputId": "63b453c8-ff16-4558-de45-8d656f1e36d1"
      },
      "id": "3EI0BsgzV5i9",
      "execution_count": 5,
      "outputs": [
        {
          "output_type": "stream",
          "name": "stdout",
          "text": [
            "[5 7 9]\n"
          ]
        }
      ]
    },
    {
      "cell_type": "code",
      "source": [
        "# broadcasting example - compatible arrays (2)\n",
        "a = np.array([1,2,3])\n",
        "c = np.array([[9,8,2],[7,1,5]])\n",
        "print(c+a)"
      ],
      "metadata": {
        "colab": {
          "base_uri": "https://localhost:8080/"
        },
        "id": "YYR0ozxoWMbV",
        "outputId": "79ab534a-2793-42de-f310-2d5e8588c457"
      },
      "id": "YYR0ozxoWMbV",
      "execution_count": null,
      "outputs": [
        {
          "output_type": "stream",
          "name": "stdout",
          "text": [
            "[[10 10  5]\n",
            " [ 8  3  8]]\n"
          ]
        }
      ]
    },
    {
      "cell_type": "code",
      "source": [
        "# comparison example - scalar\n",
        "c = np.array([[9,8,2],[7,1,5]])\n",
        "print(c > 6)"
      ],
      "metadata": {
        "colab": {
          "base_uri": "https://localhost:8080/"
        },
        "id": "7Kagtco-Wf81",
        "outputId": "16ce6d6b-0282-4cf5-aac0-52543bd09191"
      },
      "id": "7Kagtco-Wf81",
      "execution_count": null,
      "outputs": [
        {
          "output_type": "stream",
          "name": "stdout",
          "text": [
            "[[ True  True False]\n",
            " [ True False False]]\n"
          ]
        }
      ]
    },
    {
      "cell_type": "code",
      "source": [
        "# comparison example - compatible arrays\n",
        "b = np.array([4,5,6])\n",
        "c = np.array([[9,8,2],[7,1,5]])\n",
        "print(c < b)"
      ],
      "metadata": {
        "colab": {
          "base_uri": "https://localhost:8080/"
        },
        "id": "H5sk8-pEWxTD",
        "outputId": "5b28fbfa-c1d0-4463-e39f-60be818ed818"
      },
      "id": "H5sk8-pEWxTD",
      "execution_count": null,
      "outputs": [
        {
          "output_type": "stream",
          "name": "stdout",
          "text": [
            "[[False False  True]\n",
            " [False  True  True]]\n"
          ]
        }
      ]
    },
    {
      "cell_type": "code",
      "source": [
        "# TRY IT YOURSELF -- create a 2 dimensional ndarray of numbers 1-6\n",
        "# square all of the values \n",
        "# print out the values thats squares are at most 16\n"
      ],
      "metadata": {
        "id": "q2AGoWNdXD39"
      },
      "id": "q2AGoWNdXD39",
      "execution_count": null,
      "outputs": []
    },
    {
      "cell_type": "markdown",
      "source": [
        "Given that Pandas is built off of NumPy, these arithmetic attributes also apply to Series and DataFrames!"
      ],
      "metadata": {
        "id": "sNhQvd_NYt2I"
      },
      "id": "sNhQvd_NYt2I"
    },
    {
      "cell_type": "markdown",
      "source": [
        "### Creating a Dataframe from Collections"
      ],
      "metadata": {
        "id": "cNGUfZk9BuMI"
      },
      "id": "cNGUfZk9BuMI"
    },
    {
      "cell_type": "markdown",
      "source": [
        "Let's first start playing with these libraries by creating a dataset! We are going to start off by creating a dataframe for students' grades. \n",
        "\n",
        "To start with, we will create structures to store the students' grades.\n",
        "\n",
        "Function Notes:\n",
        "- `np.array(collection)`\n",
        "- `np.arange(start, stop, step)` - stop not inclusive [start, stop)"
      ],
      "metadata": {
        "id": "1jEpRsxk_yHv"
      },
      "id": "1jEpRsxk_yHv"
    },
    {
      "cell_type": "code",
      "source": [
        "# student a - creating an array from a collection\n",
        "a = np.array([80, 75, 70, 90, 98])\n",
        "\n",
        "# student b - creating an array from a range of values \n",
        "b = np.arange(80, 105, 5) #this also equals np.array([80,85,90,95,100]) OR np.array(range(80,105,5)) - just faster :)\n",
        "\n",
        "# student c - creating a list of values\n",
        "c = [66, 75, 91, 72, 83]"
      ],
      "metadata": {
        "id": "3NTEy-Kl_wQg"
      },
      "id": "3NTEy-Kl_wQg",
      "execution_count": null,
      "outputs": []
    },
    {
      "cell_type": "markdown",
      "source": [
        "Next, we will add these all together into one dataframe.\n",
        "\n",
        "Function Notes:\n",
        "- `pd.DataFrame` - creates a dataframe from a collection; can specify column names, data types, and index"
      ],
      "metadata": {
        "id": "yJfKpL-TEC5O"
      },
      "id": "yJfKpL-TEC5O"
    },
    {
      "cell_type": "code",
      "source": [
        "# merging collections into one dataframe\n",
        "df = pd.DataFrame({'a': a, 'b' : b, 'c' : c}, index=[1,2,3,4,5])\n",
        "\n",
        "# display the dataframe\n",
        "display(df)"
      ],
      "metadata": {
        "colab": {
          "base_uri": "https://localhost:8080/",
          "height": 206
        },
        "id": "bjsijc9rErdV",
        "outputId": "766a049e-e8fa-4775-cdb8-7fb86b7651f9"
      },
      "id": "bjsijc9rErdV",
      "execution_count": null,
      "outputs": [
        {
          "output_type": "display_data",
          "data": {
            "text/plain": [
              "    a    b   c\n",
              "1  80   80  66\n",
              "2  75   85  75\n",
              "3  70   90  91\n",
              "4  90   95  72\n",
              "5  98  100  83"
            ],
            "text/html": [
              "\n",
              "  <div id=\"df-75814e7b-b23c-4f92-94e3-7a2eb9195246\">\n",
              "    <div class=\"colab-df-container\">\n",
              "      <div>\n",
              "<style scoped>\n",
              "    .dataframe tbody tr th:only-of-type {\n",
              "        vertical-align: middle;\n",
              "    }\n",
              "\n",
              "    .dataframe tbody tr th {\n",
              "        vertical-align: top;\n",
              "    }\n",
              "\n",
              "    .dataframe thead th {\n",
              "        text-align: right;\n",
              "    }\n",
              "</style>\n",
              "<table border=\"1\" class=\"dataframe\">\n",
              "  <thead>\n",
              "    <tr style=\"text-align: right;\">\n",
              "      <th></th>\n",
              "      <th>a</th>\n",
              "      <th>b</th>\n",
              "      <th>c</th>\n",
              "    </tr>\n",
              "  </thead>\n",
              "  <tbody>\n",
              "    <tr>\n",
              "      <th>1</th>\n",
              "      <td>80</td>\n",
              "      <td>80</td>\n",
              "      <td>66</td>\n",
              "    </tr>\n",
              "    <tr>\n",
              "      <th>2</th>\n",
              "      <td>75</td>\n",
              "      <td>85</td>\n",
              "      <td>75</td>\n",
              "    </tr>\n",
              "    <tr>\n",
              "      <th>3</th>\n",
              "      <td>70</td>\n",
              "      <td>90</td>\n",
              "      <td>91</td>\n",
              "    </tr>\n",
              "    <tr>\n",
              "      <th>4</th>\n",
              "      <td>90</td>\n",
              "      <td>95</td>\n",
              "      <td>72</td>\n",
              "    </tr>\n",
              "    <tr>\n",
              "      <th>5</th>\n",
              "      <td>98</td>\n",
              "      <td>100</td>\n",
              "      <td>83</td>\n",
              "    </tr>\n",
              "  </tbody>\n",
              "</table>\n",
              "</div>\n",
              "      <button class=\"colab-df-convert\" onclick=\"convertToInteractive('df-75814e7b-b23c-4f92-94e3-7a2eb9195246')\"\n",
              "              title=\"Convert this dataframe to an interactive table.\"\n",
              "              style=\"display:none;\">\n",
              "        \n",
              "  <svg xmlns=\"http://www.w3.org/2000/svg\" height=\"24px\"viewBox=\"0 0 24 24\"\n",
              "       width=\"24px\">\n",
              "    <path d=\"M0 0h24v24H0V0z\" fill=\"none\"/>\n",
              "    <path d=\"M18.56 5.44l.94 2.06.94-2.06 2.06-.94-2.06-.94-.94-2.06-.94 2.06-2.06.94zm-11 1L8.5 8.5l.94-2.06 2.06-.94-2.06-.94L8.5 2.5l-.94 2.06-2.06.94zm10 10l.94 2.06.94-2.06 2.06-.94-2.06-.94-.94-2.06-.94 2.06-2.06.94z\"/><path d=\"M17.41 7.96l-1.37-1.37c-.4-.4-.92-.59-1.43-.59-.52 0-1.04.2-1.43.59L10.3 9.45l-7.72 7.72c-.78.78-.78 2.05 0 2.83L4 21.41c.39.39.9.59 1.41.59.51 0 1.02-.2 1.41-.59l7.78-7.78 2.81-2.81c.8-.78.8-2.07 0-2.86zM5.41 20L4 18.59l7.72-7.72 1.47 1.35L5.41 20z\"/>\n",
              "  </svg>\n",
              "      </button>\n",
              "      \n",
              "  <style>\n",
              "    .colab-df-container {\n",
              "      display:flex;\n",
              "      flex-wrap:wrap;\n",
              "      gap: 12px;\n",
              "    }\n",
              "\n",
              "    .colab-df-convert {\n",
              "      background-color: #E8F0FE;\n",
              "      border: none;\n",
              "      border-radius: 50%;\n",
              "      cursor: pointer;\n",
              "      display: none;\n",
              "      fill: #1967D2;\n",
              "      height: 32px;\n",
              "      padding: 0 0 0 0;\n",
              "      width: 32px;\n",
              "    }\n",
              "\n",
              "    .colab-df-convert:hover {\n",
              "      background-color: #E2EBFA;\n",
              "      box-shadow: 0px 1px 2px rgba(60, 64, 67, 0.3), 0px 1px 3px 1px rgba(60, 64, 67, 0.15);\n",
              "      fill: #174EA6;\n",
              "    }\n",
              "\n",
              "    [theme=dark] .colab-df-convert {\n",
              "      background-color: #3B4455;\n",
              "      fill: #D2E3FC;\n",
              "    }\n",
              "\n",
              "    [theme=dark] .colab-df-convert:hover {\n",
              "      background-color: #434B5C;\n",
              "      box-shadow: 0px 1px 3px 1px rgba(0, 0, 0, 0.15);\n",
              "      filter: drop-shadow(0px 1px 2px rgba(0, 0, 0, 0.3));\n",
              "      fill: #FFFFFF;\n",
              "    }\n",
              "  </style>\n",
              "\n",
              "      <script>\n",
              "        const buttonEl =\n",
              "          document.querySelector('#df-75814e7b-b23c-4f92-94e3-7a2eb9195246 button.colab-df-convert');\n",
              "        buttonEl.style.display =\n",
              "          google.colab.kernel.accessAllowed ? 'block' : 'none';\n",
              "\n",
              "        async function convertToInteractive(key) {\n",
              "          const element = document.querySelector('#df-75814e7b-b23c-4f92-94e3-7a2eb9195246');\n",
              "          const dataTable =\n",
              "            await google.colab.kernel.invokeFunction('convertToInteractive',\n",
              "                                                     [key], {});\n",
              "          if (!dataTable) return;\n",
              "\n",
              "          const docLinkHtml = 'Like what you see? Visit the ' +\n",
              "            '<a target=\"_blank\" href=https://colab.research.google.com/notebooks/data_table.ipynb>data table notebook</a>'\n",
              "            + ' to learn more about interactive tables.';\n",
              "          element.innerHTML = '';\n",
              "          dataTable['output_type'] = 'display_data';\n",
              "          await google.colab.output.renderOutput(dataTable, element);\n",
              "          const docLink = document.createElement('div');\n",
              "          docLink.innerHTML = docLinkHtml;\n",
              "          element.appendChild(docLink);\n",
              "        }\n",
              "      </script>\n",
              "    </div>\n",
              "  </div>\n",
              "  "
            ]
          },
          "metadata": {}
        }
      ]
    },
    {
      "cell_type": "markdown",
      "source": [
        "### Creating a Dataframe from Data Sets (csv/excel)"
      ],
      "metadata": {
        "id": "-JdzzbW2HFL7"
      },
      "id": "-JdzzbW2HFL7"
    },
    {
      "cell_type": "markdown",
      "source": [
        "You can import a dataset from a csv, using `pd.read_csv()`. Using this function, you can determine what columns you want to import in list form (include the attribute usecols=[]) and what datatypes there are in dictionary form (include the attribute dtype={}).\n",
        "\n",
        "An example anatomy of this function is:\n",
        "\n",
        "`pd.read_csv('path + filename', usecols = ['col1','col2','col3'], dtype = {'col1': int64, 'col2': float32, 'col3': string})`"
      ],
      "metadata": {
        "id": "MrEQshwU1S6K"
      },
      "id": "MrEQshwU1S6K"
    },
    {
      "cell_type": "markdown",
      "source": [
        "### Indexing and Modifying DataFrames"
      ],
      "metadata": {
        "id": "zVlNkkCZNUTn"
      },
      "id": "zVlNkkCZNUTn"
    },
    {
      "cell_type": "markdown",
      "source": [
        "##### Indexing DataFrames"
      ],
      "metadata": {
        "id": "oLz0nTfFn-PQ"
      },
      "id": "oLz0nTfFn-PQ"
    },
    {
      "cell_type": "markdown",
      "source": [
        "Being able to select data from each column, row, or cell is an important tool for analyzing and modifying data. \n",
        "\n",
        "Function Notes:\n",
        "- `loc()` allows access by [row(s), column(s)] data by index and column name\n",
        "- `iloc()` allows access by [row(s), column(s)] by positional row and column indices"
      ],
      "metadata": {
        "id": "FqWOZLPNNc5r"
      },
      "id": "FqWOZLPNNc5r"
    },
    {
      "cell_type": "code",
      "source": [
        "# indexing a dataframe column - student b's grades\n",
        "df['b']"
      ],
      "metadata": {
        "colab": {
          "base_uri": "https://localhost:8080/"
        },
        "id": "hUHf7cDoNv-h",
        "outputId": "c31a81dc-3163-4600-9b74-c56f689f4770"
      },
      "id": "hUHf7cDoNv-h",
      "execution_count": null,
      "outputs": [
        {
          "output_type": "execute_result",
          "data": {
            "text/plain": [
              "1     80\n",
              "2     85\n",
              "3     90\n",
              "4     95\n",
              "5    100\n",
              "Name: b, dtype: int64"
            ]
          },
          "metadata": {},
          "execution_count": 5
        }
      ]
    },
    {
      "cell_type": "code",
      "source": [
        "# indexing a dataframe row - first test grades for all students\n",
        "# the ':' references all of the possible columns\n",
        "df.loc[1,:]"
      ],
      "metadata": {
        "colab": {
          "base_uri": "https://localhost:8080/"
        },
        "id": "XTa_-qZsOfyA",
        "outputId": "e6b43f1a-b7b6-48e6-8630-28acd63be8e3"
      },
      "id": "XTa_-qZsOfyA",
      "execution_count": null,
      "outputs": [
        {
          "output_type": "execute_result",
          "data": {
            "text/plain": [
              "a    80\n",
              "b    80\n",
              "c    66\n",
              "Name: 1, dtype: int64"
            ]
          },
          "metadata": {},
          "execution_count": 6
        }
      ]
    },
    {
      "cell_type": "code",
      "source": [
        "# indexing a cell using .loc\n",
        "df.loc[1,'c']"
      ],
      "metadata": {
        "colab": {
          "base_uri": "https://localhost:8080/"
        },
        "id": "vUCnkChsPYXg",
        "outputId": "78ef0977-b1f6-41a5-9ed9-37f00a9d72c0"
      },
      "id": "vUCnkChsPYXg",
      "execution_count": null,
      "outputs": [
        {
          "output_type": "execute_result",
          "data": {
            "text/plain": [
              "66"
            ]
          },
          "metadata": {},
          "execution_count": 7
        }
      ]
    },
    {
      "cell_type": "code",
      "source": [
        "# indexing a cell using .iloc\n",
        "df.iloc[0,2]"
      ],
      "metadata": {
        "colab": {
          "base_uri": "https://localhost:8080/"
        },
        "id": "A05ZAxPwP5Bs",
        "outputId": "cee322be-dcb1-4275-ef10-a57a043524af"
      },
      "id": "A05ZAxPwP5Bs",
      "execution_count": null,
      "outputs": [
        {
          "output_type": "execute_result",
          "data": {
            "text/plain": [
              "66"
            ]
          },
          "metadata": {},
          "execution_count": 8
        }
      ]
    },
    {
      "cell_type": "markdown",
      "source": [
        "\n",
        "##### Modifying DataFrames"
      ],
      "metadata": {
        "id": "-STxpZb6oEcx"
      },
      "id": "-STxpZb6oEcx"
    },
    {
      "cell_type": "markdown",
      "source": [
        "###### **Changing Values**"
      ],
      "metadata": {
        "id": "tq6gOh-UoQuJ"
      },
      "id": "tq6gOh-UoQuJ"
    },
    {
      "cell_type": "markdown",
      "source": [
        "Modifying data in a dataframe is as simple as it is with a list. You simply need to set the indexed value equal to the desired value.\n",
        "\n",
        "\n",
        "\n",
        "**EXERCISE** \n",
        "Student b actually received a 88 on the first test. Modify the appropriate cell to reflect the true score."
      ],
      "metadata": {
        "id": "YX9iH1rLQWHa"
      },
      "id": "YX9iH1rLQWHa"
    },
    {
      "cell_type": "code",
      "source": [
        "# TRY IT YOURSELF - change student b's first test score\n",
        "\n",
        "\n",
        "# display dataframe with change\n",
        "display(df)"
      ],
      "metadata": {
        "colab": {
          "base_uri": "https://localhost:8080/",
          "height": 206
        },
        "id": "ZnBSLR1CnNOz",
        "outputId": "279b96ff-6ce9-4d2b-aa1b-6d520566a0f0"
      },
      "id": "ZnBSLR1CnNOz",
      "execution_count": null,
      "outputs": [
        {
          "output_type": "display_data",
          "data": {
            "text/plain": [
              "    a    b   c\n",
              "1  80   80  66\n",
              "2  75   85  75\n",
              "3  70   90  91\n",
              "4  90   95  72\n",
              "5  98  100  83"
            ],
            "text/html": [
              "\n",
              "  <div id=\"df-9ee9ed2c-c776-44f2-9ffa-5c5f5f5a7275\">\n",
              "    <div class=\"colab-df-container\">\n",
              "      <div>\n",
              "<style scoped>\n",
              "    .dataframe tbody tr th:only-of-type {\n",
              "        vertical-align: middle;\n",
              "    }\n",
              "\n",
              "    .dataframe tbody tr th {\n",
              "        vertical-align: top;\n",
              "    }\n",
              "\n",
              "    .dataframe thead th {\n",
              "        text-align: right;\n",
              "    }\n",
              "</style>\n",
              "<table border=\"1\" class=\"dataframe\">\n",
              "  <thead>\n",
              "    <tr style=\"text-align: right;\">\n",
              "      <th></th>\n",
              "      <th>a</th>\n",
              "      <th>b</th>\n",
              "      <th>c</th>\n",
              "    </tr>\n",
              "  </thead>\n",
              "  <tbody>\n",
              "    <tr>\n",
              "      <th>1</th>\n",
              "      <td>80</td>\n",
              "      <td>80</td>\n",
              "      <td>66</td>\n",
              "    </tr>\n",
              "    <tr>\n",
              "      <th>2</th>\n",
              "      <td>75</td>\n",
              "      <td>85</td>\n",
              "      <td>75</td>\n",
              "    </tr>\n",
              "    <tr>\n",
              "      <th>3</th>\n",
              "      <td>70</td>\n",
              "      <td>90</td>\n",
              "      <td>91</td>\n",
              "    </tr>\n",
              "    <tr>\n",
              "      <th>4</th>\n",
              "      <td>90</td>\n",
              "      <td>95</td>\n",
              "      <td>72</td>\n",
              "    </tr>\n",
              "    <tr>\n",
              "      <th>5</th>\n",
              "      <td>98</td>\n",
              "      <td>100</td>\n",
              "      <td>83</td>\n",
              "    </tr>\n",
              "  </tbody>\n",
              "</table>\n",
              "</div>\n",
              "      <button class=\"colab-df-convert\" onclick=\"convertToInteractive('df-9ee9ed2c-c776-44f2-9ffa-5c5f5f5a7275')\"\n",
              "              title=\"Convert this dataframe to an interactive table.\"\n",
              "              style=\"display:none;\">\n",
              "        \n",
              "  <svg xmlns=\"http://www.w3.org/2000/svg\" height=\"24px\"viewBox=\"0 0 24 24\"\n",
              "       width=\"24px\">\n",
              "    <path d=\"M0 0h24v24H0V0z\" fill=\"none\"/>\n",
              "    <path d=\"M18.56 5.44l.94 2.06.94-2.06 2.06-.94-2.06-.94-.94-2.06-.94 2.06-2.06.94zm-11 1L8.5 8.5l.94-2.06 2.06-.94-2.06-.94L8.5 2.5l-.94 2.06-2.06.94zm10 10l.94 2.06.94-2.06 2.06-.94-2.06-.94-.94-2.06-.94 2.06-2.06.94z\"/><path d=\"M17.41 7.96l-1.37-1.37c-.4-.4-.92-.59-1.43-.59-.52 0-1.04.2-1.43.59L10.3 9.45l-7.72 7.72c-.78.78-.78 2.05 0 2.83L4 21.41c.39.39.9.59 1.41.59.51 0 1.02-.2 1.41-.59l7.78-7.78 2.81-2.81c.8-.78.8-2.07 0-2.86zM5.41 20L4 18.59l7.72-7.72 1.47 1.35L5.41 20z\"/>\n",
              "  </svg>\n",
              "      </button>\n",
              "      \n",
              "  <style>\n",
              "    .colab-df-container {\n",
              "      display:flex;\n",
              "      flex-wrap:wrap;\n",
              "      gap: 12px;\n",
              "    }\n",
              "\n",
              "    .colab-df-convert {\n",
              "      background-color: #E8F0FE;\n",
              "      border: none;\n",
              "      border-radius: 50%;\n",
              "      cursor: pointer;\n",
              "      display: none;\n",
              "      fill: #1967D2;\n",
              "      height: 32px;\n",
              "      padding: 0 0 0 0;\n",
              "      width: 32px;\n",
              "    }\n",
              "\n",
              "    .colab-df-convert:hover {\n",
              "      background-color: #E2EBFA;\n",
              "      box-shadow: 0px 1px 2px rgba(60, 64, 67, 0.3), 0px 1px 3px 1px rgba(60, 64, 67, 0.15);\n",
              "      fill: #174EA6;\n",
              "    }\n",
              "\n",
              "    [theme=dark] .colab-df-convert {\n",
              "      background-color: #3B4455;\n",
              "      fill: #D2E3FC;\n",
              "    }\n",
              "\n",
              "    [theme=dark] .colab-df-convert:hover {\n",
              "      background-color: #434B5C;\n",
              "      box-shadow: 0px 1px 3px 1px rgba(0, 0, 0, 0.15);\n",
              "      filter: drop-shadow(0px 1px 2px rgba(0, 0, 0, 0.3));\n",
              "      fill: #FFFFFF;\n",
              "    }\n",
              "  </style>\n",
              "\n",
              "      <script>\n",
              "        const buttonEl =\n",
              "          document.querySelector('#df-9ee9ed2c-c776-44f2-9ffa-5c5f5f5a7275 button.colab-df-convert');\n",
              "        buttonEl.style.display =\n",
              "          google.colab.kernel.accessAllowed ? 'block' : 'none';\n",
              "\n",
              "        async function convertToInteractive(key) {\n",
              "          const element = document.querySelector('#df-9ee9ed2c-c776-44f2-9ffa-5c5f5f5a7275');\n",
              "          const dataTable =\n",
              "            await google.colab.kernel.invokeFunction('convertToInteractive',\n",
              "                                                     [key], {});\n",
              "          if (!dataTable) return;\n",
              "\n",
              "          const docLinkHtml = 'Like what you see? Visit the ' +\n",
              "            '<a target=\"_blank\" href=https://colab.research.google.com/notebooks/data_table.ipynb>data table notebook</a>'\n",
              "            + ' to learn more about interactive tables.';\n",
              "          element.innerHTML = '';\n",
              "          dataTable['output_type'] = 'display_data';\n",
              "          await google.colab.output.renderOutput(dataTable, element);\n",
              "          const docLink = document.createElement('div');\n",
              "          docLink.innerHTML = docLinkHtml;\n",
              "          element.appendChild(docLink);\n",
              "        }\n",
              "      </script>\n",
              "    </div>\n",
              "  </div>\n",
              "  "
            ]
          },
          "metadata": {}
        }
      ]
    },
    {
      "cell_type": "markdown",
      "source": [
        "###### **Changing Data Types**"
      ],
      "metadata": {
        "id": "Yx3CTys6od7J"
      },
      "id": "Yx3CTys6od7J"
    },
    {
      "cell_type": "markdown",
      "source": [
        "While Python has in-built functions to view data types and wrappers to convert data types of variables, Pandas has in-built functions to convert and view entire series and/or dataframes. These functions produce a copy of the dataframe, so in order to store the changes you've made, you must set it to a variable or use inplace = True.\n",
        "\n",
        "i.e. df = df.astype(float)"
      ],
      "metadata": {
        "id": "OWD-YTHXKdKO"
      },
      "id": "OWD-YTHXKdKO"
    },
    {
      "cell_type": "code",
      "source": [
        "# view data types of each column\n",
        "df.dtypes"
      ],
      "metadata": {
        "id": "zOjUekmAodDp",
        "colab": {
          "base_uri": "https://localhost:8080/"
        },
        "outputId": "5cbb3cb4-e59c-4d2c-8da3-b450af8ccd9e"
      },
      "id": "zOjUekmAodDp",
      "execution_count": null,
      "outputs": [
        {
          "output_type": "execute_result",
          "data": {
            "text/plain": [
              "a    int64\n",
              "b    int64\n",
              "c    int64\n",
              "dtype: object"
            ]
          },
          "metadata": {},
          "execution_count": 10
        }
      ]
    },
    {
      "cell_type": "code",
      "source": [
        "# convert ints to floats\n",
        "df.astype(float)"
      ],
      "metadata": {
        "colab": {
          "base_uri": "https://localhost:8080/",
          "height": 206
        },
        "id": "u-kWDBQ1H2-f",
        "outputId": "0ec2bebb-6701-4471-c371-7555c12a3527"
      },
      "id": "u-kWDBQ1H2-f",
      "execution_count": null,
      "outputs": [
        {
          "output_type": "execute_result",
          "data": {
            "text/plain": [
              "      a      b     c\n",
              "1  80.0   80.0  66.0\n",
              "2  75.0   85.0  75.0\n",
              "3  70.0   90.0  91.0\n",
              "4  90.0   95.0  72.0\n",
              "5  98.0  100.0  83.0"
            ],
            "text/html": [
              "\n",
              "  <div id=\"df-3c0b045d-eb58-4e38-9b79-beca3840acd9\">\n",
              "    <div class=\"colab-df-container\">\n",
              "      <div>\n",
              "<style scoped>\n",
              "    .dataframe tbody tr th:only-of-type {\n",
              "        vertical-align: middle;\n",
              "    }\n",
              "\n",
              "    .dataframe tbody tr th {\n",
              "        vertical-align: top;\n",
              "    }\n",
              "\n",
              "    .dataframe thead th {\n",
              "        text-align: right;\n",
              "    }\n",
              "</style>\n",
              "<table border=\"1\" class=\"dataframe\">\n",
              "  <thead>\n",
              "    <tr style=\"text-align: right;\">\n",
              "      <th></th>\n",
              "      <th>a</th>\n",
              "      <th>b</th>\n",
              "      <th>c</th>\n",
              "    </tr>\n",
              "  </thead>\n",
              "  <tbody>\n",
              "    <tr>\n",
              "      <th>1</th>\n",
              "      <td>80.0</td>\n",
              "      <td>80.0</td>\n",
              "      <td>66.0</td>\n",
              "    </tr>\n",
              "    <tr>\n",
              "      <th>2</th>\n",
              "      <td>75.0</td>\n",
              "      <td>85.0</td>\n",
              "      <td>75.0</td>\n",
              "    </tr>\n",
              "    <tr>\n",
              "      <th>3</th>\n",
              "      <td>70.0</td>\n",
              "      <td>90.0</td>\n",
              "      <td>91.0</td>\n",
              "    </tr>\n",
              "    <tr>\n",
              "      <th>4</th>\n",
              "      <td>90.0</td>\n",
              "      <td>95.0</td>\n",
              "      <td>72.0</td>\n",
              "    </tr>\n",
              "    <tr>\n",
              "      <th>5</th>\n",
              "      <td>98.0</td>\n",
              "      <td>100.0</td>\n",
              "      <td>83.0</td>\n",
              "    </tr>\n",
              "  </tbody>\n",
              "</table>\n",
              "</div>\n",
              "      <button class=\"colab-df-convert\" onclick=\"convertToInteractive('df-3c0b045d-eb58-4e38-9b79-beca3840acd9')\"\n",
              "              title=\"Convert this dataframe to an interactive table.\"\n",
              "              style=\"display:none;\">\n",
              "        \n",
              "  <svg xmlns=\"http://www.w3.org/2000/svg\" height=\"24px\"viewBox=\"0 0 24 24\"\n",
              "       width=\"24px\">\n",
              "    <path d=\"M0 0h24v24H0V0z\" fill=\"none\"/>\n",
              "    <path d=\"M18.56 5.44l.94 2.06.94-2.06 2.06-.94-2.06-.94-.94-2.06-.94 2.06-2.06.94zm-11 1L8.5 8.5l.94-2.06 2.06-.94-2.06-.94L8.5 2.5l-.94 2.06-2.06.94zm10 10l.94 2.06.94-2.06 2.06-.94-2.06-.94-.94-2.06-.94 2.06-2.06.94z\"/><path d=\"M17.41 7.96l-1.37-1.37c-.4-.4-.92-.59-1.43-.59-.52 0-1.04.2-1.43.59L10.3 9.45l-7.72 7.72c-.78.78-.78 2.05 0 2.83L4 21.41c.39.39.9.59 1.41.59.51 0 1.02-.2 1.41-.59l7.78-7.78 2.81-2.81c.8-.78.8-2.07 0-2.86zM5.41 20L4 18.59l7.72-7.72 1.47 1.35L5.41 20z\"/>\n",
              "  </svg>\n",
              "      </button>\n",
              "      \n",
              "  <style>\n",
              "    .colab-df-container {\n",
              "      display:flex;\n",
              "      flex-wrap:wrap;\n",
              "      gap: 12px;\n",
              "    }\n",
              "\n",
              "    .colab-df-convert {\n",
              "      background-color: #E8F0FE;\n",
              "      border: none;\n",
              "      border-radius: 50%;\n",
              "      cursor: pointer;\n",
              "      display: none;\n",
              "      fill: #1967D2;\n",
              "      height: 32px;\n",
              "      padding: 0 0 0 0;\n",
              "      width: 32px;\n",
              "    }\n",
              "\n",
              "    .colab-df-convert:hover {\n",
              "      background-color: #E2EBFA;\n",
              "      box-shadow: 0px 1px 2px rgba(60, 64, 67, 0.3), 0px 1px 3px 1px rgba(60, 64, 67, 0.15);\n",
              "      fill: #174EA6;\n",
              "    }\n",
              "\n",
              "    [theme=dark] .colab-df-convert {\n",
              "      background-color: #3B4455;\n",
              "      fill: #D2E3FC;\n",
              "    }\n",
              "\n",
              "    [theme=dark] .colab-df-convert:hover {\n",
              "      background-color: #434B5C;\n",
              "      box-shadow: 0px 1px 3px 1px rgba(0, 0, 0, 0.15);\n",
              "      filter: drop-shadow(0px 1px 2px rgba(0, 0, 0, 0.3));\n",
              "      fill: #FFFFFF;\n",
              "    }\n",
              "  </style>\n",
              "\n",
              "      <script>\n",
              "        const buttonEl =\n",
              "          document.querySelector('#df-3c0b045d-eb58-4e38-9b79-beca3840acd9 button.colab-df-convert');\n",
              "        buttonEl.style.display =\n",
              "          google.colab.kernel.accessAllowed ? 'block' : 'none';\n",
              "\n",
              "        async function convertToInteractive(key) {\n",
              "          const element = document.querySelector('#df-3c0b045d-eb58-4e38-9b79-beca3840acd9');\n",
              "          const dataTable =\n",
              "            await google.colab.kernel.invokeFunction('convertToInteractive',\n",
              "                                                     [key], {});\n",
              "          if (!dataTable) return;\n",
              "\n",
              "          const docLinkHtml = 'Like what you see? Visit the ' +\n",
              "            '<a target=\"_blank\" href=https://colab.research.google.com/notebooks/data_table.ipynb>data table notebook</a>'\n",
              "            + ' to learn more about interactive tables.';\n",
              "          element.innerHTML = '';\n",
              "          dataTable['output_type'] = 'display_data';\n",
              "          await google.colab.output.renderOutput(dataTable, element);\n",
              "          const docLink = document.createElement('div');\n",
              "          docLink.innerHTML = docLinkHtml;\n",
              "          element.appendChild(docLink);\n",
              "        }\n",
              "      </script>\n",
              "    </div>\n",
              "  </div>\n",
              "  "
            ]
          },
          "metadata": {},
          "execution_count": 11
        }
      ]
    },
    {
      "cell_type": "code",
      "source": [
        "# convert datatypes based on dictionary mapping\n",
        "df.astype({'a':'int32','b':'float64','c':'int32'})"
      ],
      "metadata": {
        "colab": {
          "base_uri": "https://localhost:8080/",
          "height": 206
        },
        "id": "laNvS1ZgLXL3",
        "outputId": "c51d5963-1afb-4455-f492-3294c620f87e"
      },
      "id": "laNvS1ZgLXL3",
      "execution_count": null,
      "outputs": [
        {
          "output_type": "execute_result",
          "data": {
            "text/plain": [
              "    a      b   c\n",
              "1  80   80.0  66\n",
              "2  75   85.0  75\n",
              "3  70   90.0  91\n",
              "4  90   95.0  72\n",
              "5  98  100.0  83"
            ],
            "text/html": [
              "\n",
              "  <div id=\"df-3e75e878-8bdb-407f-a1e1-ac6ccd8021c8\">\n",
              "    <div class=\"colab-df-container\">\n",
              "      <div>\n",
              "<style scoped>\n",
              "    .dataframe tbody tr th:only-of-type {\n",
              "        vertical-align: middle;\n",
              "    }\n",
              "\n",
              "    .dataframe tbody tr th {\n",
              "        vertical-align: top;\n",
              "    }\n",
              "\n",
              "    .dataframe thead th {\n",
              "        text-align: right;\n",
              "    }\n",
              "</style>\n",
              "<table border=\"1\" class=\"dataframe\">\n",
              "  <thead>\n",
              "    <tr style=\"text-align: right;\">\n",
              "      <th></th>\n",
              "      <th>a</th>\n",
              "      <th>b</th>\n",
              "      <th>c</th>\n",
              "    </tr>\n",
              "  </thead>\n",
              "  <tbody>\n",
              "    <tr>\n",
              "      <th>1</th>\n",
              "      <td>80</td>\n",
              "      <td>80.0</td>\n",
              "      <td>66</td>\n",
              "    </tr>\n",
              "    <tr>\n",
              "      <th>2</th>\n",
              "      <td>75</td>\n",
              "      <td>85.0</td>\n",
              "      <td>75</td>\n",
              "    </tr>\n",
              "    <tr>\n",
              "      <th>3</th>\n",
              "      <td>70</td>\n",
              "      <td>90.0</td>\n",
              "      <td>91</td>\n",
              "    </tr>\n",
              "    <tr>\n",
              "      <th>4</th>\n",
              "      <td>90</td>\n",
              "      <td>95.0</td>\n",
              "      <td>72</td>\n",
              "    </tr>\n",
              "    <tr>\n",
              "      <th>5</th>\n",
              "      <td>98</td>\n",
              "      <td>100.0</td>\n",
              "      <td>83</td>\n",
              "    </tr>\n",
              "  </tbody>\n",
              "</table>\n",
              "</div>\n",
              "      <button class=\"colab-df-convert\" onclick=\"convertToInteractive('df-3e75e878-8bdb-407f-a1e1-ac6ccd8021c8')\"\n",
              "              title=\"Convert this dataframe to an interactive table.\"\n",
              "              style=\"display:none;\">\n",
              "        \n",
              "  <svg xmlns=\"http://www.w3.org/2000/svg\" height=\"24px\"viewBox=\"0 0 24 24\"\n",
              "       width=\"24px\">\n",
              "    <path d=\"M0 0h24v24H0V0z\" fill=\"none\"/>\n",
              "    <path d=\"M18.56 5.44l.94 2.06.94-2.06 2.06-.94-2.06-.94-.94-2.06-.94 2.06-2.06.94zm-11 1L8.5 8.5l.94-2.06 2.06-.94-2.06-.94L8.5 2.5l-.94 2.06-2.06.94zm10 10l.94 2.06.94-2.06 2.06-.94-2.06-.94-.94-2.06-.94 2.06-2.06.94z\"/><path d=\"M17.41 7.96l-1.37-1.37c-.4-.4-.92-.59-1.43-.59-.52 0-1.04.2-1.43.59L10.3 9.45l-7.72 7.72c-.78.78-.78 2.05 0 2.83L4 21.41c.39.39.9.59 1.41.59.51 0 1.02-.2 1.41-.59l7.78-7.78 2.81-2.81c.8-.78.8-2.07 0-2.86zM5.41 20L4 18.59l7.72-7.72 1.47 1.35L5.41 20z\"/>\n",
              "  </svg>\n",
              "      </button>\n",
              "      \n",
              "  <style>\n",
              "    .colab-df-container {\n",
              "      display:flex;\n",
              "      flex-wrap:wrap;\n",
              "      gap: 12px;\n",
              "    }\n",
              "\n",
              "    .colab-df-convert {\n",
              "      background-color: #E8F0FE;\n",
              "      border: none;\n",
              "      border-radius: 50%;\n",
              "      cursor: pointer;\n",
              "      display: none;\n",
              "      fill: #1967D2;\n",
              "      height: 32px;\n",
              "      padding: 0 0 0 0;\n",
              "      width: 32px;\n",
              "    }\n",
              "\n",
              "    .colab-df-convert:hover {\n",
              "      background-color: #E2EBFA;\n",
              "      box-shadow: 0px 1px 2px rgba(60, 64, 67, 0.3), 0px 1px 3px 1px rgba(60, 64, 67, 0.15);\n",
              "      fill: #174EA6;\n",
              "    }\n",
              "\n",
              "    [theme=dark] .colab-df-convert {\n",
              "      background-color: #3B4455;\n",
              "      fill: #D2E3FC;\n",
              "    }\n",
              "\n",
              "    [theme=dark] .colab-df-convert:hover {\n",
              "      background-color: #434B5C;\n",
              "      box-shadow: 0px 1px 3px 1px rgba(0, 0, 0, 0.15);\n",
              "      filter: drop-shadow(0px 1px 2px rgba(0, 0, 0, 0.3));\n",
              "      fill: #FFFFFF;\n",
              "    }\n",
              "  </style>\n",
              "\n",
              "      <script>\n",
              "        const buttonEl =\n",
              "          document.querySelector('#df-3e75e878-8bdb-407f-a1e1-ac6ccd8021c8 button.colab-df-convert');\n",
              "        buttonEl.style.display =\n",
              "          google.colab.kernel.accessAllowed ? 'block' : 'none';\n",
              "\n",
              "        async function convertToInteractive(key) {\n",
              "          const element = document.querySelector('#df-3e75e878-8bdb-407f-a1e1-ac6ccd8021c8');\n",
              "          const dataTable =\n",
              "            await google.colab.kernel.invokeFunction('convertToInteractive',\n",
              "                                                     [key], {});\n",
              "          if (!dataTable) return;\n",
              "\n",
              "          const docLinkHtml = 'Like what you see? Visit the ' +\n",
              "            '<a target=\"_blank\" href=https://colab.research.google.com/notebooks/data_table.ipynb>data table notebook</a>'\n",
              "            + ' to learn more about interactive tables.';\n",
              "          element.innerHTML = '';\n",
              "          dataTable['output_type'] = 'display_data';\n",
              "          await google.colab.output.renderOutput(dataTable, element);\n",
              "          const docLink = document.createElement('div');\n",
              "          docLink.innerHTML = docLinkHtml;\n",
              "          element.appendChild(docLink);\n",
              "        }\n",
              "      </script>\n",
              "    </div>\n",
              "  </div>\n",
              "  "
            ]
          },
          "metadata": {},
          "execution_count": 12
        }
      ]
    },
    {
      "cell_type": "markdown",
      "source": [
        "###### **Time Data**"
      ],
      "metadata": {
        "id": "9jPkDGxAlgdG"
      },
      "id": "9jPkDGxAlgdG"
    },
    {
      "cell_type": "markdown",
      "source": [
        "Dealing with time can be a bit confusing because of various formatting inconsistencies, so to deal with the complexities of time Python has its own library - datetime! However, converting to datetime is not limited to just this library - NumPy and Pandas have their own capabilities too!"
      ],
      "metadata": {
        "id": "oep1H33PmBww"
      },
      "id": "oep1H33PmBww"
    },
    {
      "cell_type": "code",
      "source": [
        "# import statement for datetime\n",
        "import datetime as dt"
      ],
      "metadata": {
        "id": "9iQEQzdHm1fe"
      },
      "id": "9iQEQzdHm1fe",
      "execution_count": 6,
      "outputs": []
    },
    {
      "cell_type": "code",
      "source": [
        "# print the current time and date - datetime\n",
        "x = dt.datetime.now()\n",
        "print(x)\n",
        "print(type(x))"
      ],
      "metadata": {
        "colab": {
          "base_uri": "https://localhost:8080/"
        },
        "id": "qCpEiG6znnHS",
        "outputId": "c941609b-1bf5-478b-94f9-41ac1fc9ce80"
      },
      "id": "qCpEiG6znnHS",
      "execution_count": 9,
      "outputs": [
        {
          "output_type": "stream",
          "name": "stdout",
          "text": [
            "2022-08-24 19:57:37.391975\n",
            "<class 'datetime.datetime'>\n"
          ]
        }
      ]
    },
    {
      "cell_type": "code",
      "source": [
        "# create a datetime obj - np.datetime64\n",
        "y = np.datetime64('2022-08-24')\n",
        "print(y)\n",
        "print(type(y))"
      ],
      "metadata": {
        "colab": {
          "base_uri": "https://localhost:8080/"
        },
        "id": "s9ZWvecCZRh_",
        "outputId": "2fb79eba-f4ac-4b53-f189-0755bd97a8e9"
      },
      "id": "s9ZWvecCZRh_",
      "execution_count": 13,
      "outputs": [
        {
          "output_type": "stream",
          "name": "stdout",
          "text": [
            "2022-08-24\n",
            "<class 'numpy.datetime64'>\n"
          ]
        }
      ]
    },
    {
      "cell_type": "code",
      "source": [
        "# create a datetime obj - pd.to_datetime\n",
        "ser1 = pd.Series(['3/11/2000', '3/12/2000', '3/13/2000'])\n",
        "z = pd.to_datetime(ser1)\n",
        "print(z)"
      ],
      "metadata": {
        "colab": {
          "base_uri": "https://localhost:8080/"
        },
        "id": "PipuCwFAcsmp",
        "outputId": "2824cd8c-9469-4e43-f6ad-5149cbd5672e"
      },
      "id": "PipuCwFAcsmp",
      "execution_count": 17,
      "outputs": [
        {
          "output_type": "stream",
          "name": "stdout",
          "text": [
            "0   2000-03-11\n",
            "1   2000-03-12\n",
            "2   2000-03-13\n",
            "dtype: datetime64[ns]\n"
          ]
        }
      ]
    },
    {
      "cell_type": "markdown",
      "source": [
        "You can pulls specifics relating to date, such as `year`,`month`,`day`,`hour`,`minute`,`seconds`, and `microseconds`."
      ],
      "metadata": {
        "id": "bjI-WJjSnYJI"
      },
      "id": "bjI-WJjSnYJI"
    },
    {
      "cell_type": "code",
      "source": [
        "print(x.minute)"
      ],
      "metadata": {
        "colab": {
          "base_uri": "https://localhost:8080/"
        },
        "id": "6-MPJnITnXPD",
        "outputId": "ca025aa1-4ee5-4b35-eeef-4136abb7e874"
      },
      "id": "6-MPJnITnXPD",
      "execution_count": null,
      "outputs": [
        {
          "output_type": "stream",
          "name": "stdout",
          "text": [
            "14\n"
          ]
        }
      ]
    },
    {
      "cell_type": "markdown",
      "source": [
        "**Timedelta**\n",
        "\n",
        "Timedelta is a portion of the datetime library that calculates the sum/difference of two different points in time.\n",
        "\n",
        "*Note: When you have a negative time difference, you can use the `abs()` function in order to calculate elapsed time.\n",
        "\n",
        "You can do this with all datetime libraries."
      ],
      "metadata": {
        "id": "et72ayIMp5aQ"
      },
      "id": "et72ayIMp5aQ"
    },
    {
      "cell_type": "code",
      "source": [
        "# first day of class - datetime(year,month,day,hour,minute,second,microsecond)\n",
        "y = dt.datetime(2022,8,29,14)\n",
        "print(y)"
      ],
      "metadata": {
        "colab": {
          "base_uri": "https://localhost:8080/"
        },
        "id": "j8tAoYlcqGAg",
        "outputId": "3b1acd2c-9a1e-4b38-fcbd-89a80a80a40f"
      },
      "id": "j8tAoYlcqGAg",
      "execution_count": null,
      "outputs": [
        {
          "output_type": "stream",
          "name": "stdout",
          "text": [
            "2022-08-29 14:00:00\n"
          ]
        }
      ]
    },
    {
      "cell_type": "code",
      "source": [
        "# calculate the difference between now and the first day of class\n",
        "d1 = y-x\n",
        "print(d1)\n",
        "print(type(d1))"
      ],
      "metadata": {
        "colab": {
          "base_uri": "https://localhost:8080/"
        },
        "id": "hs2fYEb8rBbN",
        "outputId": "d09a48f8-8c77-4888-8246-50d8540771a1"
      },
      "id": "hs2fYEb8rBbN",
      "execution_count": null,
      "outputs": [
        {
          "output_type": "stream",
          "name": "stdout",
          "text": [
            "7 days, 12:45:33.720546\n",
            "<class 'datetime.timedelta'>\n"
          ]
        }
      ]
    },
    {
      "cell_type": "code",
      "source": [
        "#displaying np.datetime64 timedelta functionality\n",
        "np.datetime64('2022-08-24') - np.datetime64('2022-05-05')"
      ],
      "metadata": {
        "colab": {
          "base_uri": "https://localhost:8080/"
        },
        "id": "2INE0e02dsF-",
        "outputId": "0af30bee-759b-455f-f90d-16296e73a299"
      },
      "id": "2INE0e02dsF-",
      "execution_count": 21,
      "outputs": [
        {
          "output_type": "execute_result",
          "data": {
            "text/plain": [
              "numpy.timedelta64(111,'D')"
            ]
          },
          "metadata": {},
          "execution_count": 21
        }
      ]
    },
    {
      "cell_type": "markdown",
      "source": [
        "###### Converting to and from Strings"
      ],
      "metadata": {
        "id": "pGFCdQnMo3k-"
      },
      "id": "pGFCdQnMo3k-"
    },
    {
      "cell_type": "markdown",
      "source": [
        "An important functionality of the datetime library is its ability to convert strings to datetime objects and datetime objects to strings. This is primarily done by two functions in datetime:\n",
        "- `strftime()`: converts datetime object to string\n",
        "- `strptime()`: converts string to datetime object\n",
        "\n",
        "While there are library specific functions to convert NumPy and Pandas datetime objects to strings, the inbuilt datetime functions allows for greater flexibility in how your data is displayed."
      ],
      "metadata": {
        "id": "ARgae7quo-tx"
      },
      "id": "ARgae7quo-tx"
    },
    {
      "cell_type": "markdown",
      "source": [
        "Helpful guide to strftime()/strptime() shortcuts:\n",
        "- `%a` - shortened version of weekday (i.e. Wed)\n",
        "- `%A` - long version of weekday (i.e. Wednesday)\n",
        "- `%d` - day of the month in number form (i.e. 30)\n",
        "- `%b` - shortened name of month (i.e. Aug)\n",
        "- `%B` - long version of month (i.e. August)\n",
        "- `%m` - month in number form (i.e. 9)\n",
        "- `%y` - year in shortened form, without century (i.e. 22)\n",
        "- `%Y` - year in full form (i.e. 2022)\n",
        "- `%H` - hour in military time (00 - 23)\n",
        "- `%I` - hour in analog (00 - 12)\n",
        "- `%p` - AM/PM\n",
        "- `%M` - minute (00 - 59)\n",
        "- `%S` - second (00 - 59)\n",
        "- `%f` - microsecond"
      ],
      "metadata": {
        "id": "m-izv6TOtXEc"
      },
      "id": "m-izv6TOtXEc"
    },
    {
      "cell_type": "code",
      "source": [
        "# convert datetime object to string\n",
        "y = y.strftime('%A %B %d, %Y %I:%M %p')\n",
        "print(y)\n",
        "print(type(y))"
      ],
      "metadata": {
        "colab": {
          "base_uri": "https://localhost:8080/"
        },
        "id": "Df59PN3ys09a",
        "outputId": "92218b55-1b16-4c95-f741-9f5167356087"
      },
      "id": "Df59PN3ys09a",
      "execution_count": null,
      "outputs": [
        {
          "output_type": "stream",
          "name": "stdout",
          "text": [
            "Monday August 29, 2022 02:00 PM\n",
            "<class 'str'>\n"
          ]
        }
      ]
    },
    {
      "cell_type": "code",
      "source": [
        "# convert string to datetime object\n",
        "y = dt.datetime.strptime(y,'%A %B %d, %Y %I:%M %p')\n",
        "print(y)\n",
        "print(type(y))"
      ],
      "metadata": {
        "colab": {
          "base_uri": "https://localhost:8080/"
        },
        "id": "1qRi5yo9_BrU",
        "outputId": "0088bda1-2434-4acd-81c5-535bb962693e"
      },
      "id": "1qRi5yo9_BrU",
      "execution_count": null,
      "outputs": [
        {
          "output_type": "stream",
          "name": "stdout",
          "text": [
            "2022-08-29 14:00:00\n",
            "<class 'datetime.datetime'>\n"
          ]
        }
      ]
    },
    {
      "cell_type": "markdown",
      "source": [
        "**EXERCISE** Calculate the difference of now versus your birthday. Print out the result."
      ],
      "metadata": {
        "id": "7MTtrt7qARKf"
      },
      "id": "7MTtrt7qARKf"
    },
    {
      "cell_type": "code",
      "source": [
        "# EXERCISE -- calculate the difference of now versus your birthday\n"
      ],
      "metadata": {
        "id": "vSVXpr8a_7nm"
      },
      "id": "vSVXpr8a_7nm",
      "execution_count": null,
      "outputs": []
    },
    {
      "cell_type": "markdown",
      "source": [
        "###### **Adding Columns to DataFrame**"
      ],
      "metadata": {
        "id": "SwhI5d2ao_Yb"
      },
      "id": "SwhI5d2ao_Yb"
    },
    {
      "cell_type": "markdown",
      "source": [
        "Adding columns to a dataframe is as simple as naming the new column and setting it equal to a collection."
      ],
      "metadata": {
        "id": "XEF8nhQHpKjA"
      },
      "id": "XEF8nhQHpKjA"
    },
    {
      "cell_type": "code",
      "source": [
        "# create a new column from an ndarray\n",
        "df['d'] = np.array([79,83,99,90,76])"
      ],
      "metadata": {
        "id": "uKkAWv7RpEBG"
      },
      "id": "uKkAWv7RpEBG",
      "execution_count": null,
      "outputs": []
    },
    {
      "cell_type": "code",
      "source": [
        "display(df)"
      ],
      "metadata": {
        "colab": {
          "base_uri": "https://localhost:8080/",
          "height": 206
        },
        "id": "US9iFNSDN6nW",
        "outputId": "8e0e1aa0-4407-45e4-d164-8abe0408b1c8"
      },
      "id": "US9iFNSDN6nW",
      "execution_count": null,
      "outputs": [
        {
          "output_type": "display_data",
          "data": {
            "text/plain": [
              "    a    b   c   d\n",
              "1  80   80  66  79\n",
              "2  75   85  75  83\n",
              "3  70   90  91  99\n",
              "4  90   95  72  90\n",
              "5  98  100  83  76"
            ],
            "text/html": [
              "\n",
              "  <div id=\"df-97aaaf41-69e5-47dd-b96e-484c410c1d38\">\n",
              "    <div class=\"colab-df-container\">\n",
              "      <div>\n",
              "<style scoped>\n",
              "    .dataframe tbody tr th:only-of-type {\n",
              "        vertical-align: middle;\n",
              "    }\n",
              "\n",
              "    .dataframe tbody tr th {\n",
              "        vertical-align: top;\n",
              "    }\n",
              "\n",
              "    .dataframe thead th {\n",
              "        text-align: right;\n",
              "    }\n",
              "</style>\n",
              "<table border=\"1\" class=\"dataframe\">\n",
              "  <thead>\n",
              "    <tr style=\"text-align: right;\">\n",
              "      <th></th>\n",
              "      <th>a</th>\n",
              "      <th>b</th>\n",
              "      <th>c</th>\n",
              "      <th>d</th>\n",
              "    </tr>\n",
              "  </thead>\n",
              "  <tbody>\n",
              "    <tr>\n",
              "      <th>1</th>\n",
              "      <td>80</td>\n",
              "      <td>80</td>\n",
              "      <td>66</td>\n",
              "      <td>79</td>\n",
              "    </tr>\n",
              "    <tr>\n",
              "      <th>2</th>\n",
              "      <td>75</td>\n",
              "      <td>85</td>\n",
              "      <td>75</td>\n",
              "      <td>83</td>\n",
              "    </tr>\n",
              "    <tr>\n",
              "      <th>3</th>\n",
              "      <td>70</td>\n",
              "      <td>90</td>\n",
              "      <td>91</td>\n",
              "      <td>99</td>\n",
              "    </tr>\n",
              "    <tr>\n",
              "      <th>4</th>\n",
              "      <td>90</td>\n",
              "      <td>95</td>\n",
              "      <td>72</td>\n",
              "      <td>90</td>\n",
              "    </tr>\n",
              "    <tr>\n",
              "      <th>5</th>\n",
              "      <td>98</td>\n",
              "      <td>100</td>\n",
              "      <td>83</td>\n",
              "      <td>76</td>\n",
              "    </tr>\n",
              "  </tbody>\n",
              "</table>\n",
              "</div>\n",
              "      <button class=\"colab-df-convert\" onclick=\"convertToInteractive('df-97aaaf41-69e5-47dd-b96e-484c410c1d38')\"\n",
              "              title=\"Convert this dataframe to an interactive table.\"\n",
              "              style=\"display:none;\">\n",
              "        \n",
              "  <svg xmlns=\"http://www.w3.org/2000/svg\" height=\"24px\"viewBox=\"0 0 24 24\"\n",
              "       width=\"24px\">\n",
              "    <path d=\"M0 0h24v24H0V0z\" fill=\"none\"/>\n",
              "    <path d=\"M18.56 5.44l.94 2.06.94-2.06 2.06-.94-2.06-.94-.94-2.06-.94 2.06-2.06.94zm-11 1L8.5 8.5l.94-2.06 2.06-.94-2.06-.94L8.5 2.5l-.94 2.06-2.06.94zm10 10l.94 2.06.94-2.06 2.06-.94-2.06-.94-.94-2.06-.94 2.06-2.06.94z\"/><path d=\"M17.41 7.96l-1.37-1.37c-.4-.4-.92-.59-1.43-.59-.52 0-1.04.2-1.43.59L10.3 9.45l-7.72 7.72c-.78.78-.78 2.05 0 2.83L4 21.41c.39.39.9.59 1.41.59.51 0 1.02-.2 1.41-.59l7.78-7.78 2.81-2.81c.8-.78.8-2.07 0-2.86zM5.41 20L4 18.59l7.72-7.72 1.47 1.35L5.41 20z\"/>\n",
              "  </svg>\n",
              "      </button>\n",
              "      \n",
              "  <style>\n",
              "    .colab-df-container {\n",
              "      display:flex;\n",
              "      flex-wrap:wrap;\n",
              "      gap: 12px;\n",
              "    }\n",
              "\n",
              "    .colab-df-convert {\n",
              "      background-color: #E8F0FE;\n",
              "      border: none;\n",
              "      border-radius: 50%;\n",
              "      cursor: pointer;\n",
              "      display: none;\n",
              "      fill: #1967D2;\n",
              "      height: 32px;\n",
              "      padding: 0 0 0 0;\n",
              "      width: 32px;\n",
              "    }\n",
              "\n",
              "    .colab-df-convert:hover {\n",
              "      background-color: #E2EBFA;\n",
              "      box-shadow: 0px 1px 2px rgba(60, 64, 67, 0.3), 0px 1px 3px 1px rgba(60, 64, 67, 0.15);\n",
              "      fill: #174EA6;\n",
              "    }\n",
              "\n",
              "    [theme=dark] .colab-df-convert {\n",
              "      background-color: #3B4455;\n",
              "      fill: #D2E3FC;\n",
              "    }\n",
              "\n",
              "    [theme=dark] .colab-df-convert:hover {\n",
              "      background-color: #434B5C;\n",
              "      box-shadow: 0px 1px 3px 1px rgba(0, 0, 0, 0.15);\n",
              "      filter: drop-shadow(0px 1px 2px rgba(0, 0, 0, 0.3));\n",
              "      fill: #FFFFFF;\n",
              "    }\n",
              "  </style>\n",
              "\n",
              "      <script>\n",
              "        const buttonEl =\n",
              "          document.querySelector('#df-97aaaf41-69e5-47dd-b96e-484c410c1d38 button.colab-df-convert');\n",
              "        buttonEl.style.display =\n",
              "          google.colab.kernel.accessAllowed ? 'block' : 'none';\n",
              "\n",
              "        async function convertToInteractive(key) {\n",
              "          const element = document.querySelector('#df-97aaaf41-69e5-47dd-b96e-484c410c1d38');\n",
              "          const dataTable =\n",
              "            await google.colab.kernel.invokeFunction('convertToInteractive',\n",
              "                                                     [key], {});\n",
              "          if (!dataTable) return;\n",
              "\n",
              "          const docLinkHtml = 'Like what you see? Visit the ' +\n",
              "            '<a target=\"_blank\" href=https://colab.research.google.com/notebooks/data_table.ipynb>data table notebook</a>'\n",
              "            + ' to learn more about interactive tables.';\n",
              "          element.innerHTML = '';\n",
              "          dataTable['output_type'] = 'display_data';\n",
              "          await google.colab.output.renderOutput(dataTable, element);\n",
              "          const docLink = document.createElement('div');\n",
              "          docLink.innerHTML = docLinkHtml;\n",
              "          element.appendChild(docLink);\n",
              "        }\n",
              "      </script>\n",
              "    </div>\n",
              "  </div>\n",
              "  "
            ]
          },
          "metadata": {}
        }
      ]
    },
    {
      "cell_type": "markdown",
      "source": [
        "###### **Dropping Columns from DataFrame**"
      ],
      "metadata": {
        "id": "TX2h3o02MhFr"
      },
      "id": "TX2h3o02MhFr"
    },
    {
      "cell_type": "markdown",
      "source": [
        "To drop a column, you need to use the `df.drop()` function and specify that the axis=1. To ensure that your dataframe keeps the change that you made you either want to set it to a variable or use inplace = True."
      ],
      "metadata": {
        "id": "6HhBQNgJMnqG"
      },
      "id": "6HhBQNgJMnqG"
    },
    {
      "cell_type": "code",
      "source": [
        "# this function creates a shallow copy of the dataframe where b is removed\n",
        "df.drop('b', axis=1)"
      ],
      "metadata": {
        "id": "7PtHHlnQMyJ6",
        "colab": {
          "base_uri": "https://localhost:8080/",
          "height": 206
        },
        "outputId": "8e543f7c-f435-4e26-e833-28135b76dd3c"
      },
      "id": "7PtHHlnQMyJ6",
      "execution_count": null,
      "outputs": [
        {
          "output_type": "execute_result",
          "data": {
            "text/plain": [
              "    a   c   d\n",
              "1  80  66  79\n",
              "2  75  75  83\n",
              "3  70  91  99\n",
              "4  90  72  90\n",
              "5  98  83  76"
            ],
            "text/html": [
              "\n",
              "  <div id=\"df-13f68427-2374-49b3-9104-b8c9448374be\">\n",
              "    <div class=\"colab-df-container\">\n",
              "      <div>\n",
              "<style scoped>\n",
              "    .dataframe tbody tr th:only-of-type {\n",
              "        vertical-align: middle;\n",
              "    }\n",
              "\n",
              "    .dataframe tbody tr th {\n",
              "        vertical-align: top;\n",
              "    }\n",
              "\n",
              "    .dataframe thead th {\n",
              "        text-align: right;\n",
              "    }\n",
              "</style>\n",
              "<table border=\"1\" class=\"dataframe\">\n",
              "  <thead>\n",
              "    <tr style=\"text-align: right;\">\n",
              "      <th></th>\n",
              "      <th>a</th>\n",
              "      <th>c</th>\n",
              "      <th>d</th>\n",
              "    </tr>\n",
              "  </thead>\n",
              "  <tbody>\n",
              "    <tr>\n",
              "      <th>1</th>\n",
              "      <td>80</td>\n",
              "      <td>66</td>\n",
              "      <td>79</td>\n",
              "    </tr>\n",
              "    <tr>\n",
              "      <th>2</th>\n",
              "      <td>75</td>\n",
              "      <td>75</td>\n",
              "      <td>83</td>\n",
              "    </tr>\n",
              "    <tr>\n",
              "      <th>3</th>\n",
              "      <td>70</td>\n",
              "      <td>91</td>\n",
              "      <td>99</td>\n",
              "    </tr>\n",
              "    <tr>\n",
              "      <th>4</th>\n",
              "      <td>90</td>\n",
              "      <td>72</td>\n",
              "      <td>90</td>\n",
              "    </tr>\n",
              "    <tr>\n",
              "      <th>5</th>\n",
              "      <td>98</td>\n",
              "      <td>83</td>\n",
              "      <td>76</td>\n",
              "    </tr>\n",
              "  </tbody>\n",
              "</table>\n",
              "</div>\n",
              "      <button class=\"colab-df-convert\" onclick=\"convertToInteractive('df-13f68427-2374-49b3-9104-b8c9448374be')\"\n",
              "              title=\"Convert this dataframe to an interactive table.\"\n",
              "              style=\"display:none;\">\n",
              "        \n",
              "  <svg xmlns=\"http://www.w3.org/2000/svg\" height=\"24px\"viewBox=\"0 0 24 24\"\n",
              "       width=\"24px\">\n",
              "    <path d=\"M0 0h24v24H0V0z\" fill=\"none\"/>\n",
              "    <path d=\"M18.56 5.44l.94 2.06.94-2.06 2.06-.94-2.06-.94-.94-2.06-.94 2.06-2.06.94zm-11 1L8.5 8.5l.94-2.06 2.06-.94-2.06-.94L8.5 2.5l-.94 2.06-2.06.94zm10 10l.94 2.06.94-2.06 2.06-.94-2.06-.94-.94-2.06-.94 2.06-2.06.94z\"/><path d=\"M17.41 7.96l-1.37-1.37c-.4-.4-.92-.59-1.43-.59-.52 0-1.04.2-1.43.59L10.3 9.45l-7.72 7.72c-.78.78-.78 2.05 0 2.83L4 21.41c.39.39.9.59 1.41.59.51 0 1.02-.2 1.41-.59l7.78-7.78 2.81-2.81c.8-.78.8-2.07 0-2.86zM5.41 20L4 18.59l7.72-7.72 1.47 1.35L5.41 20z\"/>\n",
              "  </svg>\n",
              "      </button>\n",
              "      \n",
              "  <style>\n",
              "    .colab-df-container {\n",
              "      display:flex;\n",
              "      flex-wrap:wrap;\n",
              "      gap: 12px;\n",
              "    }\n",
              "\n",
              "    .colab-df-convert {\n",
              "      background-color: #E8F0FE;\n",
              "      border: none;\n",
              "      border-radius: 50%;\n",
              "      cursor: pointer;\n",
              "      display: none;\n",
              "      fill: #1967D2;\n",
              "      height: 32px;\n",
              "      padding: 0 0 0 0;\n",
              "      width: 32px;\n",
              "    }\n",
              "\n",
              "    .colab-df-convert:hover {\n",
              "      background-color: #E2EBFA;\n",
              "      box-shadow: 0px 1px 2px rgba(60, 64, 67, 0.3), 0px 1px 3px 1px rgba(60, 64, 67, 0.15);\n",
              "      fill: #174EA6;\n",
              "    }\n",
              "\n",
              "    [theme=dark] .colab-df-convert {\n",
              "      background-color: #3B4455;\n",
              "      fill: #D2E3FC;\n",
              "    }\n",
              "\n",
              "    [theme=dark] .colab-df-convert:hover {\n",
              "      background-color: #434B5C;\n",
              "      box-shadow: 0px 1px 3px 1px rgba(0, 0, 0, 0.15);\n",
              "      filter: drop-shadow(0px 1px 2px rgba(0, 0, 0, 0.3));\n",
              "      fill: #FFFFFF;\n",
              "    }\n",
              "  </style>\n",
              "\n",
              "      <script>\n",
              "        const buttonEl =\n",
              "          document.querySelector('#df-13f68427-2374-49b3-9104-b8c9448374be button.colab-df-convert');\n",
              "        buttonEl.style.display =\n",
              "          google.colab.kernel.accessAllowed ? 'block' : 'none';\n",
              "\n",
              "        async function convertToInteractive(key) {\n",
              "          const element = document.querySelector('#df-13f68427-2374-49b3-9104-b8c9448374be');\n",
              "          const dataTable =\n",
              "            await google.colab.kernel.invokeFunction('convertToInteractive',\n",
              "                                                     [key], {});\n",
              "          if (!dataTable) return;\n",
              "\n",
              "          const docLinkHtml = 'Like what you see? Visit the ' +\n",
              "            '<a target=\"_blank\" href=https://colab.research.google.com/notebooks/data_table.ipynb>data table notebook</a>'\n",
              "            + ' to learn more about interactive tables.';\n",
              "          element.innerHTML = '';\n",
              "          dataTable['output_type'] = 'display_data';\n",
              "          await google.colab.output.renderOutput(dataTable, element);\n",
              "          const docLink = document.createElement('div');\n",
              "          docLink.innerHTML = docLinkHtml;\n",
              "          element.appendChild(docLink);\n",
              "        }\n",
              "      </script>\n",
              "    </div>\n",
              "  </div>\n",
              "  "
            ]
          },
          "metadata": {},
          "execution_count": 20
        }
      ]
    },
    {
      "cell_type": "markdown",
      "source": [
        "###### **Merging DataFrames Together**"
      ],
      "metadata": {
        "id": "06BE4C08qohj"
      },
      "id": "06BE4C08qohj"
    },
    {
      "cell_type": "markdown",
      "source": [
        "There are two ways to merge data with Pandas:\n",
        "\n",
        "- `pd.concat()` - stack additional data\n",
        "- `df.merge()` - database-style merge\n",
        "\n",
        "The type of merge you use depends upon the data that you're merging. \n",
        "\n",
        "If you have rows or columns that align, then `pd.concat()` is the best function to use because it stacks the data together.\n",
        "\n",
        "If you have datasets with a common key or value or index, then `pd.merge()` is the best function to use to achieve that relation.\n"
      ],
      "metadata": {
        "id": "Ur5T7NpiqvRC"
      },
      "id": "Ur5T7NpiqvRC"
    },
    {
      "cell_type": "code",
      "source": [
        "# data sets to merge\n",
        "df_2 = pd.DataFrame({'e': [63,84,76,28,81], 'f':[67,80,73,66,89]}, index=[1,2,3,4,5])\n",
        "\n",
        "df_3 = pd.DataFrame({'a':100,'b': 100, 'c': 100, 'd': 100, 'e': 100, 'f': 100}, index=[6])"
      ],
      "metadata": {
        "id": "7oK1TQiLi9b5"
      },
      "id": "7oK1TQiLi9b5",
      "execution_count": null,
      "outputs": []
    },
    {
      "cell_type": "code",
      "source": [
        "# inner join - index is the common key\n",
        "df_final = df.merge(df_2,left_index=True,right_index=True)\n",
        "display(df_final)"
      ],
      "metadata": {
        "id": "yzVT7F5yqv4u",
        "colab": {
          "base_uri": "https://localhost:8080/",
          "height": 206
        },
        "outputId": "28563fbb-0692-4d50-b969-cd92fc1860fc"
      },
      "id": "yzVT7F5yqv4u",
      "execution_count": null,
      "outputs": [
        {
          "output_type": "display_data",
          "data": {
            "text/plain": [
              "    a    b   c   d   e   f\n",
              "1  80   80  66  79  63  67\n",
              "2  75   85  75  83  84  80\n",
              "3  70   90  91  99  76  73\n",
              "4  90   95  72  90  28  66\n",
              "5  98  100  83  76  81  89"
            ],
            "text/html": [
              "\n",
              "  <div id=\"df-433c56fd-89aa-4c8f-abe0-6955d1feae5e\">\n",
              "    <div class=\"colab-df-container\">\n",
              "      <div>\n",
              "<style scoped>\n",
              "    .dataframe tbody tr th:only-of-type {\n",
              "        vertical-align: middle;\n",
              "    }\n",
              "\n",
              "    .dataframe tbody tr th {\n",
              "        vertical-align: top;\n",
              "    }\n",
              "\n",
              "    .dataframe thead th {\n",
              "        text-align: right;\n",
              "    }\n",
              "</style>\n",
              "<table border=\"1\" class=\"dataframe\">\n",
              "  <thead>\n",
              "    <tr style=\"text-align: right;\">\n",
              "      <th></th>\n",
              "      <th>a</th>\n",
              "      <th>b</th>\n",
              "      <th>c</th>\n",
              "      <th>d</th>\n",
              "      <th>e</th>\n",
              "      <th>f</th>\n",
              "    </tr>\n",
              "  </thead>\n",
              "  <tbody>\n",
              "    <tr>\n",
              "      <th>1</th>\n",
              "      <td>80</td>\n",
              "      <td>80</td>\n",
              "      <td>66</td>\n",
              "      <td>79</td>\n",
              "      <td>63</td>\n",
              "      <td>67</td>\n",
              "    </tr>\n",
              "    <tr>\n",
              "      <th>2</th>\n",
              "      <td>75</td>\n",
              "      <td>85</td>\n",
              "      <td>75</td>\n",
              "      <td>83</td>\n",
              "      <td>84</td>\n",
              "      <td>80</td>\n",
              "    </tr>\n",
              "    <tr>\n",
              "      <th>3</th>\n",
              "      <td>70</td>\n",
              "      <td>90</td>\n",
              "      <td>91</td>\n",
              "      <td>99</td>\n",
              "      <td>76</td>\n",
              "      <td>73</td>\n",
              "    </tr>\n",
              "    <tr>\n",
              "      <th>4</th>\n",
              "      <td>90</td>\n",
              "      <td>95</td>\n",
              "      <td>72</td>\n",
              "      <td>90</td>\n",
              "      <td>28</td>\n",
              "      <td>66</td>\n",
              "    </tr>\n",
              "    <tr>\n",
              "      <th>5</th>\n",
              "      <td>98</td>\n",
              "      <td>100</td>\n",
              "      <td>83</td>\n",
              "      <td>76</td>\n",
              "      <td>81</td>\n",
              "      <td>89</td>\n",
              "    </tr>\n",
              "  </tbody>\n",
              "</table>\n",
              "</div>\n",
              "      <button class=\"colab-df-convert\" onclick=\"convertToInteractive('df-433c56fd-89aa-4c8f-abe0-6955d1feae5e')\"\n",
              "              title=\"Convert this dataframe to an interactive table.\"\n",
              "              style=\"display:none;\">\n",
              "        \n",
              "  <svg xmlns=\"http://www.w3.org/2000/svg\" height=\"24px\"viewBox=\"0 0 24 24\"\n",
              "       width=\"24px\">\n",
              "    <path d=\"M0 0h24v24H0V0z\" fill=\"none\"/>\n",
              "    <path d=\"M18.56 5.44l.94 2.06.94-2.06 2.06-.94-2.06-.94-.94-2.06-.94 2.06-2.06.94zm-11 1L8.5 8.5l.94-2.06 2.06-.94-2.06-.94L8.5 2.5l-.94 2.06-2.06.94zm10 10l.94 2.06.94-2.06 2.06-.94-2.06-.94-.94-2.06-.94 2.06-2.06.94z\"/><path d=\"M17.41 7.96l-1.37-1.37c-.4-.4-.92-.59-1.43-.59-.52 0-1.04.2-1.43.59L10.3 9.45l-7.72 7.72c-.78.78-.78 2.05 0 2.83L4 21.41c.39.39.9.59 1.41.59.51 0 1.02-.2 1.41-.59l7.78-7.78 2.81-2.81c.8-.78.8-2.07 0-2.86zM5.41 20L4 18.59l7.72-7.72 1.47 1.35L5.41 20z\"/>\n",
              "  </svg>\n",
              "      </button>\n",
              "      \n",
              "  <style>\n",
              "    .colab-df-container {\n",
              "      display:flex;\n",
              "      flex-wrap:wrap;\n",
              "      gap: 12px;\n",
              "    }\n",
              "\n",
              "    .colab-df-convert {\n",
              "      background-color: #E8F0FE;\n",
              "      border: none;\n",
              "      border-radius: 50%;\n",
              "      cursor: pointer;\n",
              "      display: none;\n",
              "      fill: #1967D2;\n",
              "      height: 32px;\n",
              "      padding: 0 0 0 0;\n",
              "      width: 32px;\n",
              "    }\n",
              "\n",
              "    .colab-df-convert:hover {\n",
              "      background-color: #E2EBFA;\n",
              "      box-shadow: 0px 1px 2px rgba(60, 64, 67, 0.3), 0px 1px 3px 1px rgba(60, 64, 67, 0.15);\n",
              "      fill: #174EA6;\n",
              "    }\n",
              "\n",
              "    [theme=dark] .colab-df-convert {\n",
              "      background-color: #3B4455;\n",
              "      fill: #D2E3FC;\n",
              "    }\n",
              "\n",
              "    [theme=dark] .colab-df-convert:hover {\n",
              "      background-color: #434B5C;\n",
              "      box-shadow: 0px 1px 3px 1px rgba(0, 0, 0, 0.15);\n",
              "      filter: drop-shadow(0px 1px 2px rgba(0, 0, 0, 0.3));\n",
              "      fill: #FFFFFF;\n",
              "    }\n",
              "  </style>\n",
              "\n",
              "      <script>\n",
              "        const buttonEl =\n",
              "          document.querySelector('#df-433c56fd-89aa-4c8f-abe0-6955d1feae5e button.colab-df-convert');\n",
              "        buttonEl.style.display =\n",
              "          google.colab.kernel.accessAllowed ? 'block' : 'none';\n",
              "\n",
              "        async function convertToInteractive(key) {\n",
              "          const element = document.querySelector('#df-433c56fd-89aa-4c8f-abe0-6955d1feae5e');\n",
              "          const dataTable =\n",
              "            await google.colab.kernel.invokeFunction('convertToInteractive',\n",
              "                                                     [key], {});\n",
              "          if (!dataTable) return;\n",
              "\n",
              "          const docLinkHtml = 'Like what you see? Visit the ' +\n",
              "            '<a target=\"_blank\" href=https://colab.research.google.com/notebooks/data_table.ipynb>data table notebook</a>'\n",
              "            + ' to learn more about interactive tables.';\n",
              "          element.innerHTML = '';\n",
              "          dataTable['output_type'] = 'display_data';\n",
              "          await google.colab.output.renderOutput(dataTable, element);\n",
              "          const docLink = document.createElement('div');\n",
              "          docLink.innerHTML = docLinkHtml;\n",
              "          element.appendChild(docLink);\n",
              "        }\n",
              "      </script>\n",
              "    </div>\n",
              "  </div>\n",
              "  "
            ]
          },
          "metadata": {}
        }
      ]
    },
    {
      "cell_type": "code",
      "source": [
        "# stacking on additional data to the bottom of the data frame\n",
        "df_final = pd.concat([df_final,df_3])\n",
        "display(df_final)"
      ],
      "metadata": {
        "colab": {
          "base_uri": "https://localhost:8080/",
          "height": 237
        },
        "id": "YEMmiO8YhtVy",
        "outputId": "513a26f0-3233-4eb4-af55-5795811e171d"
      },
      "id": "YEMmiO8YhtVy",
      "execution_count": null,
      "outputs": [
        {
          "output_type": "display_data",
          "data": {
            "text/plain": [
              "     a    b    c    d    e    f\n",
              "1   80   80   66   79   63   67\n",
              "2   75   85   75   83   84   80\n",
              "3   70   90   91   99   76   73\n",
              "4   90   95   72   90   28   66\n",
              "5   98  100   83   76   81   89\n",
              "6  100  100  100  100  100  100"
            ],
            "text/html": [
              "\n",
              "  <div id=\"df-70793cd4-1932-44ec-b071-46a8fb176925\">\n",
              "    <div class=\"colab-df-container\">\n",
              "      <div>\n",
              "<style scoped>\n",
              "    .dataframe tbody tr th:only-of-type {\n",
              "        vertical-align: middle;\n",
              "    }\n",
              "\n",
              "    .dataframe tbody tr th {\n",
              "        vertical-align: top;\n",
              "    }\n",
              "\n",
              "    .dataframe thead th {\n",
              "        text-align: right;\n",
              "    }\n",
              "</style>\n",
              "<table border=\"1\" class=\"dataframe\">\n",
              "  <thead>\n",
              "    <tr style=\"text-align: right;\">\n",
              "      <th></th>\n",
              "      <th>a</th>\n",
              "      <th>b</th>\n",
              "      <th>c</th>\n",
              "      <th>d</th>\n",
              "      <th>e</th>\n",
              "      <th>f</th>\n",
              "    </tr>\n",
              "  </thead>\n",
              "  <tbody>\n",
              "    <tr>\n",
              "      <th>1</th>\n",
              "      <td>80</td>\n",
              "      <td>80</td>\n",
              "      <td>66</td>\n",
              "      <td>79</td>\n",
              "      <td>63</td>\n",
              "      <td>67</td>\n",
              "    </tr>\n",
              "    <tr>\n",
              "      <th>2</th>\n",
              "      <td>75</td>\n",
              "      <td>85</td>\n",
              "      <td>75</td>\n",
              "      <td>83</td>\n",
              "      <td>84</td>\n",
              "      <td>80</td>\n",
              "    </tr>\n",
              "    <tr>\n",
              "      <th>3</th>\n",
              "      <td>70</td>\n",
              "      <td>90</td>\n",
              "      <td>91</td>\n",
              "      <td>99</td>\n",
              "      <td>76</td>\n",
              "      <td>73</td>\n",
              "    </tr>\n",
              "    <tr>\n",
              "      <th>4</th>\n",
              "      <td>90</td>\n",
              "      <td>95</td>\n",
              "      <td>72</td>\n",
              "      <td>90</td>\n",
              "      <td>28</td>\n",
              "      <td>66</td>\n",
              "    </tr>\n",
              "    <tr>\n",
              "      <th>5</th>\n",
              "      <td>98</td>\n",
              "      <td>100</td>\n",
              "      <td>83</td>\n",
              "      <td>76</td>\n",
              "      <td>81</td>\n",
              "      <td>89</td>\n",
              "    </tr>\n",
              "    <tr>\n",
              "      <th>6</th>\n",
              "      <td>100</td>\n",
              "      <td>100</td>\n",
              "      <td>100</td>\n",
              "      <td>100</td>\n",
              "      <td>100</td>\n",
              "      <td>100</td>\n",
              "    </tr>\n",
              "  </tbody>\n",
              "</table>\n",
              "</div>\n",
              "      <button class=\"colab-df-convert\" onclick=\"convertToInteractive('df-70793cd4-1932-44ec-b071-46a8fb176925')\"\n",
              "              title=\"Convert this dataframe to an interactive table.\"\n",
              "              style=\"display:none;\">\n",
              "        \n",
              "  <svg xmlns=\"http://www.w3.org/2000/svg\" height=\"24px\"viewBox=\"0 0 24 24\"\n",
              "       width=\"24px\">\n",
              "    <path d=\"M0 0h24v24H0V0z\" fill=\"none\"/>\n",
              "    <path d=\"M18.56 5.44l.94 2.06.94-2.06 2.06-.94-2.06-.94-.94-2.06-.94 2.06-2.06.94zm-11 1L8.5 8.5l.94-2.06 2.06-.94-2.06-.94L8.5 2.5l-.94 2.06-2.06.94zm10 10l.94 2.06.94-2.06 2.06-.94-2.06-.94-.94-2.06-.94 2.06-2.06.94z\"/><path d=\"M17.41 7.96l-1.37-1.37c-.4-.4-.92-.59-1.43-.59-.52 0-1.04.2-1.43.59L10.3 9.45l-7.72 7.72c-.78.78-.78 2.05 0 2.83L4 21.41c.39.39.9.59 1.41.59.51 0 1.02-.2 1.41-.59l7.78-7.78 2.81-2.81c.8-.78.8-2.07 0-2.86zM5.41 20L4 18.59l7.72-7.72 1.47 1.35L5.41 20z\"/>\n",
              "  </svg>\n",
              "      </button>\n",
              "      \n",
              "  <style>\n",
              "    .colab-df-container {\n",
              "      display:flex;\n",
              "      flex-wrap:wrap;\n",
              "      gap: 12px;\n",
              "    }\n",
              "\n",
              "    .colab-df-convert {\n",
              "      background-color: #E8F0FE;\n",
              "      border: none;\n",
              "      border-radius: 50%;\n",
              "      cursor: pointer;\n",
              "      display: none;\n",
              "      fill: #1967D2;\n",
              "      height: 32px;\n",
              "      padding: 0 0 0 0;\n",
              "      width: 32px;\n",
              "    }\n",
              "\n",
              "    .colab-df-convert:hover {\n",
              "      background-color: #E2EBFA;\n",
              "      box-shadow: 0px 1px 2px rgba(60, 64, 67, 0.3), 0px 1px 3px 1px rgba(60, 64, 67, 0.15);\n",
              "      fill: #174EA6;\n",
              "    }\n",
              "\n",
              "    [theme=dark] .colab-df-convert {\n",
              "      background-color: #3B4455;\n",
              "      fill: #D2E3FC;\n",
              "    }\n",
              "\n",
              "    [theme=dark] .colab-df-convert:hover {\n",
              "      background-color: #434B5C;\n",
              "      box-shadow: 0px 1px 3px 1px rgba(0, 0, 0, 0.15);\n",
              "      filter: drop-shadow(0px 1px 2px rgba(0, 0, 0, 0.3));\n",
              "      fill: #FFFFFF;\n",
              "    }\n",
              "  </style>\n",
              "\n",
              "      <script>\n",
              "        const buttonEl =\n",
              "          document.querySelector('#df-70793cd4-1932-44ec-b071-46a8fb176925 button.colab-df-convert');\n",
              "        buttonEl.style.display =\n",
              "          google.colab.kernel.accessAllowed ? 'block' : 'none';\n",
              "\n",
              "        async function convertToInteractive(key) {\n",
              "          const element = document.querySelector('#df-70793cd4-1932-44ec-b071-46a8fb176925');\n",
              "          const dataTable =\n",
              "            await google.colab.kernel.invokeFunction('convertToInteractive',\n",
              "                                                     [key], {});\n",
              "          if (!dataTable) return;\n",
              "\n",
              "          const docLinkHtml = 'Like what you see? Visit the ' +\n",
              "            '<a target=\"_blank\" href=https://colab.research.google.com/notebooks/data_table.ipynb>data table notebook</a>'\n",
              "            + ' to learn more about interactive tables.';\n",
              "          element.innerHTML = '';\n",
              "          dataTable['output_type'] = 'display_data';\n",
              "          await google.colab.output.renderOutput(dataTable, element);\n",
              "          const docLink = document.createElement('div');\n",
              "          docLink.innerHTML = docLinkHtml;\n",
              "          element.appendChild(docLink);\n",
              "        }\n",
              "      </script>\n",
              "    </div>\n",
              "  </div>\n",
              "  "
            ]
          },
          "metadata": {}
        }
      ]
    },
    {
      "cell_type": "markdown",
      "source": [
        "###### **Reshaping DataFrames**"
      ],
      "metadata": {
        "id": "kk4AJxmdZGJ_"
      },
      "id": "kk4AJxmdZGJ_"
    },
    {
      "cell_type": "markdown",
      "source": [
        "Sometimes data is not in the ideal shape we would like for it to be. There are three main functions to deal with reshaping:\n",
        "\n",
        "`.T` - transpose dataframe - switch rows and columns\n",
        "\n",
        "`.pivot()` - converting from long to wide formats\n",
        "\n",
        "`.melt()` - converting from wide to long formats"
      ],
      "metadata": {
        "id": "BAbF6VJxZRxa"
      },
      "id": "BAbF6VJxZRxa"
    },
    {
      "cell_type": "code",
      "source": [
        "#create employee dataset\n",
        "emp_data = [['Tom', 20, 19, '07/06/2021'],\n",
        "       ['Steven', 15, 18, '08/05/2022'],\n",
        "       ['Gianna', 23, 22, '06/25/2021'],\n",
        "       ['Karina', 25, 21, '07/01/2021']]\n",
        "\n",
        "emp = pd.DataFrame(emp_data, columns=['Name','$/Hr','Age','Start Date'], index=[1,2,3,4])\n",
        "display(emp)"
      ],
      "metadata": {
        "colab": {
          "base_uri": "https://localhost:8080/",
          "height": 175
        },
        "id": "8A-EXxYVZFhJ",
        "outputId": "f5711c1b-b9ba-4785-918e-7c41ead97175"
      },
      "id": "8A-EXxYVZFhJ",
      "execution_count": null,
      "outputs": [
        {
          "output_type": "display_data",
          "data": {
            "text/plain": [
              "     Name  $/Hr  Age  Start Date\n",
              "1     Tom    20   19  07/06/2021\n",
              "2  Steven    15   18  08/05/2022\n",
              "3  Gianna    23   22  06/25/2021\n",
              "4  Karina    25   21  07/01/2021"
            ],
            "text/html": [
              "\n",
              "  <div id=\"df-4643e1a9-3eed-45d7-bb0d-2d68281ac1c6\">\n",
              "    <div class=\"colab-df-container\">\n",
              "      <div>\n",
              "<style scoped>\n",
              "    .dataframe tbody tr th:only-of-type {\n",
              "        vertical-align: middle;\n",
              "    }\n",
              "\n",
              "    .dataframe tbody tr th {\n",
              "        vertical-align: top;\n",
              "    }\n",
              "\n",
              "    .dataframe thead th {\n",
              "        text-align: right;\n",
              "    }\n",
              "</style>\n",
              "<table border=\"1\" class=\"dataframe\">\n",
              "  <thead>\n",
              "    <tr style=\"text-align: right;\">\n",
              "      <th></th>\n",
              "      <th>Name</th>\n",
              "      <th>$/Hr</th>\n",
              "      <th>Age</th>\n",
              "      <th>Start Date</th>\n",
              "    </tr>\n",
              "  </thead>\n",
              "  <tbody>\n",
              "    <tr>\n",
              "      <th>1</th>\n",
              "      <td>Tom</td>\n",
              "      <td>20</td>\n",
              "      <td>19</td>\n",
              "      <td>07/06/2021</td>\n",
              "    </tr>\n",
              "    <tr>\n",
              "      <th>2</th>\n",
              "      <td>Steven</td>\n",
              "      <td>15</td>\n",
              "      <td>18</td>\n",
              "      <td>08/05/2022</td>\n",
              "    </tr>\n",
              "    <tr>\n",
              "      <th>3</th>\n",
              "      <td>Gianna</td>\n",
              "      <td>23</td>\n",
              "      <td>22</td>\n",
              "      <td>06/25/2021</td>\n",
              "    </tr>\n",
              "    <tr>\n",
              "      <th>4</th>\n",
              "      <td>Karina</td>\n",
              "      <td>25</td>\n",
              "      <td>21</td>\n",
              "      <td>07/01/2021</td>\n",
              "    </tr>\n",
              "  </tbody>\n",
              "</table>\n",
              "</div>\n",
              "      <button class=\"colab-df-convert\" onclick=\"convertToInteractive('df-4643e1a9-3eed-45d7-bb0d-2d68281ac1c6')\"\n",
              "              title=\"Convert this dataframe to an interactive table.\"\n",
              "              style=\"display:none;\">\n",
              "        \n",
              "  <svg xmlns=\"http://www.w3.org/2000/svg\" height=\"24px\"viewBox=\"0 0 24 24\"\n",
              "       width=\"24px\">\n",
              "    <path d=\"M0 0h24v24H0V0z\" fill=\"none\"/>\n",
              "    <path d=\"M18.56 5.44l.94 2.06.94-2.06 2.06-.94-2.06-.94-.94-2.06-.94 2.06-2.06.94zm-11 1L8.5 8.5l.94-2.06 2.06-.94-2.06-.94L8.5 2.5l-.94 2.06-2.06.94zm10 10l.94 2.06.94-2.06 2.06-.94-2.06-.94-.94-2.06-.94 2.06-2.06.94z\"/><path d=\"M17.41 7.96l-1.37-1.37c-.4-.4-.92-.59-1.43-.59-.52 0-1.04.2-1.43.59L10.3 9.45l-7.72 7.72c-.78.78-.78 2.05 0 2.83L4 21.41c.39.39.9.59 1.41.59.51 0 1.02-.2 1.41-.59l7.78-7.78 2.81-2.81c.8-.78.8-2.07 0-2.86zM5.41 20L4 18.59l7.72-7.72 1.47 1.35L5.41 20z\"/>\n",
              "  </svg>\n",
              "      </button>\n",
              "      \n",
              "  <style>\n",
              "    .colab-df-container {\n",
              "      display:flex;\n",
              "      flex-wrap:wrap;\n",
              "      gap: 12px;\n",
              "    }\n",
              "\n",
              "    .colab-df-convert {\n",
              "      background-color: #E8F0FE;\n",
              "      border: none;\n",
              "      border-radius: 50%;\n",
              "      cursor: pointer;\n",
              "      display: none;\n",
              "      fill: #1967D2;\n",
              "      height: 32px;\n",
              "      padding: 0 0 0 0;\n",
              "      width: 32px;\n",
              "    }\n",
              "\n",
              "    .colab-df-convert:hover {\n",
              "      background-color: #E2EBFA;\n",
              "      box-shadow: 0px 1px 2px rgba(60, 64, 67, 0.3), 0px 1px 3px 1px rgba(60, 64, 67, 0.15);\n",
              "      fill: #174EA6;\n",
              "    }\n",
              "\n",
              "    [theme=dark] .colab-df-convert {\n",
              "      background-color: #3B4455;\n",
              "      fill: #D2E3FC;\n",
              "    }\n",
              "\n",
              "    [theme=dark] .colab-df-convert:hover {\n",
              "      background-color: #434B5C;\n",
              "      box-shadow: 0px 1px 3px 1px rgba(0, 0, 0, 0.15);\n",
              "      filter: drop-shadow(0px 1px 2px rgba(0, 0, 0, 0.3));\n",
              "      fill: #FFFFFF;\n",
              "    }\n",
              "  </style>\n",
              "\n",
              "      <script>\n",
              "        const buttonEl =\n",
              "          document.querySelector('#df-4643e1a9-3eed-45d7-bb0d-2d68281ac1c6 button.colab-df-convert');\n",
              "        buttonEl.style.display =\n",
              "          google.colab.kernel.accessAllowed ? 'block' : 'none';\n",
              "\n",
              "        async function convertToInteractive(key) {\n",
              "          const element = document.querySelector('#df-4643e1a9-3eed-45d7-bb0d-2d68281ac1c6');\n",
              "          const dataTable =\n",
              "            await google.colab.kernel.invokeFunction('convertToInteractive',\n",
              "                                                     [key], {});\n",
              "          if (!dataTable) return;\n",
              "\n",
              "          const docLinkHtml = 'Like what you see? Visit the ' +\n",
              "            '<a target=\"_blank\" href=https://colab.research.google.com/notebooks/data_table.ipynb>data table notebook</a>'\n",
              "            + ' to learn more about interactive tables.';\n",
              "          element.innerHTML = '';\n",
              "          dataTable['output_type'] = 'display_data';\n",
              "          await google.colab.output.renderOutput(dataTable, element);\n",
              "          const docLink = document.createElement('div');\n",
              "          docLink.innerHTML = docLinkHtml;\n",
              "          element.appendChild(docLink);\n",
              "        }\n",
              "      </script>\n",
              "    </div>\n",
              "  </div>\n",
              "  "
            ]
          },
          "metadata": {}
        }
      ]
    },
    {
      "cell_type": "code",
      "source": [
        "# displaying T functionality\n",
        "display(emp.T)"
      ],
      "metadata": {
        "colab": {
          "base_uri": "https://localhost:8080/",
          "height": 175
        },
        "id": "DwGZyaSGheN3",
        "outputId": "cc2ac027-40e1-4691-bf1f-5bb95516ae3a"
      },
      "id": "DwGZyaSGheN3",
      "execution_count": null,
      "outputs": [
        {
          "output_type": "display_data",
          "data": {
            "text/plain": [
              "                     1           2           3           4\n",
              "Name               Tom      Steven      Gianna      Karina\n",
              "$/Hr                20          15          23          25\n",
              "Age                 19          18          22          21\n",
              "Start Date  07/06/2021  08/05/2022  06/25/2021  07/01/2021"
            ],
            "text/html": [
              "\n",
              "  <div id=\"df-be0df772-bac2-44ad-8705-5036cfbc971b\">\n",
              "    <div class=\"colab-df-container\">\n",
              "      <div>\n",
              "<style scoped>\n",
              "    .dataframe tbody tr th:only-of-type {\n",
              "        vertical-align: middle;\n",
              "    }\n",
              "\n",
              "    .dataframe tbody tr th {\n",
              "        vertical-align: top;\n",
              "    }\n",
              "\n",
              "    .dataframe thead th {\n",
              "        text-align: right;\n",
              "    }\n",
              "</style>\n",
              "<table border=\"1\" class=\"dataframe\">\n",
              "  <thead>\n",
              "    <tr style=\"text-align: right;\">\n",
              "      <th></th>\n",
              "      <th>1</th>\n",
              "      <th>2</th>\n",
              "      <th>3</th>\n",
              "      <th>4</th>\n",
              "    </tr>\n",
              "  </thead>\n",
              "  <tbody>\n",
              "    <tr>\n",
              "      <th>Name</th>\n",
              "      <td>Tom</td>\n",
              "      <td>Steven</td>\n",
              "      <td>Gianna</td>\n",
              "      <td>Karina</td>\n",
              "    </tr>\n",
              "    <tr>\n",
              "      <th>$/Hr</th>\n",
              "      <td>20</td>\n",
              "      <td>15</td>\n",
              "      <td>23</td>\n",
              "      <td>25</td>\n",
              "    </tr>\n",
              "    <tr>\n",
              "      <th>Age</th>\n",
              "      <td>19</td>\n",
              "      <td>18</td>\n",
              "      <td>22</td>\n",
              "      <td>21</td>\n",
              "    </tr>\n",
              "    <tr>\n",
              "      <th>Start Date</th>\n",
              "      <td>07/06/2021</td>\n",
              "      <td>08/05/2022</td>\n",
              "      <td>06/25/2021</td>\n",
              "      <td>07/01/2021</td>\n",
              "    </tr>\n",
              "  </tbody>\n",
              "</table>\n",
              "</div>\n",
              "      <button class=\"colab-df-convert\" onclick=\"convertToInteractive('df-be0df772-bac2-44ad-8705-5036cfbc971b')\"\n",
              "              title=\"Convert this dataframe to an interactive table.\"\n",
              "              style=\"display:none;\">\n",
              "        \n",
              "  <svg xmlns=\"http://www.w3.org/2000/svg\" height=\"24px\"viewBox=\"0 0 24 24\"\n",
              "       width=\"24px\">\n",
              "    <path d=\"M0 0h24v24H0V0z\" fill=\"none\"/>\n",
              "    <path d=\"M18.56 5.44l.94 2.06.94-2.06 2.06-.94-2.06-.94-.94-2.06-.94 2.06-2.06.94zm-11 1L8.5 8.5l.94-2.06 2.06-.94-2.06-.94L8.5 2.5l-.94 2.06-2.06.94zm10 10l.94 2.06.94-2.06 2.06-.94-2.06-.94-.94-2.06-.94 2.06-2.06.94z\"/><path d=\"M17.41 7.96l-1.37-1.37c-.4-.4-.92-.59-1.43-.59-.52 0-1.04.2-1.43.59L10.3 9.45l-7.72 7.72c-.78.78-.78 2.05 0 2.83L4 21.41c.39.39.9.59 1.41.59.51 0 1.02-.2 1.41-.59l7.78-7.78 2.81-2.81c.8-.78.8-2.07 0-2.86zM5.41 20L4 18.59l7.72-7.72 1.47 1.35L5.41 20z\"/>\n",
              "  </svg>\n",
              "      </button>\n",
              "      \n",
              "  <style>\n",
              "    .colab-df-container {\n",
              "      display:flex;\n",
              "      flex-wrap:wrap;\n",
              "      gap: 12px;\n",
              "    }\n",
              "\n",
              "    .colab-df-convert {\n",
              "      background-color: #E8F0FE;\n",
              "      border: none;\n",
              "      border-radius: 50%;\n",
              "      cursor: pointer;\n",
              "      display: none;\n",
              "      fill: #1967D2;\n",
              "      height: 32px;\n",
              "      padding: 0 0 0 0;\n",
              "      width: 32px;\n",
              "    }\n",
              "\n",
              "    .colab-df-convert:hover {\n",
              "      background-color: #E2EBFA;\n",
              "      box-shadow: 0px 1px 2px rgba(60, 64, 67, 0.3), 0px 1px 3px 1px rgba(60, 64, 67, 0.15);\n",
              "      fill: #174EA6;\n",
              "    }\n",
              "\n",
              "    [theme=dark] .colab-df-convert {\n",
              "      background-color: #3B4455;\n",
              "      fill: #D2E3FC;\n",
              "    }\n",
              "\n",
              "    [theme=dark] .colab-df-convert:hover {\n",
              "      background-color: #434B5C;\n",
              "      box-shadow: 0px 1px 3px 1px rgba(0, 0, 0, 0.15);\n",
              "      filter: drop-shadow(0px 1px 2px rgba(0, 0, 0, 0.3));\n",
              "      fill: #FFFFFF;\n",
              "    }\n",
              "  </style>\n",
              "\n",
              "      <script>\n",
              "        const buttonEl =\n",
              "          document.querySelector('#df-be0df772-bac2-44ad-8705-5036cfbc971b button.colab-df-convert');\n",
              "        buttonEl.style.display =\n",
              "          google.colab.kernel.accessAllowed ? 'block' : 'none';\n",
              "\n",
              "        async function convertToInteractive(key) {\n",
              "          const element = document.querySelector('#df-be0df772-bac2-44ad-8705-5036cfbc971b');\n",
              "          const dataTable =\n",
              "            await google.colab.kernel.invokeFunction('convertToInteractive',\n",
              "                                                     [key], {});\n",
              "          if (!dataTable) return;\n",
              "\n",
              "          const docLinkHtml = 'Like what you see? Visit the ' +\n",
              "            '<a target=\"_blank\" href=https://colab.research.google.com/notebooks/data_table.ipynb>data table notebook</a>'\n",
              "            + ' to learn more about interactive tables.';\n",
              "          element.innerHTML = '';\n",
              "          dataTable['output_type'] = 'display_data';\n",
              "          await google.colab.output.renderOutput(dataTable, element);\n",
              "          const docLink = document.createElement('div');\n",
              "          docLink.innerHTML = docLinkHtml;\n",
              "          element.appendChild(docLink);\n",
              "        }\n",
              "      </script>\n",
              "    </div>\n",
              "  </div>\n",
              "  "
            ]
          },
          "metadata": {}
        }
      ]
    },
    {
      "cell_type": "code",
      "source": [
        "#create student dataset\n",
        "stu_data = [['Sam','Bachelors', 21],\n",
        "            ['Christian', 'Graduated', 22],\n",
        "            ['Mafu', 'Graduated', 23],\n",
        "            ['Vivek','Masters', 22],\n",
        "            ['Keva', 'Bachelors', 19],\n",
        "            ['Thi', 'Masters', 25]]\n",
        "\n",
        "stud = pd.DataFrame(stu_data, columns=['A','B','C'])\n",
        "display(stud)"
      ],
      "metadata": {
        "id": "-HDZZHPXh4JX",
        "colab": {
          "base_uri": "https://localhost:8080/",
          "height": 237
        },
        "outputId": "a0245b44-5784-48a1-8843-ddda7e97fbeb"
      },
      "id": "-HDZZHPXh4JX",
      "execution_count": null,
      "outputs": [
        {
          "output_type": "display_data",
          "data": {
            "text/plain": [
              "           A          B   C\n",
              "0        Sam  Bachelors  21\n",
              "1  Christian  Graduated  22\n",
              "2       Mafu  Graduated  23\n",
              "3      Vivek    Masters  22\n",
              "4       Keva  Bachelors  19\n",
              "5        Thi    Masters  25"
            ],
            "text/html": [
              "\n",
              "  <div id=\"df-287c81d1-82e3-4cae-80e4-205e44f6a1b4\">\n",
              "    <div class=\"colab-df-container\">\n",
              "      <div>\n",
              "<style scoped>\n",
              "    .dataframe tbody tr th:only-of-type {\n",
              "        vertical-align: middle;\n",
              "    }\n",
              "\n",
              "    .dataframe tbody tr th {\n",
              "        vertical-align: top;\n",
              "    }\n",
              "\n",
              "    .dataframe thead th {\n",
              "        text-align: right;\n",
              "    }\n",
              "</style>\n",
              "<table border=\"1\" class=\"dataframe\">\n",
              "  <thead>\n",
              "    <tr style=\"text-align: right;\">\n",
              "      <th></th>\n",
              "      <th>A</th>\n",
              "      <th>B</th>\n",
              "      <th>C</th>\n",
              "    </tr>\n",
              "  </thead>\n",
              "  <tbody>\n",
              "    <tr>\n",
              "      <th>0</th>\n",
              "      <td>Sam</td>\n",
              "      <td>Bachelors</td>\n",
              "      <td>21</td>\n",
              "    </tr>\n",
              "    <tr>\n",
              "      <th>1</th>\n",
              "      <td>Christian</td>\n",
              "      <td>Graduated</td>\n",
              "      <td>22</td>\n",
              "    </tr>\n",
              "    <tr>\n",
              "      <th>2</th>\n",
              "      <td>Mafu</td>\n",
              "      <td>Graduated</td>\n",
              "      <td>23</td>\n",
              "    </tr>\n",
              "    <tr>\n",
              "      <th>3</th>\n",
              "      <td>Vivek</td>\n",
              "      <td>Masters</td>\n",
              "      <td>22</td>\n",
              "    </tr>\n",
              "    <tr>\n",
              "      <th>4</th>\n",
              "      <td>Keva</td>\n",
              "      <td>Bachelors</td>\n",
              "      <td>19</td>\n",
              "    </tr>\n",
              "    <tr>\n",
              "      <th>5</th>\n",
              "      <td>Thi</td>\n",
              "      <td>Masters</td>\n",
              "      <td>25</td>\n",
              "    </tr>\n",
              "  </tbody>\n",
              "</table>\n",
              "</div>\n",
              "      <button class=\"colab-df-convert\" onclick=\"convertToInteractive('df-287c81d1-82e3-4cae-80e4-205e44f6a1b4')\"\n",
              "              title=\"Convert this dataframe to an interactive table.\"\n",
              "              style=\"display:none;\">\n",
              "        \n",
              "  <svg xmlns=\"http://www.w3.org/2000/svg\" height=\"24px\"viewBox=\"0 0 24 24\"\n",
              "       width=\"24px\">\n",
              "    <path d=\"M0 0h24v24H0V0z\" fill=\"none\"/>\n",
              "    <path d=\"M18.56 5.44l.94 2.06.94-2.06 2.06-.94-2.06-.94-.94-2.06-.94 2.06-2.06.94zm-11 1L8.5 8.5l.94-2.06 2.06-.94-2.06-.94L8.5 2.5l-.94 2.06-2.06.94zm10 10l.94 2.06.94-2.06 2.06-.94-2.06-.94-.94-2.06-.94 2.06-2.06.94z\"/><path d=\"M17.41 7.96l-1.37-1.37c-.4-.4-.92-.59-1.43-.59-.52 0-1.04.2-1.43.59L10.3 9.45l-7.72 7.72c-.78.78-.78 2.05 0 2.83L4 21.41c.39.39.9.59 1.41.59.51 0 1.02-.2 1.41-.59l7.78-7.78 2.81-2.81c.8-.78.8-2.07 0-2.86zM5.41 20L4 18.59l7.72-7.72 1.47 1.35L5.41 20z\"/>\n",
              "  </svg>\n",
              "      </button>\n",
              "      \n",
              "  <style>\n",
              "    .colab-df-container {\n",
              "      display:flex;\n",
              "      flex-wrap:wrap;\n",
              "      gap: 12px;\n",
              "    }\n",
              "\n",
              "    .colab-df-convert {\n",
              "      background-color: #E8F0FE;\n",
              "      border: none;\n",
              "      border-radius: 50%;\n",
              "      cursor: pointer;\n",
              "      display: none;\n",
              "      fill: #1967D2;\n",
              "      height: 32px;\n",
              "      padding: 0 0 0 0;\n",
              "      width: 32px;\n",
              "    }\n",
              "\n",
              "    .colab-df-convert:hover {\n",
              "      background-color: #E2EBFA;\n",
              "      box-shadow: 0px 1px 2px rgba(60, 64, 67, 0.3), 0px 1px 3px 1px rgba(60, 64, 67, 0.15);\n",
              "      fill: #174EA6;\n",
              "    }\n",
              "\n",
              "    [theme=dark] .colab-df-convert {\n",
              "      background-color: #3B4455;\n",
              "      fill: #D2E3FC;\n",
              "    }\n",
              "\n",
              "    [theme=dark] .colab-df-convert:hover {\n",
              "      background-color: #434B5C;\n",
              "      box-shadow: 0px 1px 3px 1px rgba(0, 0, 0, 0.15);\n",
              "      filter: drop-shadow(0px 1px 2px rgba(0, 0, 0, 0.3));\n",
              "      fill: #FFFFFF;\n",
              "    }\n",
              "  </style>\n",
              "\n",
              "      <script>\n",
              "        const buttonEl =\n",
              "          document.querySelector('#df-287c81d1-82e3-4cae-80e4-205e44f6a1b4 button.colab-df-convert');\n",
              "        buttonEl.style.display =\n",
              "          google.colab.kernel.accessAllowed ? 'block' : 'none';\n",
              "\n",
              "        async function convertToInteractive(key) {\n",
              "          const element = document.querySelector('#df-287c81d1-82e3-4cae-80e4-205e44f6a1b4');\n",
              "          const dataTable =\n",
              "            await google.colab.kernel.invokeFunction('convertToInteractive',\n",
              "                                                     [key], {});\n",
              "          if (!dataTable) return;\n",
              "\n",
              "          const docLinkHtml = 'Like what you see? Visit the ' +\n",
              "            '<a target=\"_blank\" href=https://colab.research.google.com/notebooks/data_table.ipynb>data table notebook</a>'\n",
              "            + ' to learn more about interactive tables.';\n",
              "          element.innerHTML = '';\n",
              "          dataTable['output_type'] = 'display_data';\n",
              "          await google.colab.output.renderOutput(dataTable, element);\n",
              "          const docLink = document.createElement('div');\n",
              "          docLink.innerHTML = docLinkHtml;\n",
              "          element.appendChild(docLink);\n",
              "        }\n",
              "      </script>\n",
              "    </div>\n",
              "  </div>\n",
              "  "
            ]
          },
          "metadata": {}
        }
      ]
    },
    {
      "cell_type": "code",
      "source": [
        "# display .pivot() functionality\n",
        "display(stud.pivot('A','B','C'))\n",
        "#empty values are filled with NaNs"
      ],
      "metadata": {
        "colab": {
          "base_uri": "https://localhost:8080/",
          "height": 269
        },
        "id": "Wtb7PjXWlh1l",
        "outputId": "b538f31a-10a0-47c9-e8d5-8a59b61bf3d6"
      },
      "id": "Wtb7PjXWlh1l",
      "execution_count": null,
      "outputs": [
        {
          "output_type": "display_data",
          "data": {
            "text/plain": [
              "B          Bachelors  Graduated  Masters\n",
              "A                                       \n",
              "Christian        NaN       22.0      NaN\n",
              "Keva            19.0        NaN      NaN\n",
              "Mafu             NaN       23.0      NaN\n",
              "Sam             21.0        NaN      NaN\n",
              "Thi              NaN        NaN     25.0\n",
              "Vivek            NaN        NaN     22.0"
            ],
            "text/html": [
              "\n",
              "  <div id=\"df-5a08a6d6-22c8-42f4-8b2e-7451ad10249e\">\n",
              "    <div class=\"colab-df-container\">\n",
              "      <div>\n",
              "<style scoped>\n",
              "    .dataframe tbody tr th:only-of-type {\n",
              "        vertical-align: middle;\n",
              "    }\n",
              "\n",
              "    .dataframe tbody tr th {\n",
              "        vertical-align: top;\n",
              "    }\n",
              "\n",
              "    .dataframe thead th {\n",
              "        text-align: right;\n",
              "    }\n",
              "</style>\n",
              "<table border=\"1\" class=\"dataframe\">\n",
              "  <thead>\n",
              "    <tr style=\"text-align: right;\">\n",
              "      <th>B</th>\n",
              "      <th>Bachelors</th>\n",
              "      <th>Graduated</th>\n",
              "      <th>Masters</th>\n",
              "    </tr>\n",
              "    <tr>\n",
              "      <th>A</th>\n",
              "      <th></th>\n",
              "      <th></th>\n",
              "      <th></th>\n",
              "    </tr>\n",
              "  </thead>\n",
              "  <tbody>\n",
              "    <tr>\n",
              "      <th>Christian</th>\n",
              "      <td>NaN</td>\n",
              "      <td>22.0</td>\n",
              "      <td>NaN</td>\n",
              "    </tr>\n",
              "    <tr>\n",
              "      <th>Keva</th>\n",
              "      <td>19.0</td>\n",
              "      <td>NaN</td>\n",
              "      <td>NaN</td>\n",
              "    </tr>\n",
              "    <tr>\n",
              "      <th>Mafu</th>\n",
              "      <td>NaN</td>\n",
              "      <td>23.0</td>\n",
              "      <td>NaN</td>\n",
              "    </tr>\n",
              "    <tr>\n",
              "      <th>Sam</th>\n",
              "      <td>21.0</td>\n",
              "      <td>NaN</td>\n",
              "      <td>NaN</td>\n",
              "    </tr>\n",
              "    <tr>\n",
              "      <th>Thi</th>\n",
              "      <td>NaN</td>\n",
              "      <td>NaN</td>\n",
              "      <td>25.0</td>\n",
              "    </tr>\n",
              "    <tr>\n",
              "      <th>Vivek</th>\n",
              "      <td>NaN</td>\n",
              "      <td>NaN</td>\n",
              "      <td>22.0</td>\n",
              "    </tr>\n",
              "  </tbody>\n",
              "</table>\n",
              "</div>\n",
              "      <button class=\"colab-df-convert\" onclick=\"convertToInteractive('df-5a08a6d6-22c8-42f4-8b2e-7451ad10249e')\"\n",
              "              title=\"Convert this dataframe to an interactive table.\"\n",
              "              style=\"display:none;\">\n",
              "        \n",
              "  <svg xmlns=\"http://www.w3.org/2000/svg\" height=\"24px\"viewBox=\"0 0 24 24\"\n",
              "       width=\"24px\">\n",
              "    <path d=\"M0 0h24v24H0V0z\" fill=\"none\"/>\n",
              "    <path d=\"M18.56 5.44l.94 2.06.94-2.06 2.06-.94-2.06-.94-.94-2.06-.94 2.06-2.06.94zm-11 1L8.5 8.5l.94-2.06 2.06-.94-2.06-.94L8.5 2.5l-.94 2.06-2.06.94zm10 10l.94 2.06.94-2.06 2.06-.94-2.06-.94-.94-2.06-.94 2.06-2.06.94z\"/><path d=\"M17.41 7.96l-1.37-1.37c-.4-.4-.92-.59-1.43-.59-.52 0-1.04.2-1.43.59L10.3 9.45l-7.72 7.72c-.78.78-.78 2.05 0 2.83L4 21.41c.39.39.9.59 1.41.59.51 0 1.02-.2 1.41-.59l7.78-7.78 2.81-2.81c.8-.78.8-2.07 0-2.86zM5.41 20L4 18.59l7.72-7.72 1.47 1.35L5.41 20z\"/>\n",
              "  </svg>\n",
              "      </button>\n",
              "      \n",
              "  <style>\n",
              "    .colab-df-container {\n",
              "      display:flex;\n",
              "      flex-wrap:wrap;\n",
              "      gap: 12px;\n",
              "    }\n",
              "\n",
              "    .colab-df-convert {\n",
              "      background-color: #E8F0FE;\n",
              "      border: none;\n",
              "      border-radius: 50%;\n",
              "      cursor: pointer;\n",
              "      display: none;\n",
              "      fill: #1967D2;\n",
              "      height: 32px;\n",
              "      padding: 0 0 0 0;\n",
              "      width: 32px;\n",
              "    }\n",
              "\n",
              "    .colab-df-convert:hover {\n",
              "      background-color: #E2EBFA;\n",
              "      box-shadow: 0px 1px 2px rgba(60, 64, 67, 0.3), 0px 1px 3px 1px rgba(60, 64, 67, 0.15);\n",
              "      fill: #174EA6;\n",
              "    }\n",
              "\n",
              "    [theme=dark] .colab-df-convert {\n",
              "      background-color: #3B4455;\n",
              "      fill: #D2E3FC;\n",
              "    }\n",
              "\n",
              "    [theme=dark] .colab-df-convert:hover {\n",
              "      background-color: #434B5C;\n",
              "      box-shadow: 0px 1px 3px 1px rgba(0, 0, 0, 0.15);\n",
              "      filter: drop-shadow(0px 1px 2px rgba(0, 0, 0, 0.3));\n",
              "      fill: #FFFFFF;\n",
              "    }\n",
              "  </style>\n",
              "\n",
              "      <script>\n",
              "        const buttonEl =\n",
              "          document.querySelector('#df-5a08a6d6-22c8-42f4-8b2e-7451ad10249e button.colab-df-convert');\n",
              "        buttonEl.style.display =\n",
              "          google.colab.kernel.accessAllowed ? 'block' : 'none';\n",
              "\n",
              "        async function convertToInteractive(key) {\n",
              "          const element = document.querySelector('#df-5a08a6d6-22c8-42f4-8b2e-7451ad10249e');\n",
              "          const dataTable =\n",
              "            await google.colab.kernel.invokeFunction('convertToInteractive',\n",
              "                                                     [key], {});\n",
              "          if (!dataTable) return;\n",
              "\n",
              "          const docLinkHtml = 'Like what you see? Visit the ' +\n",
              "            '<a target=\"_blank\" href=https://colab.research.google.com/notebooks/data_table.ipynb>data table notebook</a>'\n",
              "            + ' to learn more about interactive tables.';\n",
              "          element.innerHTML = '';\n",
              "          dataTable['output_type'] = 'display_data';\n",
              "          await google.colab.output.renderOutput(dataTable, element);\n",
              "          const docLink = document.createElement('div');\n",
              "          docLink.innerHTML = docLinkHtml;\n",
              "          element.appendChild(docLink);\n",
              "        }\n",
              "      </script>\n",
              "    </div>\n",
              "  </div>\n",
              "  "
            ]
          },
          "metadata": {}
        }
      ]
    },
    {
      "cell_type": "code",
      "source": [
        "#rename the columns\n",
        "stud.rename(columns={'A':'Name', 'B': 'Status', 'C': 'Age'}, inplace=True)\n",
        "display(stud)"
      ],
      "metadata": {
        "colab": {
          "base_uri": "https://localhost:8080/",
          "height": 237
        },
        "id": "9drtGf25oefx",
        "outputId": "131055b3-3324-4e6e-8be8-5851d02831b6"
      },
      "id": "9drtGf25oefx",
      "execution_count": null,
      "outputs": [
        {
          "output_type": "display_data",
          "data": {
            "text/plain": [
              "        Name     Status  Age\n",
              "0        Sam  Bachelors   21\n",
              "1  Christian  Graduated   22\n",
              "2       Mafu  Graduated   23\n",
              "3      Vivek    Masters   22\n",
              "4       Keva  Bachelors   19\n",
              "5        Thi    Masters   25"
            ],
            "text/html": [
              "\n",
              "  <div id=\"df-1306c025-4fe8-48ba-b4d8-7455cd202719\">\n",
              "    <div class=\"colab-df-container\">\n",
              "      <div>\n",
              "<style scoped>\n",
              "    .dataframe tbody tr th:only-of-type {\n",
              "        vertical-align: middle;\n",
              "    }\n",
              "\n",
              "    .dataframe tbody tr th {\n",
              "        vertical-align: top;\n",
              "    }\n",
              "\n",
              "    .dataframe thead th {\n",
              "        text-align: right;\n",
              "    }\n",
              "</style>\n",
              "<table border=\"1\" class=\"dataframe\">\n",
              "  <thead>\n",
              "    <tr style=\"text-align: right;\">\n",
              "      <th></th>\n",
              "      <th>Name</th>\n",
              "      <th>Status</th>\n",
              "      <th>Age</th>\n",
              "    </tr>\n",
              "  </thead>\n",
              "  <tbody>\n",
              "    <tr>\n",
              "      <th>0</th>\n",
              "      <td>Sam</td>\n",
              "      <td>Bachelors</td>\n",
              "      <td>21</td>\n",
              "    </tr>\n",
              "    <tr>\n",
              "      <th>1</th>\n",
              "      <td>Christian</td>\n",
              "      <td>Graduated</td>\n",
              "      <td>22</td>\n",
              "    </tr>\n",
              "    <tr>\n",
              "      <th>2</th>\n",
              "      <td>Mafu</td>\n",
              "      <td>Graduated</td>\n",
              "      <td>23</td>\n",
              "    </tr>\n",
              "    <tr>\n",
              "      <th>3</th>\n",
              "      <td>Vivek</td>\n",
              "      <td>Masters</td>\n",
              "      <td>22</td>\n",
              "    </tr>\n",
              "    <tr>\n",
              "      <th>4</th>\n",
              "      <td>Keva</td>\n",
              "      <td>Bachelors</td>\n",
              "      <td>19</td>\n",
              "    </tr>\n",
              "    <tr>\n",
              "      <th>5</th>\n",
              "      <td>Thi</td>\n",
              "      <td>Masters</td>\n",
              "      <td>25</td>\n",
              "    </tr>\n",
              "  </tbody>\n",
              "</table>\n",
              "</div>\n",
              "      <button class=\"colab-df-convert\" onclick=\"convertToInteractive('df-1306c025-4fe8-48ba-b4d8-7455cd202719')\"\n",
              "              title=\"Convert this dataframe to an interactive table.\"\n",
              "              style=\"display:none;\">\n",
              "        \n",
              "  <svg xmlns=\"http://www.w3.org/2000/svg\" height=\"24px\"viewBox=\"0 0 24 24\"\n",
              "       width=\"24px\">\n",
              "    <path d=\"M0 0h24v24H0V0z\" fill=\"none\"/>\n",
              "    <path d=\"M18.56 5.44l.94 2.06.94-2.06 2.06-.94-2.06-.94-.94-2.06-.94 2.06-2.06.94zm-11 1L8.5 8.5l.94-2.06 2.06-.94-2.06-.94L8.5 2.5l-.94 2.06-2.06.94zm10 10l.94 2.06.94-2.06 2.06-.94-2.06-.94-.94-2.06-.94 2.06-2.06.94z\"/><path d=\"M17.41 7.96l-1.37-1.37c-.4-.4-.92-.59-1.43-.59-.52 0-1.04.2-1.43.59L10.3 9.45l-7.72 7.72c-.78.78-.78 2.05 0 2.83L4 21.41c.39.39.9.59 1.41.59.51 0 1.02-.2 1.41-.59l7.78-7.78 2.81-2.81c.8-.78.8-2.07 0-2.86zM5.41 20L4 18.59l7.72-7.72 1.47 1.35L5.41 20z\"/>\n",
              "  </svg>\n",
              "      </button>\n",
              "      \n",
              "  <style>\n",
              "    .colab-df-container {\n",
              "      display:flex;\n",
              "      flex-wrap:wrap;\n",
              "      gap: 12px;\n",
              "    }\n",
              "\n",
              "    .colab-df-convert {\n",
              "      background-color: #E8F0FE;\n",
              "      border: none;\n",
              "      border-radius: 50%;\n",
              "      cursor: pointer;\n",
              "      display: none;\n",
              "      fill: #1967D2;\n",
              "      height: 32px;\n",
              "      padding: 0 0 0 0;\n",
              "      width: 32px;\n",
              "    }\n",
              "\n",
              "    .colab-df-convert:hover {\n",
              "      background-color: #E2EBFA;\n",
              "      box-shadow: 0px 1px 2px rgba(60, 64, 67, 0.3), 0px 1px 3px 1px rgba(60, 64, 67, 0.15);\n",
              "      fill: #174EA6;\n",
              "    }\n",
              "\n",
              "    [theme=dark] .colab-df-convert {\n",
              "      background-color: #3B4455;\n",
              "      fill: #D2E3FC;\n",
              "    }\n",
              "\n",
              "    [theme=dark] .colab-df-convert:hover {\n",
              "      background-color: #434B5C;\n",
              "      box-shadow: 0px 1px 3px 1px rgba(0, 0, 0, 0.15);\n",
              "      filter: drop-shadow(0px 1px 2px rgba(0, 0, 0, 0.3));\n",
              "      fill: #FFFFFF;\n",
              "    }\n",
              "  </style>\n",
              "\n",
              "      <script>\n",
              "        const buttonEl =\n",
              "          document.querySelector('#df-1306c025-4fe8-48ba-b4d8-7455cd202719 button.colab-df-convert');\n",
              "        buttonEl.style.display =\n",
              "          google.colab.kernel.accessAllowed ? 'block' : 'none';\n",
              "\n",
              "        async function convertToInteractive(key) {\n",
              "          const element = document.querySelector('#df-1306c025-4fe8-48ba-b4d8-7455cd202719');\n",
              "          const dataTable =\n",
              "            await google.colab.kernel.invokeFunction('convertToInteractive',\n",
              "                                                     [key], {});\n",
              "          if (!dataTable) return;\n",
              "\n",
              "          const docLinkHtml = 'Like what you see? Visit the ' +\n",
              "            '<a target=\"_blank\" href=https://colab.research.google.com/notebooks/data_table.ipynb>data table notebook</a>'\n",
              "            + ' to learn more about interactive tables.';\n",
              "          element.innerHTML = '';\n",
              "          dataTable['output_type'] = 'display_data';\n",
              "          await google.colab.output.renderOutput(dataTable, element);\n",
              "          const docLink = document.createElement('div');\n",
              "          docLink.innerHTML = docLinkHtml;\n",
              "          element.appendChild(docLink);\n",
              "        }\n",
              "      </script>\n",
              "    </div>\n",
              "  </div>\n",
              "  "
            ]
          },
          "metadata": {}
        }
      ]
    },
    {
      "cell_type": "code",
      "source": [
        "# display .melt() functionality\n",
        "display(stud.melt(id_vars=['Name'], value_vars=['Status']))"
      ],
      "metadata": {
        "colab": {
          "base_uri": "https://localhost:8080/",
          "height": 237
        },
        "id": "iOzov_azm1Vf",
        "outputId": "02aaf9ec-8b5e-40db-d9e3-54c998a6ae14"
      },
      "id": "iOzov_azm1Vf",
      "execution_count": null,
      "outputs": [
        {
          "output_type": "display_data",
          "data": {
            "text/plain": [
              "        Name variable      value\n",
              "0        Sam   Status  Bachelors\n",
              "1  Christian   Status  Graduated\n",
              "2       Mafu   Status  Graduated\n",
              "3      Vivek   Status    Masters\n",
              "4       Keva   Status  Bachelors\n",
              "5        Thi   Status    Masters"
            ],
            "text/html": [
              "\n",
              "  <div id=\"df-ca6a0560-c749-4795-9ea8-8bce162785ab\">\n",
              "    <div class=\"colab-df-container\">\n",
              "      <div>\n",
              "<style scoped>\n",
              "    .dataframe tbody tr th:only-of-type {\n",
              "        vertical-align: middle;\n",
              "    }\n",
              "\n",
              "    .dataframe tbody tr th {\n",
              "        vertical-align: top;\n",
              "    }\n",
              "\n",
              "    .dataframe thead th {\n",
              "        text-align: right;\n",
              "    }\n",
              "</style>\n",
              "<table border=\"1\" class=\"dataframe\">\n",
              "  <thead>\n",
              "    <tr style=\"text-align: right;\">\n",
              "      <th></th>\n",
              "      <th>Name</th>\n",
              "      <th>variable</th>\n",
              "      <th>value</th>\n",
              "    </tr>\n",
              "  </thead>\n",
              "  <tbody>\n",
              "    <tr>\n",
              "      <th>0</th>\n",
              "      <td>Sam</td>\n",
              "      <td>Status</td>\n",
              "      <td>Bachelors</td>\n",
              "    </tr>\n",
              "    <tr>\n",
              "      <th>1</th>\n",
              "      <td>Christian</td>\n",
              "      <td>Status</td>\n",
              "      <td>Graduated</td>\n",
              "    </tr>\n",
              "    <tr>\n",
              "      <th>2</th>\n",
              "      <td>Mafu</td>\n",
              "      <td>Status</td>\n",
              "      <td>Graduated</td>\n",
              "    </tr>\n",
              "    <tr>\n",
              "      <th>3</th>\n",
              "      <td>Vivek</td>\n",
              "      <td>Status</td>\n",
              "      <td>Masters</td>\n",
              "    </tr>\n",
              "    <tr>\n",
              "      <th>4</th>\n",
              "      <td>Keva</td>\n",
              "      <td>Status</td>\n",
              "      <td>Bachelors</td>\n",
              "    </tr>\n",
              "    <tr>\n",
              "      <th>5</th>\n",
              "      <td>Thi</td>\n",
              "      <td>Status</td>\n",
              "      <td>Masters</td>\n",
              "    </tr>\n",
              "  </tbody>\n",
              "</table>\n",
              "</div>\n",
              "      <button class=\"colab-df-convert\" onclick=\"convertToInteractive('df-ca6a0560-c749-4795-9ea8-8bce162785ab')\"\n",
              "              title=\"Convert this dataframe to an interactive table.\"\n",
              "              style=\"display:none;\">\n",
              "        \n",
              "  <svg xmlns=\"http://www.w3.org/2000/svg\" height=\"24px\"viewBox=\"0 0 24 24\"\n",
              "       width=\"24px\">\n",
              "    <path d=\"M0 0h24v24H0V0z\" fill=\"none\"/>\n",
              "    <path d=\"M18.56 5.44l.94 2.06.94-2.06 2.06-.94-2.06-.94-.94-2.06-.94 2.06-2.06.94zm-11 1L8.5 8.5l.94-2.06 2.06-.94-2.06-.94L8.5 2.5l-.94 2.06-2.06.94zm10 10l.94 2.06.94-2.06 2.06-.94-2.06-.94-.94-2.06-.94 2.06-2.06.94z\"/><path d=\"M17.41 7.96l-1.37-1.37c-.4-.4-.92-.59-1.43-.59-.52 0-1.04.2-1.43.59L10.3 9.45l-7.72 7.72c-.78.78-.78 2.05 0 2.83L4 21.41c.39.39.9.59 1.41.59.51 0 1.02-.2 1.41-.59l7.78-7.78 2.81-2.81c.8-.78.8-2.07 0-2.86zM5.41 20L4 18.59l7.72-7.72 1.47 1.35L5.41 20z\"/>\n",
              "  </svg>\n",
              "      </button>\n",
              "      \n",
              "  <style>\n",
              "    .colab-df-container {\n",
              "      display:flex;\n",
              "      flex-wrap:wrap;\n",
              "      gap: 12px;\n",
              "    }\n",
              "\n",
              "    .colab-df-convert {\n",
              "      background-color: #E8F0FE;\n",
              "      border: none;\n",
              "      border-radius: 50%;\n",
              "      cursor: pointer;\n",
              "      display: none;\n",
              "      fill: #1967D2;\n",
              "      height: 32px;\n",
              "      padding: 0 0 0 0;\n",
              "      width: 32px;\n",
              "    }\n",
              "\n",
              "    .colab-df-convert:hover {\n",
              "      background-color: #E2EBFA;\n",
              "      box-shadow: 0px 1px 2px rgba(60, 64, 67, 0.3), 0px 1px 3px 1px rgba(60, 64, 67, 0.15);\n",
              "      fill: #174EA6;\n",
              "    }\n",
              "\n",
              "    [theme=dark] .colab-df-convert {\n",
              "      background-color: #3B4455;\n",
              "      fill: #D2E3FC;\n",
              "    }\n",
              "\n",
              "    [theme=dark] .colab-df-convert:hover {\n",
              "      background-color: #434B5C;\n",
              "      box-shadow: 0px 1px 3px 1px rgba(0, 0, 0, 0.15);\n",
              "      filter: drop-shadow(0px 1px 2px rgba(0, 0, 0, 0.3));\n",
              "      fill: #FFFFFF;\n",
              "    }\n",
              "  </style>\n",
              "\n",
              "      <script>\n",
              "        const buttonEl =\n",
              "          document.querySelector('#df-ca6a0560-c749-4795-9ea8-8bce162785ab button.colab-df-convert');\n",
              "        buttonEl.style.display =\n",
              "          google.colab.kernel.accessAllowed ? 'block' : 'none';\n",
              "\n",
              "        async function convertToInteractive(key) {\n",
              "          const element = document.querySelector('#df-ca6a0560-c749-4795-9ea8-8bce162785ab');\n",
              "          const dataTable =\n",
              "            await google.colab.kernel.invokeFunction('convertToInteractive',\n",
              "                                                     [key], {});\n",
              "          if (!dataTable) return;\n",
              "\n",
              "          const docLinkHtml = 'Like what you see? Visit the ' +\n",
              "            '<a target=\"_blank\" href=https://colab.research.google.com/notebooks/data_table.ipynb>data table notebook</a>'\n",
              "            + ' to learn more about interactive tables.';\n",
              "          element.innerHTML = '';\n",
              "          dataTable['output_type'] = 'display_data';\n",
              "          await google.colab.output.renderOutput(dataTable, element);\n",
              "          const docLink = document.createElement('div');\n",
              "          docLink.innerHTML = docLinkHtml;\n",
              "          element.appendChild(docLink);\n",
              "        }\n",
              "      </script>\n",
              "    </div>\n",
              "  </div>\n",
              "  "
            ]
          },
          "metadata": {}
        }
      ]
    },
    {
      "cell_type": "markdown",
      "source": [
        "### Functions and DataFrames"
      ],
      "metadata": {
        "id": "QT33CDmcJ46a"
      },
      "id": "QT33CDmcJ46a"
    },
    {
      "cell_type": "markdown",
      "source": [
        "##### **Descriptive Statistics**"
      ],
      "metadata": {
        "id": "8PhhK74mBEH0"
      },
      "id": "8PhhK74mBEH0"
    },
    {
      "cell_type": "markdown",
      "source": [
        "Remember mean, median, and mode? Well, those are all examples of descriptive statistics or easy information about the dataset you're looking at. Pandas has inbuilt functions to streamline this process for dataframes - the most useful of which is `df.describe()`.\n",
        "\n",
        "Let's re-examine our df_final dataframe:"
      ],
      "metadata": {
        "id": "Qvs_zRJDJjjM"
      },
      "id": "Qvs_zRJDJjjM"
    },
    {
      "cell_type": "code",
      "source": [
        "display(df_final)"
      ],
      "metadata": {
        "id": "W99lP9Qh81M0"
      },
      "id": "W99lP9Qh81M0",
      "execution_count": null,
      "outputs": []
    },
    {
      "cell_type": "code",
      "source": [
        "# applying df.describe() to df_final\n",
        "df_final.describe()"
      ],
      "metadata": {
        "colab": {
          "base_uri": "https://localhost:8080/",
          "height": 300
        },
        "id": "LT3fyXKYCQnp",
        "outputId": "6b566de6-4275-45cb-9a7d-1f5c6f4893c0"
      },
      "id": "LT3fyXKYCQnp",
      "execution_count": null,
      "outputs": [
        {
          "output_type": "execute_result",
          "data": {
            "text/plain": [
              "                a           b           c           d           e           f\n",
              "count    6.000000    6.000000    6.000000    6.000000    6.000000    6.000000\n",
              "mean    85.500000   93.000000   81.166667   87.833333   72.000000   79.166667\n",
              "std     12.389512    6.324555   12.703018   10.186592   24.665766   13.347909\n",
              "min     70.000000   85.000000   66.000000   76.000000   28.000000   66.000000\n",
              "25%     76.250000   88.500000   72.750000   80.000000   66.250000   68.500000\n",
              "50%     85.000000   92.500000   79.000000   86.500000   78.500000   76.500000\n",
              "75%     96.000000   98.750000   89.000000   96.750000   83.250000   86.750000\n",
              "max    100.000000  100.000000  100.000000  100.000000  100.000000  100.000000"
            ],
            "text/html": [
              "\n",
              "  <div id=\"df-3d12fe15-7743-4956-99d1-75c92129521f\">\n",
              "    <div class=\"colab-df-container\">\n",
              "      <div>\n",
              "<style scoped>\n",
              "    .dataframe tbody tr th:only-of-type {\n",
              "        vertical-align: middle;\n",
              "    }\n",
              "\n",
              "    .dataframe tbody tr th {\n",
              "        vertical-align: top;\n",
              "    }\n",
              "\n",
              "    .dataframe thead th {\n",
              "        text-align: right;\n",
              "    }\n",
              "</style>\n",
              "<table border=\"1\" class=\"dataframe\">\n",
              "  <thead>\n",
              "    <tr style=\"text-align: right;\">\n",
              "      <th></th>\n",
              "      <th>a</th>\n",
              "      <th>b</th>\n",
              "      <th>c</th>\n",
              "      <th>d</th>\n",
              "      <th>e</th>\n",
              "      <th>f</th>\n",
              "    </tr>\n",
              "  </thead>\n",
              "  <tbody>\n",
              "    <tr>\n",
              "      <th>count</th>\n",
              "      <td>6.000000</td>\n",
              "      <td>6.000000</td>\n",
              "      <td>6.000000</td>\n",
              "      <td>6.000000</td>\n",
              "      <td>6.000000</td>\n",
              "      <td>6.000000</td>\n",
              "    </tr>\n",
              "    <tr>\n",
              "      <th>mean</th>\n",
              "      <td>85.500000</td>\n",
              "      <td>93.000000</td>\n",
              "      <td>81.166667</td>\n",
              "      <td>87.833333</td>\n",
              "      <td>72.000000</td>\n",
              "      <td>79.166667</td>\n",
              "    </tr>\n",
              "    <tr>\n",
              "      <th>std</th>\n",
              "      <td>12.389512</td>\n",
              "      <td>6.324555</td>\n",
              "      <td>12.703018</td>\n",
              "      <td>10.186592</td>\n",
              "      <td>24.665766</td>\n",
              "      <td>13.347909</td>\n",
              "    </tr>\n",
              "    <tr>\n",
              "      <th>min</th>\n",
              "      <td>70.000000</td>\n",
              "      <td>85.000000</td>\n",
              "      <td>66.000000</td>\n",
              "      <td>76.000000</td>\n",
              "      <td>28.000000</td>\n",
              "      <td>66.000000</td>\n",
              "    </tr>\n",
              "    <tr>\n",
              "      <th>25%</th>\n",
              "      <td>76.250000</td>\n",
              "      <td>88.500000</td>\n",
              "      <td>72.750000</td>\n",
              "      <td>80.000000</td>\n",
              "      <td>66.250000</td>\n",
              "      <td>68.500000</td>\n",
              "    </tr>\n",
              "    <tr>\n",
              "      <th>50%</th>\n",
              "      <td>85.000000</td>\n",
              "      <td>92.500000</td>\n",
              "      <td>79.000000</td>\n",
              "      <td>86.500000</td>\n",
              "      <td>78.500000</td>\n",
              "      <td>76.500000</td>\n",
              "    </tr>\n",
              "    <tr>\n",
              "      <th>75%</th>\n",
              "      <td>96.000000</td>\n",
              "      <td>98.750000</td>\n",
              "      <td>89.000000</td>\n",
              "      <td>96.750000</td>\n",
              "      <td>83.250000</td>\n",
              "      <td>86.750000</td>\n",
              "    </tr>\n",
              "    <tr>\n",
              "      <th>max</th>\n",
              "      <td>100.000000</td>\n",
              "      <td>100.000000</td>\n",
              "      <td>100.000000</td>\n",
              "      <td>100.000000</td>\n",
              "      <td>100.000000</td>\n",
              "      <td>100.000000</td>\n",
              "    </tr>\n",
              "  </tbody>\n",
              "</table>\n",
              "</div>\n",
              "      <button class=\"colab-df-convert\" onclick=\"convertToInteractive('df-3d12fe15-7743-4956-99d1-75c92129521f')\"\n",
              "              title=\"Convert this dataframe to an interactive table.\"\n",
              "              style=\"display:none;\">\n",
              "        \n",
              "  <svg xmlns=\"http://www.w3.org/2000/svg\" height=\"24px\"viewBox=\"0 0 24 24\"\n",
              "       width=\"24px\">\n",
              "    <path d=\"M0 0h24v24H0V0z\" fill=\"none\"/>\n",
              "    <path d=\"M18.56 5.44l.94 2.06.94-2.06 2.06-.94-2.06-.94-.94-2.06-.94 2.06-2.06.94zm-11 1L8.5 8.5l.94-2.06 2.06-.94-2.06-.94L8.5 2.5l-.94 2.06-2.06.94zm10 10l.94 2.06.94-2.06 2.06-.94-2.06-.94-.94-2.06-.94 2.06-2.06.94z\"/><path d=\"M17.41 7.96l-1.37-1.37c-.4-.4-.92-.59-1.43-.59-.52 0-1.04.2-1.43.59L10.3 9.45l-7.72 7.72c-.78.78-.78 2.05 0 2.83L4 21.41c.39.39.9.59 1.41.59.51 0 1.02-.2 1.41-.59l7.78-7.78 2.81-2.81c.8-.78.8-2.07 0-2.86zM5.41 20L4 18.59l7.72-7.72 1.47 1.35L5.41 20z\"/>\n",
              "  </svg>\n",
              "      </button>\n",
              "      \n",
              "  <style>\n",
              "    .colab-df-container {\n",
              "      display:flex;\n",
              "      flex-wrap:wrap;\n",
              "      gap: 12px;\n",
              "    }\n",
              "\n",
              "    .colab-df-convert {\n",
              "      background-color: #E8F0FE;\n",
              "      border: none;\n",
              "      border-radius: 50%;\n",
              "      cursor: pointer;\n",
              "      display: none;\n",
              "      fill: #1967D2;\n",
              "      height: 32px;\n",
              "      padding: 0 0 0 0;\n",
              "      width: 32px;\n",
              "    }\n",
              "\n",
              "    .colab-df-convert:hover {\n",
              "      background-color: #E2EBFA;\n",
              "      box-shadow: 0px 1px 2px rgba(60, 64, 67, 0.3), 0px 1px 3px 1px rgba(60, 64, 67, 0.15);\n",
              "      fill: #174EA6;\n",
              "    }\n",
              "\n",
              "    [theme=dark] .colab-df-convert {\n",
              "      background-color: #3B4455;\n",
              "      fill: #D2E3FC;\n",
              "    }\n",
              "\n",
              "    [theme=dark] .colab-df-convert:hover {\n",
              "      background-color: #434B5C;\n",
              "      box-shadow: 0px 1px 3px 1px rgba(0, 0, 0, 0.15);\n",
              "      filter: drop-shadow(0px 1px 2px rgba(0, 0, 0, 0.3));\n",
              "      fill: #FFFFFF;\n",
              "    }\n",
              "  </style>\n",
              "\n",
              "      <script>\n",
              "        const buttonEl =\n",
              "          document.querySelector('#df-3d12fe15-7743-4956-99d1-75c92129521f button.colab-df-convert');\n",
              "        buttonEl.style.display =\n",
              "          google.colab.kernel.accessAllowed ? 'block' : 'none';\n",
              "\n",
              "        async function convertToInteractive(key) {\n",
              "          const element = document.querySelector('#df-3d12fe15-7743-4956-99d1-75c92129521f');\n",
              "          const dataTable =\n",
              "            await google.colab.kernel.invokeFunction('convertToInteractive',\n",
              "                                                     [key], {});\n",
              "          if (!dataTable) return;\n",
              "\n",
              "          const docLinkHtml = 'Like what you see? Visit the ' +\n",
              "            '<a target=\"_blank\" href=https://colab.research.google.com/notebooks/data_table.ipynb>data table notebook</a>'\n",
              "            + ' to learn more about interactive tables.';\n",
              "          element.innerHTML = '';\n",
              "          dataTable['output_type'] = 'display_data';\n",
              "          await google.colab.output.renderOutput(dataTable, element);\n",
              "          const docLink = document.createElement('div');\n",
              "          docLink.innerHTML = docLinkHtml;\n",
              "          element.appendChild(docLink);\n",
              "        }\n",
              "      </script>\n",
              "    </div>\n",
              "  </div>\n",
              "  "
            ]
          },
          "metadata": {},
          "execution_count": 44
        }
      ]
    },
    {
      "cell_type": "markdown",
      "source": [
        "You can very easily get each of these statistics by themselves by using .\"statistic\"(). \n",
        "\n",
        "Furthermore, you can specify how to apply these functions:\n",
        "- `axis=0` means by column, going through each row (default) - think vertical (up -> down)\n",
        "- `axis=1` means by row, going through each column - think horizontal (left -> right)\n",
        "\n",
        "These functions output a Series object."
      ],
      "metadata": {
        "id": "AFDzDJDLKUSR"
      },
      "id": "AFDzDJDLKUSR"
    },
    {
      "cell_type": "code",
      "source": [
        "# compute averages for each student\n",
        "df_final.mean()"
      ],
      "metadata": {
        "colab": {
          "base_uri": "https://localhost:8080/"
        },
        "id": "B7ZCnfzfLvom",
        "outputId": "fc3f0f56-0f59-4187-be98-471d36bcee8d"
      },
      "id": "B7ZCnfzfLvom",
      "execution_count": null,
      "outputs": [
        {
          "output_type": "execute_result",
          "data": {
            "text/plain": [
              "a    85.500000\n",
              "b    91.666667\n",
              "c    81.166667\n",
              "d    87.833333\n",
              "e    72.000000\n",
              "f    79.166667\n",
              "dtype: float64"
            ]
          },
          "metadata": {},
          "execution_count": 29
        }
      ]
    },
    {
      "cell_type": "code",
      "source": [
        "# compute averages for each test \n",
        "df_final.mean(axis=1)"
      ],
      "metadata": {
        "colab": {
          "base_uri": "https://localhost:8080/"
        },
        "id": "c-6n2h0oLOh_",
        "outputId": "812f4fc3-3bc9-4bd6-d4e5-97f14f6aa945"
      },
      "id": "c-6n2h0oLOh_",
      "execution_count": null,
      "outputs": [
        {
          "output_type": "execute_result",
          "data": {
            "text/plain": [
              "1     73.833333\n",
              "2     80.333333\n",
              "3     83.166667\n",
              "4     73.500000\n",
              "5     87.833333\n",
              "6    100.000000\n",
              "dtype: float64"
            ]
          },
          "metadata": {},
          "execution_count": 46
        }
      ]
    },
    {
      "cell_type": "markdown",
      "source": [
        "##### **GroupBy**"
      ],
      "metadata": {
        "id": "oFv8lnVLXu70"
      },
      "id": "oFv8lnVLXu70"
    },
    {
      "cell_type": "markdown",
      "source": [
        "Pandas' GroupBy function mimics SQL's in that it boils down to conducting three processes at once:\n",
        "- Grouping data according to specified criteria (i.e. category)\n",
        "- Applying a function to each specified group\n",
        "- Combining the results into a data structure \n",
        "\n",
        "To write a successful GroupBy, you need to have three specifications present:\n",
        "- A DataFrame or Series\n",
        "- .groupby method with grouping specifications\n",
        "- function being applied to each grouping"
      ],
      "metadata": {
        "id": "_FznEt3cYbsa"
      },
      "id": "_FznEt3cYbsa"
    },
    {
      "cell_type": "markdown",
      "source": [
        "There are 4 ways to group the observations in a pandas data structure (Series or DataFrame):\n",
        "\n",
        "1. By a sequence of values that is the same length as the axis being grouped\n",
        "2. By a DataFrame column name (DataFrame only)**\n",
        "3. By a dictionary or Series giving a correspondence between the values on the axis being grouped and the group names\n",
        "4. By the results of a function call invoked on the axis index or the individual labels in the index\n",
        "\n",
        "** This is the method we will be covering and is the most common practice"
      ],
      "metadata": {
        "id": "m4KgUkpv-nwX"
      },
      "id": "m4KgUkpv-nwX"
    },
    {
      "cell_type": "code",
      "source": [
        "# create a new dataframe\n",
        "form = pd.DataFrame({'date': ['08/24/2022','08/24/2022','08/24/2022','08/24/2022','08/24/2022','08/24/2022','08/24/2022','08/24/2022','08/24/2022','08/24/2022'],'time': ['Morning', 'Morning', 'Evening', 'Afternoon','Morning','Afternoon','Evening','Evening','Evening','Morning'], 'pandas': [5,5,4,3,2,4,4,1,2,3], 'numpy': [5,4,4,3,2,3,4,4,2,3]})\n",
        "\n",
        "display(form)"
      ],
      "metadata": {
        "colab": {
          "base_uri": "https://localhost:8080/",
          "height": 363
        },
        "id": "6WqLZWsi-OsQ",
        "outputId": "7f90188a-3a99-46de-f389-4cc9104254c3"
      },
      "id": "6WqLZWsi-OsQ",
      "execution_count": null,
      "outputs": [
        {
          "output_type": "display_data",
          "data": {
            "text/plain": [
              "         date       time  pandas  numpy\n",
              "0  08/24/2022    Morning       5      5\n",
              "1  08/24/2022    Morning       5      4\n",
              "2  08/24/2022    Evening       4      4\n",
              "3  08/24/2022  Afternoon       3      3\n",
              "4  08/24/2022    Morning       2      2\n",
              "5  08/24/2022  Afternoon       4      3\n",
              "6  08/24/2022    Evening       4      4\n",
              "7  08/24/2022    Evening       1      4\n",
              "8  08/24/2022    Evening       2      2\n",
              "9  08/24/2022    Morning       3      3"
            ],
            "text/html": [
              "\n",
              "  <div id=\"df-69e6f7f9-f161-4bca-9d61-4eb6f85685d6\">\n",
              "    <div class=\"colab-df-container\">\n",
              "      <div>\n",
              "<style scoped>\n",
              "    .dataframe tbody tr th:only-of-type {\n",
              "        vertical-align: middle;\n",
              "    }\n",
              "\n",
              "    .dataframe tbody tr th {\n",
              "        vertical-align: top;\n",
              "    }\n",
              "\n",
              "    .dataframe thead th {\n",
              "        text-align: right;\n",
              "    }\n",
              "</style>\n",
              "<table border=\"1\" class=\"dataframe\">\n",
              "  <thead>\n",
              "    <tr style=\"text-align: right;\">\n",
              "      <th></th>\n",
              "      <th>date</th>\n",
              "      <th>time</th>\n",
              "      <th>pandas</th>\n",
              "      <th>numpy</th>\n",
              "    </tr>\n",
              "  </thead>\n",
              "  <tbody>\n",
              "    <tr>\n",
              "      <th>0</th>\n",
              "      <td>08/24/2022</td>\n",
              "      <td>Morning</td>\n",
              "      <td>5</td>\n",
              "      <td>5</td>\n",
              "    </tr>\n",
              "    <tr>\n",
              "      <th>1</th>\n",
              "      <td>08/24/2022</td>\n",
              "      <td>Morning</td>\n",
              "      <td>5</td>\n",
              "      <td>4</td>\n",
              "    </tr>\n",
              "    <tr>\n",
              "      <th>2</th>\n",
              "      <td>08/24/2022</td>\n",
              "      <td>Evening</td>\n",
              "      <td>4</td>\n",
              "      <td>4</td>\n",
              "    </tr>\n",
              "    <tr>\n",
              "      <th>3</th>\n",
              "      <td>08/24/2022</td>\n",
              "      <td>Afternoon</td>\n",
              "      <td>3</td>\n",
              "      <td>3</td>\n",
              "    </tr>\n",
              "    <tr>\n",
              "      <th>4</th>\n",
              "      <td>08/24/2022</td>\n",
              "      <td>Morning</td>\n",
              "      <td>2</td>\n",
              "      <td>2</td>\n",
              "    </tr>\n",
              "    <tr>\n",
              "      <th>5</th>\n",
              "      <td>08/24/2022</td>\n",
              "      <td>Afternoon</td>\n",
              "      <td>4</td>\n",
              "      <td>3</td>\n",
              "    </tr>\n",
              "    <tr>\n",
              "      <th>6</th>\n",
              "      <td>08/24/2022</td>\n",
              "      <td>Evening</td>\n",
              "      <td>4</td>\n",
              "      <td>4</td>\n",
              "    </tr>\n",
              "    <tr>\n",
              "      <th>7</th>\n",
              "      <td>08/24/2022</td>\n",
              "      <td>Evening</td>\n",
              "      <td>1</td>\n",
              "      <td>4</td>\n",
              "    </tr>\n",
              "    <tr>\n",
              "      <th>8</th>\n",
              "      <td>08/24/2022</td>\n",
              "      <td>Evening</td>\n",
              "      <td>2</td>\n",
              "      <td>2</td>\n",
              "    </tr>\n",
              "    <tr>\n",
              "      <th>9</th>\n",
              "      <td>08/24/2022</td>\n",
              "      <td>Morning</td>\n",
              "      <td>3</td>\n",
              "      <td>3</td>\n",
              "    </tr>\n",
              "  </tbody>\n",
              "</table>\n",
              "</div>\n",
              "      <button class=\"colab-df-convert\" onclick=\"convertToInteractive('df-69e6f7f9-f161-4bca-9d61-4eb6f85685d6')\"\n",
              "              title=\"Convert this dataframe to an interactive table.\"\n",
              "              style=\"display:none;\">\n",
              "        \n",
              "  <svg xmlns=\"http://www.w3.org/2000/svg\" height=\"24px\"viewBox=\"0 0 24 24\"\n",
              "       width=\"24px\">\n",
              "    <path d=\"M0 0h24v24H0V0z\" fill=\"none\"/>\n",
              "    <path d=\"M18.56 5.44l.94 2.06.94-2.06 2.06-.94-2.06-.94-.94-2.06-.94 2.06-2.06.94zm-11 1L8.5 8.5l.94-2.06 2.06-.94-2.06-.94L8.5 2.5l-.94 2.06-2.06.94zm10 10l.94 2.06.94-2.06 2.06-.94-2.06-.94-.94-2.06-.94 2.06-2.06.94z\"/><path d=\"M17.41 7.96l-1.37-1.37c-.4-.4-.92-.59-1.43-.59-.52 0-1.04.2-1.43.59L10.3 9.45l-7.72 7.72c-.78.78-.78 2.05 0 2.83L4 21.41c.39.39.9.59 1.41.59.51 0 1.02-.2 1.41-.59l7.78-7.78 2.81-2.81c.8-.78.8-2.07 0-2.86zM5.41 20L4 18.59l7.72-7.72 1.47 1.35L5.41 20z\"/>\n",
              "  </svg>\n",
              "      </button>\n",
              "      \n",
              "  <style>\n",
              "    .colab-df-container {\n",
              "      display:flex;\n",
              "      flex-wrap:wrap;\n",
              "      gap: 12px;\n",
              "    }\n",
              "\n",
              "    .colab-df-convert {\n",
              "      background-color: #E8F0FE;\n",
              "      border: none;\n",
              "      border-radius: 50%;\n",
              "      cursor: pointer;\n",
              "      display: none;\n",
              "      fill: #1967D2;\n",
              "      height: 32px;\n",
              "      padding: 0 0 0 0;\n",
              "      width: 32px;\n",
              "    }\n",
              "\n",
              "    .colab-df-convert:hover {\n",
              "      background-color: #E2EBFA;\n",
              "      box-shadow: 0px 1px 2px rgba(60, 64, 67, 0.3), 0px 1px 3px 1px rgba(60, 64, 67, 0.15);\n",
              "      fill: #174EA6;\n",
              "    }\n",
              "\n",
              "    [theme=dark] .colab-df-convert {\n",
              "      background-color: #3B4455;\n",
              "      fill: #D2E3FC;\n",
              "    }\n",
              "\n",
              "    [theme=dark] .colab-df-convert:hover {\n",
              "      background-color: #434B5C;\n",
              "      box-shadow: 0px 1px 3px 1px rgba(0, 0, 0, 0.15);\n",
              "      filter: drop-shadow(0px 1px 2px rgba(0, 0, 0, 0.3));\n",
              "      fill: #FFFFFF;\n",
              "    }\n",
              "  </style>\n",
              "\n",
              "      <script>\n",
              "        const buttonEl =\n",
              "          document.querySelector('#df-69e6f7f9-f161-4bca-9d61-4eb6f85685d6 button.colab-df-convert');\n",
              "        buttonEl.style.display =\n",
              "          google.colab.kernel.accessAllowed ? 'block' : 'none';\n",
              "\n",
              "        async function convertToInteractive(key) {\n",
              "          const element = document.querySelector('#df-69e6f7f9-f161-4bca-9d61-4eb6f85685d6');\n",
              "          const dataTable =\n",
              "            await google.colab.kernel.invokeFunction('convertToInteractive',\n",
              "                                                     [key], {});\n",
              "          if (!dataTable) return;\n",
              "\n",
              "          const docLinkHtml = 'Like what you see? Visit the ' +\n",
              "            '<a target=\"_blank\" href=https://colab.research.google.com/notebooks/data_table.ipynb>data table notebook</a>'\n",
              "            + ' to learn more about interactive tables.';\n",
              "          element.innerHTML = '';\n",
              "          dataTable['output_type'] = 'display_data';\n",
              "          await google.colab.output.renderOutput(dataTable, element);\n",
              "          const docLink = document.createElement('div');\n",
              "          docLink.innerHTML = docLinkHtml;\n",
              "          element.appendChild(docLink);\n",
              "        }\n",
              "      </script>\n",
              "    </div>\n",
              "  </div>\n",
              "  "
            ]
          },
          "metadata": {}
        }
      ]
    },
    {
      "cell_type": "markdown",
      "source": [
        "**--THOUGHT EXERCISE--**\n",
        "\n",
        "What kinds of groups can we make with this data? What types of functions can we apply to get insight about this data?"
      ],
      "metadata": {
        "id": "DsWazFqQCrsx"
      },
      "id": "DsWazFqQCrsx"
    },
    {
      "cell_type": "code",
      "source": [
        "# creating a group for time\n",
        "# you can also group multiple columns by using a list\n",
        "grouped = form.groupby(by='time')\n",
        "grouped"
      ],
      "metadata": {
        "colab": {
          "base_uri": "https://localhost:8080/"
        },
        "id": "gIpIl2YjECXr",
        "outputId": "ed7475de-4d45-4215-b12d-487df2b7d17a"
      },
      "id": "gIpIl2YjECXr",
      "execution_count": null,
      "outputs": [
        {
          "output_type": "execute_result",
          "data": {
            "text/plain": [
              "<pandas.core.groupby.generic.DataFrameGroupBy object at 0x7fc4f5efdd50>"
            ]
          },
          "metadata": {},
          "execution_count": 11
        }
      ]
    },
    {
      "cell_type": "code",
      "source": [
        "# let's see the frequency of each group \n",
        "grouped.size()"
      ],
      "metadata": {
        "colab": {
          "base_uri": "https://localhost:8080/"
        },
        "id": "UryHCyhUFkD0",
        "outputId": "cadb3433-0b9a-4de9-c3ca-a8a4eeec8076"
      },
      "id": "UryHCyhUFkD0",
      "execution_count": null,
      "outputs": [
        {
          "output_type": "execute_result",
          "data": {
            "text/plain": [
              "time\n",
              "Afternoon    2\n",
              "Evening      4\n",
              "Morning      4\n",
              "dtype: int64"
            ]
          },
          "metadata": {},
          "execution_count": 13
        }
      ]
    },
    {
      "cell_type": "code",
      "source": [
        "# let's look into one specific group in particular\n",
        "grouped.get_group('Evening')"
      ],
      "metadata": {
        "colab": {
          "base_uri": "https://localhost:8080/",
          "height": 175
        },
        "id": "hC66YWeuF35z",
        "outputId": "1fe1df4d-2ebe-4348-f7d4-1df7e374fc54"
      },
      "id": "hC66YWeuF35z",
      "execution_count": null,
      "outputs": [
        {
          "output_type": "execute_result",
          "data": {
            "text/plain": [
              "         date     time  pandas  numpy\n",
              "2  08/24/2022  Evening       4      4\n",
              "6  08/24/2022  Evening       4      4\n",
              "7  08/24/2022  Evening       1      4\n",
              "8  08/24/2022  Evening       2      2"
            ],
            "text/html": [
              "\n",
              "  <div id=\"df-bebe0ed8-105b-4083-ae6e-54e89bfb636f\">\n",
              "    <div class=\"colab-df-container\">\n",
              "      <div>\n",
              "<style scoped>\n",
              "    .dataframe tbody tr th:only-of-type {\n",
              "        vertical-align: middle;\n",
              "    }\n",
              "\n",
              "    .dataframe tbody tr th {\n",
              "        vertical-align: top;\n",
              "    }\n",
              "\n",
              "    .dataframe thead th {\n",
              "        text-align: right;\n",
              "    }\n",
              "</style>\n",
              "<table border=\"1\" class=\"dataframe\">\n",
              "  <thead>\n",
              "    <tr style=\"text-align: right;\">\n",
              "      <th></th>\n",
              "      <th>date</th>\n",
              "      <th>time</th>\n",
              "      <th>pandas</th>\n",
              "      <th>numpy</th>\n",
              "    </tr>\n",
              "  </thead>\n",
              "  <tbody>\n",
              "    <tr>\n",
              "      <th>2</th>\n",
              "      <td>08/24/2022</td>\n",
              "      <td>Evening</td>\n",
              "      <td>4</td>\n",
              "      <td>4</td>\n",
              "    </tr>\n",
              "    <tr>\n",
              "      <th>6</th>\n",
              "      <td>08/24/2022</td>\n",
              "      <td>Evening</td>\n",
              "      <td>4</td>\n",
              "      <td>4</td>\n",
              "    </tr>\n",
              "    <tr>\n",
              "      <th>7</th>\n",
              "      <td>08/24/2022</td>\n",
              "      <td>Evening</td>\n",
              "      <td>1</td>\n",
              "      <td>4</td>\n",
              "    </tr>\n",
              "    <tr>\n",
              "      <th>8</th>\n",
              "      <td>08/24/2022</td>\n",
              "      <td>Evening</td>\n",
              "      <td>2</td>\n",
              "      <td>2</td>\n",
              "    </tr>\n",
              "  </tbody>\n",
              "</table>\n",
              "</div>\n",
              "      <button class=\"colab-df-convert\" onclick=\"convertToInteractive('df-bebe0ed8-105b-4083-ae6e-54e89bfb636f')\"\n",
              "              title=\"Convert this dataframe to an interactive table.\"\n",
              "              style=\"display:none;\">\n",
              "        \n",
              "  <svg xmlns=\"http://www.w3.org/2000/svg\" height=\"24px\"viewBox=\"0 0 24 24\"\n",
              "       width=\"24px\">\n",
              "    <path d=\"M0 0h24v24H0V0z\" fill=\"none\"/>\n",
              "    <path d=\"M18.56 5.44l.94 2.06.94-2.06 2.06-.94-2.06-.94-.94-2.06-.94 2.06-2.06.94zm-11 1L8.5 8.5l.94-2.06 2.06-.94-2.06-.94L8.5 2.5l-.94 2.06-2.06.94zm10 10l.94 2.06.94-2.06 2.06-.94-2.06-.94-.94-2.06-.94 2.06-2.06.94z\"/><path d=\"M17.41 7.96l-1.37-1.37c-.4-.4-.92-.59-1.43-.59-.52 0-1.04.2-1.43.59L10.3 9.45l-7.72 7.72c-.78.78-.78 2.05 0 2.83L4 21.41c.39.39.9.59 1.41.59.51 0 1.02-.2 1.41-.59l7.78-7.78 2.81-2.81c.8-.78.8-2.07 0-2.86zM5.41 20L4 18.59l7.72-7.72 1.47 1.35L5.41 20z\"/>\n",
              "  </svg>\n",
              "      </button>\n",
              "      \n",
              "  <style>\n",
              "    .colab-df-container {\n",
              "      display:flex;\n",
              "      flex-wrap:wrap;\n",
              "      gap: 12px;\n",
              "    }\n",
              "\n",
              "    .colab-df-convert {\n",
              "      background-color: #E8F0FE;\n",
              "      border: none;\n",
              "      border-radius: 50%;\n",
              "      cursor: pointer;\n",
              "      display: none;\n",
              "      fill: #1967D2;\n",
              "      height: 32px;\n",
              "      padding: 0 0 0 0;\n",
              "      width: 32px;\n",
              "    }\n",
              "\n",
              "    .colab-df-convert:hover {\n",
              "      background-color: #E2EBFA;\n",
              "      box-shadow: 0px 1px 2px rgba(60, 64, 67, 0.3), 0px 1px 3px 1px rgba(60, 64, 67, 0.15);\n",
              "      fill: #174EA6;\n",
              "    }\n",
              "\n",
              "    [theme=dark] .colab-df-convert {\n",
              "      background-color: #3B4455;\n",
              "      fill: #D2E3FC;\n",
              "    }\n",
              "\n",
              "    [theme=dark] .colab-df-convert:hover {\n",
              "      background-color: #434B5C;\n",
              "      box-shadow: 0px 1px 3px 1px rgba(0, 0, 0, 0.15);\n",
              "      filter: drop-shadow(0px 1px 2px rgba(0, 0, 0, 0.3));\n",
              "      fill: #FFFFFF;\n",
              "    }\n",
              "  </style>\n",
              "\n",
              "      <script>\n",
              "        const buttonEl =\n",
              "          document.querySelector('#df-bebe0ed8-105b-4083-ae6e-54e89bfb636f button.colab-df-convert');\n",
              "        buttonEl.style.display =\n",
              "          google.colab.kernel.accessAllowed ? 'block' : 'none';\n",
              "\n",
              "        async function convertToInteractive(key) {\n",
              "          const element = document.querySelector('#df-bebe0ed8-105b-4083-ae6e-54e89bfb636f');\n",
              "          const dataTable =\n",
              "            await google.colab.kernel.invokeFunction('convertToInteractive',\n",
              "                                                     [key], {});\n",
              "          if (!dataTable) return;\n",
              "\n",
              "          const docLinkHtml = 'Like what you see? Visit the ' +\n",
              "            '<a target=\"_blank\" href=https://colab.research.google.com/notebooks/data_table.ipynb>data table notebook</a>'\n",
              "            + ' to learn more about interactive tables.';\n",
              "          element.innerHTML = '';\n",
              "          dataTable['output_type'] = 'display_data';\n",
              "          await google.colab.output.renderOutput(dataTable, element);\n",
              "          const docLink = document.createElement('div');\n",
              "          docLink.innerHTML = docLinkHtml;\n",
              "          element.appendChild(docLink);\n",
              "        }\n",
              "      </script>\n",
              "    </div>\n",
              "  </div>\n",
              "  "
            ]
          },
          "metadata": {},
          "execution_count": 14
        }
      ]
    },
    {
      "cell_type": "markdown",
      "source": [
        "**EXERCISE**\n",
        "\n",
        "What is another way we can get the same dataframe generated above?"
      ],
      "metadata": {
        "id": "urmKON_EGV1s"
      },
      "id": "urmKON_EGV1s"
    },
    {
      "cell_type": "code",
      "source": [
        "# Enter Answer\n"
      ],
      "metadata": {
        "id": "GUN0A8k4GLo2"
      },
      "id": "GUN0A8k4GLo2",
      "execution_count": null,
      "outputs": []
    },
    {
      "cell_type": "markdown",
      "source": [
        "**EXERCISE**\n",
        "\n",
        "Calculate the average expertise level of NumPy and Pandas amongst the time grouping."
      ],
      "metadata": {
        "id": "x5j7O_5yHKXE"
      },
      "id": "x5j7O_5yHKXE"
    },
    {
      "cell_type": "code",
      "source": [
        "# Enter Answer\n"
      ],
      "metadata": {
        "id": "48lu9lEfHcMe"
      },
      "id": "48lu9lEfHcMe",
      "execution_count": null,
      "outputs": []
    },
    {
      "cell_type": "markdown",
      "source": [
        "##### **Applying Functions to a DataFrame** - df.apply() and df.applymap()"
      ],
      "metadata": {
        "id": "ceV-EoEyA4Qs"
      },
      "id": "ceV-EoEyA4Qs"
    },
    {
      "cell_type": "markdown",
      "source": [
        "`df.apply()` is the easiest way to apply your own custom function to entire rows and/or columns (this includes lambdas and inbuilt functions!). \n",
        "\n",
        "`df.applymap()` applies function to each element in a dataframe.\n",
        "\n",
        "You can once again specify rows or columns by using \n",
        "axis=0 (column) or axis=1 (row) for `df.apply()`."
      ],
      "metadata": {
        "id": "ApvEkoQ7mIPr"
      },
      "id": "ApvEkoQ7mIPr"
    },
    {
      "cell_type": "code",
      "source": [
        "# reloading df_final\n",
        "display(df_final)"
      ],
      "metadata": {
        "id": "ht0RAIvE9LXI"
      },
      "id": "ht0RAIvE9LXI",
      "execution_count": null,
      "outputs": []
    },
    {
      "cell_type": "code",
      "source": [
        "# calculate the percentage weight of each student's test score to the their total points\n",
        "df_final.apply(lambda x: x/x.sum()*100, axis=0)"
      ],
      "metadata": {
        "id": "elmqAQdpL-Wq",
        "colab": {
          "base_uri": "https://localhost:8080/",
          "height": 237
        },
        "outputId": "f0825ae0-a800-4a99-880a-18ceb04b6c0c"
      },
      "id": "elmqAQdpL-Wq",
      "execution_count": null,
      "outputs": [
        {
          "output_type": "execute_result",
          "data": {
            "text/plain": [
              "           a          b          c          d          e          f\n",
              "1  15.594542  14.545455  13.552361  14.990512  14.583333  14.105263\n",
              "2  14.619883  15.454545  15.400411  15.749526  19.444444  16.842105\n",
              "3  13.645224  16.363636  18.685832  18.785579  17.592593  15.368421\n",
              "4  17.543860  17.272727  14.784394  17.077799   6.481481  13.894737\n",
              "5  19.103314  18.181818  17.043121  14.421252  18.750000  18.736842\n",
              "6  19.493177  18.181818  20.533881  18.975332  23.148148  21.052632"
            ],
            "text/html": [
              "\n",
              "  <div id=\"df-e9545f8d-0909-4410-a955-d8ffe0c63bed\">\n",
              "    <div class=\"colab-df-container\">\n",
              "      <div>\n",
              "<style scoped>\n",
              "    .dataframe tbody tr th:only-of-type {\n",
              "        vertical-align: middle;\n",
              "    }\n",
              "\n",
              "    .dataframe tbody tr th {\n",
              "        vertical-align: top;\n",
              "    }\n",
              "\n",
              "    .dataframe thead th {\n",
              "        text-align: right;\n",
              "    }\n",
              "</style>\n",
              "<table border=\"1\" class=\"dataframe\">\n",
              "  <thead>\n",
              "    <tr style=\"text-align: right;\">\n",
              "      <th></th>\n",
              "      <th>a</th>\n",
              "      <th>b</th>\n",
              "      <th>c</th>\n",
              "      <th>d</th>\n",
              "      <th>e</th>\n",
              "      <th>f</th>\n",
              "    </tr>\n",
              "  </thead>\n",
              "  <tbody>\n",
              "    <tr>\n",
              "      <th>1</th>\n",
              "      <td>15.594542</td>\n",
              "      <td>14.545455</td>\n",
              "      <td>13.552361</td>\n",
              "      <td>14.990512</td>\n",
              "      <td>14.583333</td>\n",
              "      <td>14.105263</td>\n",
              "    </tr>\n",
              "    <tr>\n",
              "      <th>2</th>\n",
              "      <td>14.619883</td>\n",
              "      <td>15.454545</td>\n",
              "      <td>15.400411</td>\n",
              "      <td>15.749526</td>\n",
              "      <td>19.444444</td>\n",
              "      <td>16.842105</td>\n",
              "    </tr>\n",
              "    <tr>\n",
              "      <th>3</th>\n",
              "      <td>13.645224</td>\n",
              "      <td>16.363636</td>\n",
              "      <td>18.685832</td>\n",
              "      <td>18.785579</td>\n",
              "      <td>17.592593</td>\n",
              "      <td>15.368421</td>\n",
              "    </tr>\n",
              "    <tr>\n",
              "      <th>4</th>\n",
              "      <td>17.543860</td>\n",
              "      <td>17.272727</td>\n",
              "      <td>14.784394</td>\n",
              "      <td>17.077799</td>\n",
              "      <td>6.481481</td>\n",
              "      <td>13.894737</td>\n",
              "    </tr>\n",
              "    <tr>\n",
              "      <th>5</th>\n",
              "      <td>19.103314</td>\n",
              "      <td>18.181818</td>\n",
              "      <td>17.043121</td>\n",
              "      <td>14.421252</td>\n",
              "      <td>18.750000</td>\n",
              "      <td>18.736842</td>\n",
              "    </tr>\n",
              "    <tr>\n",
              "      <th>6</th>\n",
              "      <td>19.493177</td>\n",
              "      <td>18.181818</td>\n",
              "      <td>20.533881</td>\n",
              "      <td>18.975332</td>\n",
              "      <td>23.148148</td>\n",
              "      <td>21.052632</td>\n",
              "    </tr>\n",
              "  </tbody>\n",
              "</table>\n",
              "</div>\n",
              "      <button class=\"colab-df-convert\" onclick=\"convertToInteractive('df-e9545f8d-0909-4410-a955-d8ffe0c63bed')\"\n",
              "              title=\"Convert this dataframe to an interactive table.\"\n",
              "              style=\"display:none;\">\n",
              "        \n",
              "  <svg xmlns=\"http://www.w3.org/2000/svg\" height=\"24px\"viewBox=\"0 0 24 24\"\n",
              "       width=\"24px\">\n",
              "    <path d=\"M0 0h24v24H0V0z\" fill=\"none\"/>\n",
              "    <path d=\"M18.56 5.44l.94 2.06.94-2.06 2.06-.94-2.06-.94-.94-2.06-.94 2.06-2.06.94zm-11 1L8.5 8.5l.94-2.06 2.06-.94-2.06-.94L8.5 2.5l-.94 2.06-2.06.94zm10 10l.94 2.06.94-2.06 2.06-.94-2.06-.94-.94-2.06-.94 2.06-2.06.94z\"/><path d=\"M17.41 7.96l-1.37-1.37c-.4-.4-.92-.59-1.43-.59-.52 0-1.04.2-1.43.59L10.3 9.45l-7.72 7.72c-.78.78-.78 2.05 0 2.83L4 21.41c.39.39.9.59 1.41.59.51 0 1.02-.2 1.41-.59l7.78-7.78 2.81-2.81c.8-.78.8-2.07 0-2.86zM5.41 20L4 18.59l7.72-7.72 1.47 1.35L5.41 20z\"/>\n",
              "  </svg>\n",
              "      </button>\n",
              "      \n",
              "  <style>\n",
              "    .colab-df-container {\n",
              "      display:flex;\n",
              "      flex-wrap:wrap;\n",
              "      gap: 12px;\n",
              "    }\n",
              "\n",
              "    .colab-df-convert {\n",
              "      background-color: #E8F0FE;\n",
              "      border: none;\n",
              "      border-radius: 50%;\n",
              "      cursor: pointer;\n",
              "      display: none;\n",
              "      fill: #1967D2;\n",
              "      height: 32px;\n",
              "      padding: 0 0 0 0;\n",
              "      width: 32px;\n",
              "    }\n",
              "\n",
              "    .colab-df-convert:hover {\n",
              "      background-color: #E2EBFA;\n",
              "      box-shadow: 0px 1px 2px rgba(60, 64, 67, 0.3), 0px 1px 3px 1px rgba(60, 64, 67, 0.15);\n",
              "      fill: #174EA6;\n",
              "    }\n",
              "\n",
              "    [theme=dark] .colab-df-convert {\n",
              "      background-color: #3B4455;\n",
              "      fill: #D2E3FC;\n",
              "    }\n",
              "\n",
              "    [theme=dark] .colab-df-convert:hover {\n",
              "      background-color: #434B5C;\n",
              "      box-shadow: 0px 1px 3px 1px rgba(0, 0, 0, 0.15);\n",
              "      filter: drop-shadow(0px 1px 2px rgba(0, 0, 0, 0.3));\n",
              "      fill: #FFFFFF;\n",
              "    }\n",
              "  </style>\n",
              "\n",
              "      <script>\n",
              "        const buttonEl =\n",
              "          document.querySelector('#df-e9545f8d-0909-4410-a955-d8ffe0c63bed button.colab-df-convert');\n",
              "        buttonEl.style.display =\n",
              "          google.colab.kernel.accessAllowed ? 'block' : 'none';\n",
              "\n",
              "        async function convertToInteractive(key) {\n",
              "          const element = document.querySelector('#df-e9545f8d-0909-4410-a955-d8ffe0c63bed');\n",
              "          const dataTable =\n",
              "            await google.colab.kernel.invokeFunction('convertToInteractive',\n",
              "                                                     [key], {});\n",
              "          if (!dataTable) return;\n",
              "\n",
              "          const docLinkHtml = 'Like what you see? Visit the ' +\n",
              "            '<a target=\"_blank\" href=https://colab.research.google.com/notebooks/data_table.ipynb>data table notebook</a>'\n",
              "            + ' to learn more about interactive tables.';\n",
              "          element.innerHTML = '';\n",
              "          dataTable['output_type'] = 'display_data';\n",
              "          await google.colab.output.renderOutput(dataTable, element);\n",
              "          const docLink = document.createElement('div');\n",
              "          docLink.innerHTML = docLinkHtml;\n",
              "          element.appendChild(docLink);\n",
              "        }\n",
              "      </script>\n",
              "    </div>\n",
              "  </div>\n",
              "  "
            ]
          },
          "metadata": {},
          "execution_count": 33
        }
      ]
    },
    {
      "cell_type": "code",
      "source": [
        "# make the test scores display as percentages\n",
        "df_final.applymap(lambda x: f'{x}%')"
      ],
      "metadata": {
        "colab": {
          "base_uri": "https://localhost:8080/",
          "height": 237
        },
        "id": "SRo8GHvOrq8H",
        "outputId": "ca125bc5-4de0-4566-8e7e-a0fe57f34c01"
      },
      "id": "SRo8GHvOrq8H",
      "execution_count": null,
      "outputs": [
        {
          "output_type": "execute_result",
          "data": {
            "text/plain": [
              "      a     b     c     d     e     f\n",
              "1   80%   80%   66%   79%   63%   67%\n",
              "2   75%   85%   75%   83%   84%   80%\n",
              "3   70%   90%   91%   99%   76%   73%\n",
              "4   90%   95%   72%   90%   28%   66%\n",
              "5   98%  100%   83%   76%   81%   89%\n",
              "6  100%  100%  100%  100%  100%  100%"
            ],
            "text/html": [
              "\n",
              "  <div id=\"df-07e8621d-a49c-4dd4-82d8-f71228896e6a\">\n",
              "    <div class=\"colab-df-container\">\n",
              "      <div>\n",
              "<style scoped>\n",
              "    .dataframe tbody tr th:only-of-type {\n",
              "        vertical-align: middle;\n",
              "    }\n",
              "\n",
              "    .dataframe tbody tr th {\n",
              "        vertical-align: top;\n",
              "    }\n",
              "\n",
              "    .dataframe thead th {\n",
              "        text-align: right;\n",
              "    }\n",
              "</style>\n",
              "<table border=\"1\" class=\"dataframe\">\n",
              "  <thead>\n",
              "    <tr style=\"text-align: right;\">\n",
              "      <th></th>\n",
              "      <th>a</th>\n",
              "      <th>b</th>\n",
              "      <th>c</th>\n",
              "      <th>d</th>\n",
              "      <th>e</th>\n",
              "      <th>f</th>\n",
              "    </tr>\n",
              "  </thead>\n",
              "  <tbody>\n",
              "    <tr>\n",
              "      <th>1</th>\n",
              "      <td>80%</td>\n",
              "      <td>80%</td>\n",
              "      <td>66%</td>\n",
              "      <td>79%</td>\n",
              "      <td>63%</td>\n",
              "      <td>67%</td>\n",
              "    </tr>\n",
              "    <tr>\n",
              "      <th>2</th>\n",
              "      <td>75%</td>\n",
              "      <td>85%</td>\n",
              "      <td>75%</td>\n",
              "      <td>83%</td>\n",
              "      <td>84%</td>\n",
              "      <td>80%</td>\n",
              "    </tr>\n",
              "    <tr>\n",
              "      <th>3</th>\n",
              "      <td>70%</td>\n",
              "      <td>90%</td>\n",
              "      <td>91%</td>\n",
              "      <td>99%</td>\n",
              "      <td>76%</td>\n",
              "      <td>73%</td>\n",
              "    </tr>\n",
              "    <tr>\n",
              "      <th>4</th>\n",
              "      <td>90%</td>\n",
              "      <td>95%</td>\n",
              "      <td>72%</td>\n",
              "      <td>90%</td>\n",
              "      <td>28%</td>\n",
              "      <td>66%</td>\n",
              "    </tr>\n",
              "    <tr>\n",
              "      <th>5</th>\n",
              "      <td>98%</td>\n",
              "      <td>100%</td>\n",
              "      <td>83%</td>\n",
              "      <td>76%</td>\n",
              "      <td>81%</td>\n",
              "      <td>89%</td>\n",
              "    </tr>\n",
              "    <tr>\n",
              "      <th>6</th>\n",
              "      <td>100%</td>\n",
              "      <td>100%</td>\n",
              "      <td>100%</td>\n",
              "      <td>100%</td>\n",
              "      <td>100%</td>\n",
              "      <td>100%</td>\n",
              "    </tr>\n",
              "  </tbody>\n",
              "</table>\n",
              "</div>\n",
              "      <button class=\"colab-df-convert\" onclick=\"convertToInteractive('df-07e8621d-a49c-4dd4-82d8-f71228896e6a')\"\n",
              "              title=\"Convert this dataframe to an interactive table.\"\n",
              "              style=\"display:none;\">\n",
              "        \n",
              "  <svg xmlns=\"http://www.w3.org/2000/svg\" height=\"24px\"viewBox=\"0 0 24 24\"\n",
              "       width=\"24px\">\n",
              "    <path d=\"M0 0h24v24H0V0z\" fill=\"none\"/>\n",
              "    <path d=\"M18.56 5.44l.94 2.06.94-2.06 2.06-.94-2.06-.94-.94-2.06-.94 2.06-2.06.94zm-11 1L8.5 8.5l.94-2.06 2.06-.94-2.06-.94L8.5 2.5l-.94 2.06-2.06.94zm10 10l.94 2.06.94-2.06 2.06-.94-2.06-.94-.94-2.06-.94 2.06-2.06.94z\"/><path d=\"M17.41 7.96l-1.37-1.37c-.4-.4-.92-.59-1.43-.59-.52 0-1.04.2-1.43.59L10.3 9.45l-7.72 7.72c-.78.78-.78 2.05 0 2.83L4 21.41c.39.39.9.59 1.41.59.51 0 1.02-.2 1.41-.59l7.78-7.78 2.81-2.81c.8-.78.8-2.07 0-2.86zM5.41 20L4 18.59l7.72-7.72 1.47 1.35L5.41 20z\"/>\n",
              "  </svg>\n",
              "      </button>\n",
              "      \n",
              "  <style>\n",
              "    .colab-df-container {\n",
              "      display:flex;\n",
              "      flex-wrap:wrap;\n",
              "      gap: 12px;\n",
              "    }\n",
              "\n",
              "    .colab-df-convert {\n",
              "      background-color: #E8F0FE;\n",
              "      border: none;\n",
              "      border-radius: 50%;\n",
              "      cursor: pointer;\n",
              "      display: none;\n",
              "      fill: #1967D2;\n",
              "      height: 32px;\n",
              "      padding: 0 0 0 0;\n",
              "      width: 32px;\n",
              "    }\n",
              "\n",
              "    .colab-df-convert:hover {\n",
              "      background-color: #E2EBFA;\n",
              "      box-shadow: 0px 1px 2px rgba(60, 64, 67, 0.3), 0px 1px 3px 1px rgba(60, 64, 67, 0.15);\n",
              "      fill: #174EA6;\n",
              "    }\n",
              "\n",
              "    [theme=dark] .colab-df-convert {\n",
              "      background-color: #3B4455;\n",
              "      fill: #D2E3FC;\n",
              "    }\n",
              "\n",
              "    [theme=dark] .colab-df-convert:hover {\n",
              "      background-color: #434B5C;\n",
              "      box-shadow: 0px 1px 3px 1px rgba(0, 0, 0, 0.15);\n",
              "      filter: drop-shadow(0px 1px 2px rgba(0, 0, 0, 0.3));\n",
              "      fill: #FFFFFF;\n",
              "    }\n",
              "  </style>\n",
              "\n",
              "      <script>\n",
              "        const buttonEl =\n",
              "          document.querySelector('#df-07e8621d-a49c-4dd4-82d8-f71228896e6a button.colab-df-convert');\n",
              "        buttonEl.style.display =\n",
              "          google.colab.kernel.accessAllowed ? 'block' : 'none';\n",
              "\n",
              "        async function convertToInteractive(key) {\n",
              "          const element = document.querySelector('#df-07e8621d-a49c-4dd4-82d8-f71228896e6a');\n",
              "          const dataTable =\n",
              "            await google.colab.kernel.invokeFunction('convertToInteractive',\n",
              "                                                     [key], {});\n",
              "          if (!dataTable) return;\n",
              "\n",
              "          const docLinkHtml = 'Like what you see? Visit the ' +\n",
              "            '<a target=\"_blank\" href=https://colab.research.google.com/notebooks/data_table.ipynb>data table notebook</a>'\n",
              "            + ' to learn more about interactive tables.';\n",
              "          element.innerHTML = '';\n",
              "          dataTable['output_type'] = 'display_data';\n",
              "          await google.colab.output.renderOutput(dataTable, element);\n",
              "          const docLink = document.createElement('div');\n",
              "          docLink.innerHTML = docLinkHtml;\n",
              "          element.appendChild(docLink);\n",
              "        }\n",
              "      </script>\n",
              "    </div>\n",
              "  </div>\n",
              "  "
            ]
          },
          "metadata": {},
          "execution_count": 37
        }
      ]
    },
    {
      "cell_type": "markdown",
      "source": [
        "##### **Conditional Functions** - np.where()\n",
        "\n"
      ],
      "metadata": {
        "id": "3oJMKe_JJ-tg"
      },
      "id": "3oJMKe_JJ-tg"
    },
    {
      "cell_type": "markdown",
      "source": [
        "`np.where()` is a powerful function enables the power to essentially embody a `if...then...else...` in one singular statement. It can be applied to any type of collection.\n",
        "\n",
        "Here's the anatomy of this function:\n",
        "\n",
        "np.where(condition, result_if_true, result_if_false)"
      ],
      "metadata": {
        "id": "GsiHN6TlsxeJ"
      },
      "id": "GsiHN6TlsxeJ"
    },
    {
      "cell_type": "code",
      "source": [
        "# let's flag all the tests that are below a certain score as retake\n",
        "df_final.apply(lambda x: np.where(x < 65, 'Retake', ' ------- '))"
      ],
      "metadata": {
        "id": "Vm_lhcx6KNtv",
        "colab": {
          "base_uri": "https://localhost:8080/",
          "height": 237
        },
        "outputId": "7980bec1-e0eb-4dda-c016-90668b8a1733"
      },
      "id": "Vm_lhcx6KNtv",
      "execution_count": null,
      "outputs": [
        {
          "output_type": "execute_result",
          "data": {
            "text/plain": [
              "           a          b          c          d          e          f\n",
              "1   -------    -------    -------    -------      Retake   ------- \n",
              "2   -------    -------    -------    -------    -------    ------- \n",
              "3   -------    -------    -------    -------    -------    ------- \n",
              "4   -------    -------    -------    -------      Retake   ------- \n",
              "5   -------    -------    -------    -------    -------    ------- \n",
              "6   -------    -------    -------    -------    -------    ------- "
            ],
            "text/html": [
              "\n",
              "  <div id=\"df-04a0db91-b855-4218-824e-977d8cc0590f\">\n",
              "    <div class=\"colab-df-container\">\n",
              "      <div>\n",
              "<style scoped>\n",
              "    .dataframe tbody tr th:only-of-type {\n",
              "        vertical-align: middle;\n",
              "    }\n",
              "\n",
              "    .dataframe tbody tr th {\n",
              "        vertical-align: top;\n",
              "    }\n",
              "\n",
              "    .dataframe thead th {\n",
              "        text-align: right;\n",
              "    }\n",
              "</style>\n",
              "<table border=\"1\" class=\"dataframe\">\n",
              "  <thead>\n",
              "    <tr style=\"text-align: right;\">\n",
              "      <th></th>\n",
              "      <th>a</th>\n",
              "      <th>b</th>\n",
              "      <th>c</th>\n",
              "      <th>d</th>\n",
              "      <th>e</th>\n",
              "      <th>f</th>\n",
              "    </tr>\n",
              "  </thead>\n",
              "  <tbody>\n",
              "    <tr>\n",
              "      <th>1</th>\n",
              "      <td>-------</td>\n",
              "      <td>-------</td>\n",
              "      <td>-------</td>\n",
              "      <td>-------</td>\n",
              "      <td>Retake</td>\n",
              "      <td>-------</td>\n",
              "    </tr>\n",
              "    <tr>\n",
              "      <th>2</th>\n",
              "      <td>-------</td>\n",
              "      <td>-------</td>\n",
              "      <td>-------</td>\n",
              "      <td>-------</td>\n",
              "      <td>-------</td>\n",
              "      <td>-------</td>\n",
              "    </tr>\n",
              "    <tr>\n",
              "      <th>3</th>\n",
              "      <td>-------</td>\n",
              "      <td>-------</td>\n",
              "      <td>-------</td>\n",
              "      <td>-------</td>\n",
              "      <td>-------</td>\n",
              "      <td>-------</td>\n",
              "    </tr>\n",
              "    <tr>\n",
              "      <th>4</th>\n",
              "      <td>-------</td>\n",
              "      <td>-------</td>\n",
              "      <td>-------</td>\n",
              "      <td>-------</td>\n",
              "      <td>Retake</td>\n",
              "      <td>-------</td>\n",
              "    </tr>\n",
              "    <tr>\n",
              "      <th>5</th>\n",
              "      <td>-------</td>\n",
              "      <td>-------</td>\n",
              "      <td>-------</td>\n",
              "      <td>-------</td>\n",
              "      <td>-------</td>\n",
              "      <td>-------</td>\n",
              "    </tr>\n",
              "    <tr>\n",
              "      <th>6</th>\n",
              "      <td>-------</td>\n",
              "      <td>-------</td>\n",
              "      <td>-------</td>\n",
              "      <td>-------</td>\n",
              "      <td>-------</td>\n",
              "      <td>-------</td>\n",
              "    </tr>\n",
              "  </tbody>\n",
              "</table>\n",
              "</div>\n",
              "      <button class=\"colab-df-convert\" onclick=\"convertToInteractive('df-04a0db91-b855-4218-824e-977d8cc0590f')\"\n",
              "              title=\"Convert this dataframe to an interactive table.\"\n",
              "              style=\"display:none;\">\n",
              "        \n",
              "  <svg xmlns=\"http://www.w3.org/2000/svg\" height=\"24px\"viewBox=\"0 0 24 24\"\n",
              "       width=\"24px\">\n",
              "    <path d=\"M0 0h24v24H0V0z\" fill=\"none\"/>\n",
              "    <path d=\"M18.56 5.44l.94 2.06.94-2.06 2.06-.94-2.06-.94-.94-2.06-.94 2.06-2.06.94zm-11 1L8.5 8.5l.94-2.06 2.06-.94-2.06-.94L8.5 2.5l-.94 2.06-2.06.94zm10 10l.94 2.06.94-2.06 2.06-.94-2.06-.94-.94-2.06-.94 2.06-2.06.94z\"/><path d=\"M17.41 7.96l-1.37-1.37c-.4-.4-.92-.59-1.43-.59-.52 0-1.04.2-1.43.59L10.3 9.45l-7.72 7.72c-.78.78-.78 2.05 0 2.83L4 21.41c.39.39.9.59 1.41.59.51 0 1.02-.2 1.41-.59l7.78-7.78 2.81-2.81c.8-.78.8-2.07 0-2.86zM5.41 20L4 18.59l7.72-7.72 1.47 1.35L5.41 20z\"/>\n",
              "  </svg>\n",
              "      </button>\n",
              "      \n",
              "  <style>\n",
              "    .colab-df-container {\n",
              "      display:flex;\n",
              "      flex-wrap:wrap;\n",
              "      gap: 12px;\n",
              "    }\n",
              "\n",
              "    .colab-df-convert {\n",
              "      background-color: #E8F0FE;\n",
              "      border: none;\n",
              "      border-radius: 50%;\n",
              "      cursor: pointer;\n",
              "      display: none;\n",
              "      fill: #1967D2;\n",
              "      height: 32px;\n",
              "      padding: 0 0 0 0;\n",
              "      width: 32px;\n",
              "    }\n",
              "\n",
              "    .colab-df-convert:hover {\n",
              "      background-color: #E2EBFA;\n",
              "      box-shadow: 0px 1px 2px rgba(60, 64, 67, 0.3), 0px 1px 3px 1px rgba(60, 64, 67, 0.15);\n",
              "      fill: #174EA6;\n",
              "    }\n",
              "\n",
              "    [theme=dark] .colab-df-convert {\n",
              "      background-color: #3B4455;\n",
              "      fill: #D2E3FC;\n",
              "    }\n",
              "\n",
              "    [theme=dark] .colab-df-convert:hover {\n",
              "      background-color: #434B5C;\n",
              "      box-shadow: 0px 1px 3px 1px rgba(0, 0, 0, 0.15);\n",
              "      filter: drop-shadow(0px 1px 2px rgba(0, 0, 0, 0.3));\n",
              "      fill: #FFFFFF;\n",
              "    }\n",
              "  </style>\n",
              "\n",
              "      <script>\n",
              "        const buttonEl =\n",
              "          document.querySelector('#df-04a0db91-b855-4218-824e-977d8cc0590f button.colab-df-convert');\n",
              "        buttonEl.style.display =\n",
              "          google.colab.kernel.accessAllowed ? 'block' : 'none';\n",
              "\n",
              "        async function convertToInteractive(key) {\n",
              "          const element = document.querySelector('#df-04a0db91-b855-4218-824e-977d8cc0590f');\n",
              "          const dataTable =\n",
              "            await google.colab.kernel.invokeFunction('convertToInteractive',\n",
              "                                                     [key], {});\n",
              "          if (!dataTable) return;\n",
              "\n",
              "          const docLinkHtml = 'Like what you see? Visit the ' +\n",
              "            '<a target=\"_blank\" href=https://colab.research.google.com/notebooks/data_table.ipynb>data table notebook</a>'\n",
              "            + ' to learn more about interactive tables.';\n",
              "          element.innerHTML = '';\n",
              "          dataTable['output_type'] = 'display_data';\n",
              "          await google.colab.output.renderOutput(dataTable, element);\n",
              "          const docLink = document.createElement('div');\n",
              "          docLink.innerHTML = docLinkHtml;\n",
              "          element.appendChild(docLink);\n",
              "        }\n",
              "      </script>\n",
              "    </div>\n",
              "  </div>\n",
              "  "
            ]
          },
          "metadata": {},
          "execution_count": 41
        }
      ]
    },
    {
      "cell_type": "markdown",
      "source": [
        "##### **Masking/Filtering**"
      ],
      "metadata": {
        "id": "U11CBvAkN5qy"
      },
      "id": "U11CBvAkN5qy"
    },
    {
      "cell_type": "markdown",
      "source": [
        "Masking refers to hiding values based upon a condition. We can do this with dataframes by using `df[condition]` or with arrays by using `arr[condition]`."
      ],
      "metadata": {
        "id": "yfFdRVHUOMXe"
      },
      "id": "yfFdRVHUOMXe"
    },
    {
      "cell_type": "code",
      "source": [
        "df_final[df_final >= 90]"
      ],
      "metadata": {
        "colab": {
          "base_uri": "https://localhost:8080/",
          "height": 237
        },
        "id": "M2i_yfACOIK1",
        "outputId": "b59d9704-edfa-4a67-af03-b2e7de37cc93"
      },
      "id": "M2i_yfACOIK1",
      "execution_count": null,
      "outputs": [
        {
          "output_type": "execute_result",
          "data": {
            "text/plain": [
              "       a      b      c      d      e      f\n",
              "1    NaN    NaN    NaN    NaN    NaN    NaN\n",
              "2    NaN    NaN    NaN    NaN    NaN    NaN\n",
              "3    NaN   90.0   91.0   99.0    NaN    NaN\n",
              "4   90.0   95.0    NaN   90.0    NaN    NaN\n",
              "5   98.0  100.0    NaN    NaN    NaN    NaN\n",
              "6  100.0  100.0  100.0  100.0  100.0  100.0"
            ],
            "text/html": [
              "\n",
              "  <div id=\"df-f66303d5-3051-42d2-98a5-c4d34b265cfb\">\n",
              "    <div class=\"colab-df-container\">\n",
              "      <div>\n",
              "<style scoped>\n",
              "    .dataframe tbody tr th:only-of-type {\n",
              "        vertical-align: middle;\n",
              "    }\n",
              "\n",
              "    .dataframe tbody tr th {\n",
              "        vertical-align: top;\n",
              "    }\n",
              "\n",
              "    .dataframe thead th {\n",
              "        text-align: right;\n",
              "    }\n",
              "</style>\n",
              "<table border=\"1\" class=\"dataframe\">\n",
              "  <thead>\n",
              "    <tr style=\"text-align: right;\">\n",
              "      <th></th>\n",
              "      <th>a</th>\n",
              "      <th>b</th>\n",
              "      <th>c</th>\n",
              "      <th>d</th>\n",
              "      <th>e</th>\n",
              "      <th>f</th>\n",
              "    </tr>\n",
              "  </thead>\n",
              "  <tbody>\n",
              "    <tr>\n",
              "      <th>1</th>\n",
              "      <td>NaN</td>\n",
              "      <td>NaN</td>\n",
              "      <td>NaN</td>\n",
              "      <td>NaN</td>\n",
              "      <td>NaN</td>\n",
              "      <td>NaN</td>\n",
              "    </tr>\n",
              "    <tr>\n",
              "      <th>2</th>\n",
              "      <td>NaN</td>\n",
              "      <td>NaN</td>\n",
              "      <td>NaN</td>\n",
              "      <td>NaN</td>\n",
              "      <td>NaN</td>\n",
              "      <td>NaN</td>\n",
              "    </tr>\n",
              "    <tr>\n",
              "      <th>3</th>\n",
              "      <td>NaN</td>\n",
              "      <td>90.0</td>\n",
              "      <td>91.0</td>\n",
              "      <td>99.0</td>\n",
              "      <td>NaN</td>\n",
              "      <td>NaN</td>\n",
              "    </tr>\n",
              "    <tr>\n",
              "      <th>4</th>\n",
              "      <td>90.0</td>\n",
              "      <td>95.0</td>\n",
              "      <td>NaN</td>\n",
              "      <td>90.0</td>\n",
              "      <td>NaN</td>\n",
              "      <td>NaN</td>\n",
              "    </tr>\n",
              "    <tr>\n",
              "      <th>5</th>\n",
              "      <td>98.0</td>\n",
              "      <td>100.0</td>\n",
              "      <td>NaN</td>\n",
              "      <td>NaN</td>\n",
              "      <td>NaN</td>\n",
              "      <td>NaN</td>\n",
              "    </tr>\n",
              "    <tr>\n",
              "      <th>6</th>\n",
              "      <td>100.0</td>\n",
              "      <td>100.0</td>\n",
              "      <td>100.0</td>\n",
              "      <td>100.0</td>\n",
              "      <td>100.0</td>\n",
              "      <td>100.0</td>\n",
              "    </tr>\n",
              "  </tbody>\n",
              "</table>\n",
              "</div>\n",
              "      <button class=\"colab-df-convert\" onclick=\"convertToInteractive('df-f66303d5-3051-42d2-98a5-c4d34b265cfb')\"\n",
              "              title=\"Convert this dataframe to an interactive table.\"\n",
              "              style=\"display:none;\">\n",
              "        \n",
              "  <svg xmlns=\"http://www.w3.org/2000/svg\" height=\"24px\"viewBox=\"0 0 24 24\"\n",
              "       width=\"24px\">\n",
              "    <path d=\"M0 0h24v24H0V0z\" fill=\"none\"/>\n",
              "    <path d=\"M18.56 5.44l.94 2.06.94-2.06 2.06-.94-2.06-.94-.94-2.06-.94 2.06-2.06.94zm-11 1L8.5 8.5l.94-2.06 2.06-.94-2.06-.94L8.5 2.5l-.94 2.06-2.06.94zm10 10l.94 2.06.94-2.06 2.06-.94-2.06-.94-.94-2.06-.94 2.06-2.06.94z\"/><path d=\"M17.41 7.96l-1.37-1.37c-.4-.4-.92-.59-1.43-.59-.52 0-1.04.2-1.43.59L10.3 9.45l-7.72 7.72c-.78.78-.78 2.05 0 2.83L4 21.41c.39.39.9.59 1.41.59.51 0 1.02-.2 1.41-.59l7.78-7.78 2.81-2.81c.8-.78.8-2.07 0-2.86zM5.41 20L4 18.59l7.72-7.72 1.47 1.35L5.41 20z\"/>\n",
              "  </svg>\n",
              "      </button>\n",
              "      \n",
              "  <style>\n",
              "    .colab-df-container {\n",
              "      display:flex;\n",
              "      flex-wrap:wrap;\n",
              "      gap: 12px;\n",
              "    }\n",
              "\n",
              "    .colab-df-convert {\n",
              "      background-color: #E8F0FE;\n",
              "      border: none;\n",
              "      border-radius: 50%;\n",
              "      cursor: pointer;\n",
              "      display: none;\n",
              "      fill: #1967D2;\n",
              "      height: 32px;\n",
              "      padding: 0 0 0 0;\n",
              "      width: 32px;\n",
              "    }\n",
              "\n",
              "    .colab-df-convert:hover {\n",
              "      background-color: #E2EBFA;\n",
              "      box-shadow: 0px 1px 2px rgba(60, 64, 67, 0.3), 0px 1px 3px 1px rgba(60, 64, 67, 0.15);\n",
              "      fill: #174EA6;\n",
              "    }\n",
              "\n",
              "    [theme=dark] .colab-df-convert {\n",
              "      background-color: #3B4455;\n",
              "      fill: #D2E3FC;\n",
              "    }\n",
              "\n",
              "    [theme=dark] .colab-df-convert:hover {\n",
              "      background-color: #434B5C;\n",
              "      box-shadow: 0px 1px 3px 1px rgba(0, 0, 0, 0.15);\n",
              "      filter: drop-shadow(0px 1px 2px rgba(0, 0, 0, 0.3));\n",
              "      fill: #FFFFFF;\n",
              "    }\n",
              "  </style>\n",
              "\n",
              "      <script>\n",
              "        const buttonEl =\n",
              "          document.querySelector('#df-f66303d5-3051-42d2-98a5-c4d34b265cfb button.colab-df-convert');\n",
              "        buttonEl.style.display =\n",
              "          google.colab.kernel.accessAllowed ? 'block' : 'none';\n",
              "\n",
              "        async function convertToInteractive(key) {\n",
              "          const element = document.querySelector('#df-f66303d5-3051-42d2-98a5-c4d34b265cfb');\n",
              "          const dataTable =\n",
              "            await google.colab.kernel.invokeFunction('convertToInteractive',\n",
              "                                                     [key], {});\n",
              "          if (!dataTable) return;\n",
              "\n",
              "          const docLinkHtml = 'Like what you see? Visit the ' +\n",
              "            '<a target=\"_blank\" href=https://colab.research.google.com/notebooks/data_table.ipynb>data table notebook</a>'\n",
              "            + ' to learn more about interactive tables.';\n",
              "          element.innerHTML = '';\n",
              "          dataTable['output_type'] = 'display_data';\n",
              "          await google.colab.output.renderOutput(dataTable, element);\n",
              "          const docLink = document.createElement('div');\n",
              "          docLink.innerHTML = docLinkHtml;\n",
              "          element.appendChild(docLink);\n",
              "        }\n",
              "      </script>\n",
              "    </div>\n",
              "  </div>\n",
              "  "
            ]
          },
          "metadata": {},
          "execution_count": 48
        }
      ]
    },
    {
      "cell_type": "code",
      "source": [
        "# returns index where statement is true\n",
        "print(df_final[df_final['a'] == 100])"
      ],
      "metadata": {
        "colab": {
          "base_uri": "https://localhost:8080/"
        },
        "id": "DQCiQDskHD-v",
        "outputId": "f215155c-4ba7-489f-9d54-7b21c0966157"
      },
      "id": "DQCiQDskHD-v",
      "execution_count": null,
      "outputs": [
        {
          "output_type": "stream",
          "name": "stdout",
          "text": [
            "     a    b    c    d    e    f\n",
            "6  100  100  100  100  100  100\n"
          ]
        }
      ]
    },
    {
      "cell_type": "markdown",
      "id": "d5d4bb46-b80a-4e6a-b26b-a3e3c216c8d8",
      "metadata": {
        "id": "d5d4bb46-b80a-4e6a-b26b-a3e3c216c8d8"
      },
      "source": [
        "## <a name=\"dataviz\"></a>Data Visualization in Python"
      ]
    },
    {
      "cell_type": "markdown",
      "source": [
        "In order to visualize data, we need to import a package from another library - the pyplot package from matplotlib."
      ],
      "metadata": {
        "id": "IQJXTAGY3RZ8"
      },
      "id": "IQJXTAGY3RZ8"
    },
    {
      "cell_type": "code",
      "source": [
        "# import statement\n",
        "import matplotlib.pyplot as plt"
      ],
      "metadata": {
        "id": "qQUIEsaKRSwv"
      },
      "id": "qQUIEsaKRSwv",
      "execution_count": null,
      "outputs": []
    },
    {
      "cell_type": "markdown",
      "source": [
        "Pyplot's `.plot()` function enables us to draw graphs from a series of points documented in any type of collection."
      ],
      "metadata": {
        "id": "qQTpIhxsWa3l"
      },
      "id": "qQTpIhxsWa3l"
    },
    {
      "cell_type": "code",
      "source": [
        "# create a bar graph \n",
        "\n",
        "# make the x-axis the test numbers \n",
        "x = [1,2,3,4,5,6]\n",
        "\n",
        "#make the y-axis the averages for each test\n",
        "y = df_final.mean(axis=1)\n",
        "\n",
        "#draw the graph\n",
        "plt.bar(x,y, color='purple')\n",
        "\n",
        "#add axes\n",
        "plt.xlabel('Test #')\n",
        "plt.ylabel('Class Average')\n",
        "\n",
        "#add title\n",
        "plt.title('Class Averages for Tests over the Semester')\n",
        "\n",
        "#show the graph\n",
        "plt.show()"
      ],
      "metadata": {
        "colab": {
          "base_uri": "https://localhost:8080/",
          "height": 295
        },
        "id": "QUtnVXjNZOEf",
        "outputId": "f0c25793-b57e-440c-bb7a-52215473a156"
      },
      "id": "QUtnVXjNZOEf",
      "execution_count": null,
      "outputs": [
        {
          "output_type": "display_data",
          "data": {
            "text/plain": [
              "<Figure size 432x288 with 1 Axes>"
            ],
            "image/png": "[encoded data removed]"
          },
          "metadata": {
            "needs_background": "light"
          }
        }
      ]
    },
    {
      "cell_type": "markdown",
      "source": [
        "While the following graphs are not ideal to visualize this dataset, they are representations of what this library can do in terms of plotting. \n",
        "\n",
        "**DO NOT FORGET**: label your axes and title your graphs! Doing this is equivalent to commenting your code - it's crucial to let you know what you're looking at!"
      ],
      "metadata": {
        "id": "6VLvzu9Jck-a"
      },
      "id": "6VLvzu9Jck-a"
    },
    {
      "cell_type": "code",
      "source": [
        "# create a line graph\n",
        "\n",
        "plt.plot(x,y)"
      ],
      "metadata": {
        "colab": {
          "base_uri": "https://localhost:8080/",
          "height": 283
        },
        "id": "cXXR1TQacIc_",
        "outputId": "63f483d2-f7b0-4610-99ca-dc588d50b78e"
      },
      "id": "cXXR1TQacIc_",
      "execution_count": null,
      "outputs": [
        {
          "output_type": "execute_result",
          "data": {
            "text/plain": [
              "[<matplotlib.lines.Line2D at 0x7ffb716f0e10>]"
            ]
          },
          "metadata": {},
          "execution_count": 36
        },
        {
          "output_type": "display_data",
          "data": {
            "text/plain": [
              "<Figure size 432x288 with 1 Axes>"
            ],
            "image/png": "[encoded data removed]"
          },
          "metadata": {
            "needs_background": "light"
          }
        }
      ]
    },
    {
      "cell_type": "code",
      "source": [
        "# create a scatter plot\n",
        "\n",
        "plt.scatter(x,y)"
      ],
      "metadata": {
        "colab": {
          "base_uri": "https://localhost:8080/",
          "height": 283
        },
        "id": "mArOu3W-cb0Q",
        "outputId": "59ff1d97-1767-475b-c6ad-44108533e5cd"
      },
      "id": "mArOu3W-cb0Q",
      "execution_count": null,
      "outputs": [
        {
          "output_type": "execute_result",
          "data": {
            "text/plain": [
              "<matplotlib.collections.PathCollection at 0x7ffb7107ca50>"
            ]
          },
          "metadata": {},
          "execution_count": 37
        },
        {
          "output_type": "display_data",
          "data": {
            "text/plain": [
              "<Figure size 432x288 with 1 Axes>"
            ],
            "image/png": "[encoded data removed]"
          },
          "metadata": {
            "needs_background": "light"
          }
        }
      ]
    },
    {
      "cell_type": "markdown",
      "id": "c7f21545-f7b7-4402-a199-7adaee34c9f8",
      "metadata": {
        "id": "c7f21545-f7b7-4402-a199-7adaee34c9f8"
      },
      "source": [
        "## <a name=\"snek\"></a>Making Things Pythonic"
      ]
    },
    {
      "cell_type": "markdown",
      "source": [
        "##### **Lambda Expressions**"
      ],
      "metadata": {
        "id": "BZMFNiB5urGR"
      },
      "id": "BZMFNiB5urGR"
    },
    {
      "cell_type": "markdown",
      "source": [
        "Lambda expressions are single-expressioned anonymous functions that can take any series of arguments. They're very useful if you have that one quick thing that you want to do with a function."
      ],
      "metadata": {
        "id": "nCyqHW3UvAjz"
      },
      "id": "nCyqHW3UvAjz"
    },
    {
      "cell_type": "code",
      "source": [
        "# A Lambda Expression that returns the square of the sum of any two numbers\n",
        "\n",
        "x = lambda a,b : (a+b)**2\n",
        "print(x(1,3))"
      ],
      "metadata": {
        "colab": {
          "base_uri": "https://localhost:8080/"
        },
        "id": "b10xuhvpvcvQ",
        "outputId": "8b5ca883-e36c-42bc-ca43-c5f2811080af"
      },
      "id": "b10xuhvpvcvQ",
      "execution_count": null,
      "outputs": [
        {
          "output_type": "stream",
          "name": "stdout",
          "text": [
            "16\n"
          ]
        }
      ]
    },
    {
      "cell_type": "markdown",
      "source": [
        "##### **List Comprehensions**"
      ],
      "metadata": {
        "id": "f71f7cITux43"
      },
      "id": "f71f7cITux43"
    },
    {
      "cell_type": "markdown",
      "source": [
        "List comprehensions help create a new list based on the values of an existing list/range (essentially do the job of a for loop for any iterable).\n",
        "\n",
        "Here's the anatomy of a list comprehension in written form, but my personal favorite guide to writing them is the image below:\n",
        "\n",
        "new_list = [output for x in iterable if condition]\n",
        "\n",
        "![image.png](data:image/png;base64,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)"
      ],
      "metadata": {
        "id": "LelVfFCRwHXi"
      },
      "id": "LelVfFCRwHXi"
    },
    {
      "cell_type": "code",
      "source": [
        "# A list that records every instance of \"python\" in coding_langs as \"snek\"\n",
        "coding_langs = ['java', 'python', 'c++', 'python', 'cobol', 'javascript', 'c#', 'python', 'sql', 'python']\n",
        "sneky = ['snek' for x in coding_langs if x == 'python']\n",
        "\n",
        "print(sneky)"
      ],
      "metadata": {
        "colab": {
          "base_uri": "https://localhost:8080/"
        },
        "id": "FaXlWxi3xc5h",
        "outputId": "8f886464-6ae9-4678-bc3b-bae263c315d0"
      },
      "id": "FaXlWxi3xc5h",
      "execution_count": null,
      "outputs": [
        {
          "output_type": "stream",
          "name": "stdout",
          "text": [
            "['snek', 'snek', 'snek', 'snek']\n"
          ]
        }
      ]
    },
    {
      "cell_type": "markdown",
      "source": [
        "You can also do an if, else statement with a list comprehension."
      ],
      "metadata": {
        "id": "orB-ml3j0DAr"
      },
      "id": "orB-ml3j0DAr"
    },
    {
      "cell_type": "code",
      "source": [
        "# A list that changes every instance of \"python\" in coding_langs as \"snek\"\n",
        "coding_langs = ['java', 'python', 'c++', 'python', 'cobol', 'javascript', 'c#', 'python', 'sql', 'python']\n",
        "sneky = ['snek' if x == 'python' else x for x in coding_langs]\n",
        "\n",
        "print(sneky)"
      ],
      "metadata": {
        "colab": {
          "base_uri": "https://localhost:8080/"
        },
        "outputId": "8582d61d-21e6-447f-80ac-73cf1f18856e",
        "id": "2w_f6n890MI3"
      },
      "execution_count": null,
      "outputs": [
        {
          "output_type": "stream",
          "name": "stdout",
          "text": [
            "['java', 'snek', 'c++', 'snek', 'cobol', 'javascript', 'c#', 'snek', 'sql', 'snek']\n"
          ]
        }
      ],
      "id": "2w_f6n890MI3"
    },
    {
      "cell_type": "markdown",
      "id": "25b1bab9-c3d4-4bb6-889a-af044fbcfd41",
      "metadata": {
        "id": "25b1bab9-c3d4-4bb6-889a-af044fbcfd41"
      },
      "source": [
        "## Summing it Up"
      ]
    },
    {
      "cell_type": "markdown",
      "source": [
        "##### **Putting it all together - exercise 1**\n"
      ],
      "metadata": {
        "id": "BxyIlyk94Ry1"
      },
      "id": "BxyIlyk94Ry1"
    },
    {
      "cell_type": "markdown",
      "source": [
        "a) create a DataFrame from the following dictionary that documents the weekly weather in Bethesda, MD; all highs and lows are in Fahrenheit (data courtesy of wunderground.com)\n",
        "\n",
        "`{'date':['07/31/2022','08/01/2022','08/02/2022','08/03/2022','08/04/2022','08/05/2022','08/06/2022'], 'high': [85,89,92,91,94,91,88], 'low': [72,73,72,75,74,74,74], 'precipitation (in inches)': [0.00,0.48,0.51,0.00,0.00,0.93,0.00]}`\n",
        "\n",
        "b) print out the dataframe\n",
        "\n",
        "c) convert all of the dates in the dataframe to datetime objects\n",
        "\n",
        "d) analyze the data\n",
        "\n",
        "\n",
        "> i) What day of the week had the highest high? What day of the week had the lowest high? What was the difference in time between the two? (you should get a timedelta object for this question)\n",
        "\n",
        "> ii) Take a look at the precipitation - what is the average precipitation for the week?\n",
        "\n",
        "> iii) Add on the following data:\n",
        "\n",
        "`pd.Series({'date': '08/07/2022', 'high': 89, 'low': 76, 'precipitation (in inches)': 0.00)`\n",
        "\n",
        "> iv) Filter the dataframe to see the days with the highs greater than or equal to 90\n",
        "\n",
        "> v) Graph the highs for each day with the appropriate graph. **BE SURE TO INCLUDE TITLE AND LEGENDS**.\n",
        "\n",
        "\n",
        "\n",
        "\n",
        "\n",
        "\n",
        "\n"
      ],
      "metadata": {
        "id": "Jgnbstlnd4L5"
      },
      "id": "Jgnbstlnd4L5"
    },
    {
      "cell_type": "code",
      "source": [
        "# Enter Answer - a\n"
      ],
      "metadata": {
        "id": "WWopgTn4j2tR"
      },
      "id": "WWopgTn4j2tR",
      "execution_count": null,
      "outputs": []
    },
    {
      "cell_type": "code",
      "source": [
        "# Enter Answer - b\n"
      ],
      "metadata": {
        "id": "ca6R-O5Hj7CG"
      },
      "id": "ca6R-O5Hj7CG",
      "execution_count": null,
      "outputs": []
    },
    {
      "cell_type": "code",
      "source": [
        "# Enter Answer - c\n"
      ],
      "metadata": {
        "id": "BMSaRdcFj-sp"
      },
      "id": "BMSaRdcFj-sp",
      "execution_count": null,
      "outputs": []
    },
    {
      "cell_type": "code",
      "source": [
        "# Enter Answer - d(i)\n"
      ],
      "metadata": {
        "id": "FWfPGMWJkA3-"
      },
      "id": "FWfPGMWJkA3-",
      "execution_count": null,
      "outputs": []
    },
    {
      "cell_type": "code",
      "source": [
        "# Enter Answer - d(ii)\n"
      ],
      "metadata": {
        "id": "6vB4oZaskGaF"
      },
      "id": "6vB4oZaskGaF",
      "execution_count": null,
      "outputs": []
    },
    {
      "cell_type": "code",
      "source": [
        "# Enter Answer - d(iii)\n"
      ],
      "metadata": {
        "id": "RGCahtrxkJ9Y"
      },
      "id": "RGCahtrxkJ9Y",
      "execution_count": null,
      "outputs": []
    },
    {
      "cell_type": "code",
      "source": [
        "# Enter Answer - d(iv)\n"
      ],
      "metadata": {
        "id": "rX_cws-ikN7N"
      },
      "id": "rX_cws-ikN7N",
      "execution_count": null,
      "outputs": []
    },
    {
      "cell_type": "code",
      "source": [
        "# Enter Answer - d(v)\n"
      ],
      "metadata": {
        "id": "G3SzEZAZkRKR"
      },
      "id": "G3SzEZAZkRKR",
      "execution_count": null,
      "outputs": []
    },
    {
      "cell_type": "markdown",
      "source": [
        "##### **Working with financial data - exercise 2**"
      ],
      "metadata": {
        "id": "3__dUkUrhjkV"
      },
      "id": "3__dUkUrhjkV"
    },
    {
      "cell_type": "markdown",
      "source": [
        "**Download the monthly CRSP dataset**\n",
        "\n",
        "\n",
        "1.   Navigate to WRDS (https://wrds-www.wharton.upenn.edu/)\n",
        "2.   Enter the login credentials\n",
        "3. Click **CRSP** under Subscriptions\n",
        "4. Find **Treasuries** and then choose **Monthly Time Series**\n",
        "\n",
        "You should see the following query:\n",
        "![image.png](data:image/png;base64,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)\n",
        "\n"
      ],
      "metadata": {
        "id": "2WGKEnY6h8qx"
      },
      "id": "2WGKEnY6h8qx"
    },
    {
      "cell_type": "markdown",
      "source": [
        "5. This is the following information you want filled out for this query:\n",
        "\n",
        "\n",
        "> **Search Date**: Quotation Date\\\n",
        "> **Date Variable**: 1916-01-01 to 2021-12-31\\\n",
        "> **Query Variables**: Select all\\\n",
        "> **Output Format:** (*.csv)\\\n",
        "> **Compression Type:** (*.gz)\\\n",
        "> **Date Format:** YYMMDDn8\n",
        "\n",
        "6. Enter your email address in the box marked **E-Mail Address**\n",
        "7. Click the link and download!\n",
        "\n",
        "\n",
        "\n",
        "\n"
      ],
      "metadata": {
        "id": "0MIkEZVGlorS"
      },
      "id": "0MIkEZVGlorS"
    },
    {
      "cell_type": "markdown",
      "source": [
        "**Load the dataset**"
      ],
      "metadata": {
        "id": "Tb8z-vGl8yfQ"
      },
      "id": "Tb8z-vGl8yfQ"
    },
    {
      "cell_type": "code",
      "source": [
        "# use the pd.read_csv() and read in the file with the appropriate file path\n",
        "# only load the following columns CRSPID, TCOUPRT, ITYPE, IWHY, and TDATDT\n"
      ],
      "metadata": {
        "id": "sbgFRhzH830T"
      },
      "id": "sbgFRhzH830T",
      "execution_count": null,
      "outputs": []
    },
    {
      "cell_type": "markdown",
      "source": [
        "**Data Cleaning**"
      ],
      "metadata": {
        "id": "fRFIDL269dBT"
      },
      "id": "fRFIDL269dBT"
    },
    {
      "cell_type": "code",
      "source": [
        "# check the data types of all of the columns we read in - are they all appropriate given the variable descriptions? if not, correct them\n"
      ],
      "metadata": {
        "id": "Bo9AEbI8EjVL"
      },
      "id": "Bo9AEbI8EjVL",
      "execution_count": null,
      "outputs": []
    },
    {
      "cell_type": "markdown",
      "source": [
        "**Data Analysis**"
      ],
      "metadata": {
        "id": "Ktq_zCaNFw3X"
      },
      "id": "Ktq_zCaNFw3X"
    },
    {
      "cell_type": "markdown",
      "source": [
        "![image.png](data:image/png;base64,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)"
      ],
      "metadata": {
        "id": "qmaGwSKHFRPJ"
      },
      "id": "qmaGwSKHFRPJ"
    },
    {
      "cell_type": "code",
      "source": [
        "# using the table above, identify how many bonds fall into each category and which reason is the most frequest for end of data on file (excluding 0)\n"
      ],
      "metadata": {
        "id": "7j2I8dVqF82v"
      },
      "id": "7j2I8dVqF82v",
      "execution_count": null,
      "outputs": []
    },
    {
      "cell_type": "code",
      "source": [
        "# what is the highest coupon rate in the dataset? when was it recorded (weekday, month, day, year)?\n"
      ],
      "metadata": {
        "id": "lt8Pp07AGdNt"
      },
      "id": "lt8Pp07AGdNt",
      "execution_count": null,
      "outputs": []
    },
    {
      "cell_type": "code",
      "source": [
        "# identify how many treasury bonds are in this dataset. is each instance unique? what additional information might we need to ensure uniqueness? \n"
      ],
      "metadata": {
        "id": "9ZnTR936NFXU"
      },
      "id": "9ZnTR936NFXU",
      "execution_count": null,
      "outputs": []
    },
    {
      "cell_type": "code",
      "source": [
        "# aggregate the total number of bonds by month - what month has the highest number of bonds? plot the resulting information on an appropriate graph\n"
      ],
      "metadata": {
        "id": "uF6QDcPBOmHA"
      },
      "id": "uF6QDcPBOmHA",
      "execution_count": null,
      "outputs": []
    },
    {
      "cell_type": "markdown",
      "source": [
        "##### **Additional Python Data Analytics Exercise**\n",
        "Something you can definitely put on your resume"
      ],
      "metadata": {
        "id": "XNfXRZn_dldR"
      },
      "id": "XNfXRZn_dldR"
    },
    {
      "cell_type": "markdown",
      "source": [
        "Download a datset from Kaggle (it could be about anything - just make sure it has a data dictionary)\n",
        "\n",
        "Clean the data - is there anything inconsistent with the data dictionary? are there values that are kinda funky? - use your best judgement (and record why you did) to keep or remove them\n",
        "\n",
        "Explore your data - these are the easy statistics (mean, median, mode), are there trends?, if you're feeling spicy throw a linear regression in there and see if there's a strong correlation between any of the x's and the y\n",
        "\n",
        "Try and tell a story - at the end of the day, data analytics is all about storytelling. you want to be able to tell them why your numbers matter and why you put so much time into making decisions about a dataset that you most likely did not get to create. if you ever find yourself to be presenting to the C-suite about some numbers that you came up with it (first of all, super proud of you and second of all, be confident in your work), make it grippy and make it meaningful. your win will come from a straight-shot, easy-to-understand narrative that a 5 year-old could follow - think less words and more pretty pictures."
      ],
      "metadata": {
        "id": "JqJnoQdFdqrO"
      },
      "id": "JqJnoQdFdqrO"
    }
  ],
  "metadata": {
    "kernelspec": {
      "display_name": "Python 3 (ipykernel)",
      "language": "python",
      "name": "python3"
    },
    "language_info": {
      "codemirror_mode": {
        "name": "ipython",
        "version": 3
      },
      "file_extension": ".py",
      "mimetype": "text/x-python",
      "name": "python",
      "nbconvert_exporter": "python",
      "pygments_lexer": "ipython3",
      "version": "3.8.12"
    },
    "colab": {
      "name": "PythonBootcamp.ipynb",
      "provenance": [],
      "collapsed_sections": []
    }
  },
  "nbformat": 4,
  "nbformat_minor": 5
}
